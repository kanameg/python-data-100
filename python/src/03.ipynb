{
 "cells": [
  {
   "cell_type": "markdown",
   "metadata": {},
   "source": [
    "データを読み込む"
   ]
  },
  {
   "cell_type": "code",
   "execution_count": null,
   "metadata": {},
   "outputs": [],
   "source": [
    "import pandas as pd"
   ]
  },
  {
   "cell_type": "code",
   "execution_count": null,
   "metadata": {},
   "outputs": [],
   "source": [
    "use_log = pd.read_csv('./input/03/use_log.csv')\n",
    "use_log.head()"
   ]
  },
  {
   "cell_type": "code",
   "execution_count": null,
   "metadata": {},
   "outputs": [],
   "source": [
    "customer_master = pd.read_csv('./input/03/customer_master.csv')\n",
    "customer_master.head()"
   ]
  },
  {
   "cell_type": "code",
   "execution_count": null,
   "metadata": {},
   "outputs": [],
   "source": [
    "class_master = pd.read_csv('./input/03/class_master.csv')\n",
    "class_master.head()"
   ]
  },
  {
   "cell_type": "code",
   "execution_count": null,
   "metadata": {},
   "outputs": [],
   "source": [
    "campaign_master = pd.read_csv('./input/03/campaign_master.csv')\n",
    "campaign_master.head()"
   ]
  },
  {
   "cell_type": "markdown",
   "metadata": {},
   "source": [
    "顧客情報を可視化"
   ]
  },
  {
   "cell_type": "code",
   "execution_count": null,
   "metadata": {},
   "outputs": [],
   "source": [
    "customer_join = pd.merge(customer_master, campaign_master, on='campaign_id', how='left')\n",
    "customer_join = pd.merge(customer_join, class_master, on='class', how='left')\n",
    "customer_join.head()"
   ]
  },
  {
   "cell_type": "markdown",
   "metadata": {},
   "source": [
    "欠損の確認"
   ]
  },
  {
   "cell_type": "code",
   "execution_count": null,
   "metadata": {},
   "outputs": [],
   "source": [
    "customer_join.isnull().sum()"
   ]
  },
  {
   "cell_type": "markdown",
   "metadata": {},
   "source": [
    "`end_date`は退会してない顧客は`NaN`なので欠損値になる"
   ]
  },
  {
   "cell_type": "markdown",
   "metadata": {},
   "source": [
    "クラス単位で顧客を分類  \n",
    "可視化を行う"
   ]
  },
  {
   "cell_type": "code",
   "execution_count": null,
   "metadata": {},
   "outputs": [],
   "source": [
    "import matplotlib.pyplot as plt\n",
    "import matplotlib\n",
    "%matplotlib inline\n",
    "\n",
    "import seaborn as sns\n",
    "fonts = set([f.name for f in matplotlib.font_manager.fontManager.ttflist])\n",
    "print(fonts)"
   ]
  },
  {
   "cell_type": "code",
   "execution_count": null,
   "metadata": {},
   "outputs": [],
   "source": [
    "\n",
    "gender_class = customer_join.groupby('gender').count()['customer_id']\n",
    "print(gender_class)\n",
    "gender_class.plot.bar()\n",
    "plt.show()\n",
    "#sns.histplot(x='class_name', y='customer_id', data=customer_join)"
   ]
  },
  {
   "cell_type": "code",
   "execution_count": null,
   "metadata": {},
   "outputs": [],
   "source": [
    "sns.histplot(x='gender', data=customer_join)"
   ]
  },
  {
   "cell_type": "code",
   "execution_count": null,
   "metadata": {},
   "outputs": [],
   "source": [
    "customer_join.groupby('is_deleted').count()['customer_id']"
   ]
  },
  {
   "cell_type": "code",
   "execution_count": null,
   "metadata": {},
   "outputs": [],
   "source": [
    "customer_join.groupby('class_name').count()['customer_id']"
   ]
  },
  {
   "cell_type": "code",
   "execution_count": null,
   "metadata": {},
   "outputs": [],
   "source": [
    "customer_join.groupby('campaign_name').count()['customer_id']"
   ]
  },
  {
   "cell_type": "code",
   "execution_count": null,
   "metadata": {},
   "outputs": [],
   "source": [
    "customer_join.groupby('gender').count()['customer_id']"
   ]
  },
  {
   "cell_type": "markdown",
   "metadata": {},
   "source": [
    "最新のユーザ数を集計"
   ]
  },
  {
   "cell_type": "code",
   "execution_count": null,
   "metadata": {},
   "outputs": [],
   "source": [
    "customer_join['start_date'] = pd.to_datetime(customer_join['start_date'])\n",
    "customer_join['end_date'] = pd.to_datetime(customer_join['end_date'])\n",
    "customer_start = customer_join.loc[customer_join['start_date'] > pd.to_datetime('20180401')]\n",
    "print(len(customer_start))"
   ]
  },
  {
   "cell_type": "code",
   "execution_count": null,
   "metadata": {},
   "outputs": [],
   "source": [
    "customer_join.groupby('end_date').count()['customer_id']"
   ]
  },
  {
   "cell_type": "code",
   "execution_count": null,
   "metadata": {},
   "outputs": [],
   "source": [
    "customer_join.groupby('start_date').count()['customer_id']"
   ]
  },
  {
   "cell_type": "markdown",
   "metadata": {},
   "source": [
    "最新顧客データで集計を行う  \n",
    "今の顧客データから`2019/3/31`時点に在籍している顧客のみに限定"
   ]
  },
  {
   "cell_type": "code",
   "execution_count": null,
   "metadata": {},
   "outputs": [],
   "source": [
    "customer_current = customer_join.loc[(customer_join['end_date'] >= pd.to_datetime('20190331')) | (customer_join['end_date'].isna())]\n",
    "print(len(customer_current))\n",
    "customer_current['end_date'].unique()"
   ]
  },
  {
   "cell_type": "markdown",
   "metadata": {},
   "source": [
    "最新の顧客情報の集計"
   ]
  },
  {
   "cell_type": "code",
   "execution_count": null,
   "metadata": {},
   "outputs": [],
   "source": [
    "customer_current.groupby('gender').count()['customer_id']"
   ]
  },
  {
   "cell_type": "code",
   "execution_count": null,
   "metadata": {},
   "outputs": [],
   "source": [
    "customer_current.groupby('campaign_name').count()['customer_id']"
   ]
  },
  {
   "cell_type": "code",
   "execution_count": null,
   "metadata": {},
   "outputs": [],
   "source": [
    "customer_current.groupby('class_name').count()['customer_id']"
   ]
  },
  {
   "cell_type": "markdown",
   "metadata": {},
   "source": [
    "利用履歴データを使用する"
   ]
  },
  {
   "cell_type": "markdown",
   "metadata": {},
   "source": [
    "月別の`平均値`、`中央値`、`最大値`、`最小値`を集計してみる"
   ]
  },
  {
   "cell_type": "code",
   "execution_count": null,
   "metadata": {},
   "outputs": [],
   "source": [
    "use_log.info()"
   ]
  },
  {
   "cell_type": "code",
   "execution_count": null,
   "metadata": {},
   "outputs": [],
   "source": [
    "use_log"
   ]
  },
  {
   "cell_type": "code",
   "execution_count": null,
   "metadata": {},
   "outputs": [],
   "source": [
    "use_log['usedate'] = pd.to_datetime(use_log['usedate'])\n",
    "use_log['年月'] = use_log['usedate'].dt.strftime(\"%Y%m\")\n",
    "use_log_month = use_log.groupby(['年月', 'customer_id'], as_index=False).count()\n",
    "use_log_month.rename(columns={'log_id':'count'}, inplace=True)\n",
    "del use_log_month['usedate']\n",
    "use_log_month.head()"
   ]
  },
  {
   "cell_type": "code",
   "execution_count": null,
   "metadata": {},
   "outputs": [],
   "source": [
    "use_log_month"
   ]
  },
  {
   "cell_type": "markdown",
   "metadata": {},
   "source": [
    "ここから顧客毎に月の利用回数の`平均値`、`中央値`、`最大値`、`最小値`を集計する"
   ]
  },
  {
   "cell_type": "code",
   "execution_count": null,
   "metadata": {},
   "outputs": [],
   "source": [
    "use_log_customer = use_log_month.groupby('customer_id').agg(['mean', 'median', 'max', 'min'])['count']\n",
    "use_log_customer.reset_index(drop=False)\n",
    "use_log_customer.info()\n",
    "use_log_customer"
   ]
  },
  {
   "cell_type": "markdown",
   "metadata": {},
   "source": [
    "その顧客が定期利用者かどうかを判断するフラグを作成  \n",
    "毎週同じ曜日に利用しているかどうかで判断する  \n",
    "`0`から`6`で、月曜から日曜に対応する"
   ]
  },
  {
   "cell_type": "code",
   "execution_count": null,
   "metadata": {},
   "outputs": [],
   "source": [
    "use_log['weekday'] = use_log['usedate'].dt.weekday\n",
    "use_log_weekday = use_log.groupby(['customer_id', '年月', 'weekday'], as_index=False).count()[['customer_id', '年月', 'weekday', 'log_id']]\n",
    "use_log_weekday.rename(columns={'log_id':'count'}, inplace=True)"
   ]
  },
  {
   "cell_type": "code",
   "execution_count": null,
   "metadata": {},
   "outputs": [],
   "source": [
    "use_log_weekday"
   ]
  },
  {
   "cell_type": "markdown",
   "metadata": {},
   "source": [
    "`AS002855`は2018年の4月に土曜日(5)に4回ジムに来ている。5月にも土曜日4回来ている。"
   ]
  },
  {
   "cell_type": "code",
   "execution_count": null,
   "metadata": {},
   "outputs": [],
   "source": [
    "use_log_weekday = use_log_weekday.groupby('customer_id', as_index=False).max()[['customer_id', 'count']]\n",
    "use_log_weekday['routine_flag'] = 0\n",
    "use_log_weekday['routine_flag'] = use_log_weekday['routine_flag'].where(use_log_weekday['count']<4, 1)"
   ]
  },
  {
   "cell_type": "code",
   "execution_count": null,
   "metadata": {},
   "outputs": [],
   "source": [
    "use_log_weekday"
   ]
  },
  {
   "cell_type": "code",
   "execution_count": null,
   "metadata": {},
   "outputs": [],
   "source": []
  },
  {
   "cell_type": "markdown",
   "metadata": {},
   "source": [
    "`use_log_weekday`と`use_log_customer`を結合して`customer_join`を作成する"
   ]
  },
  {
   "cell_type": "code",
   "execution_count": null,
   "metadata": {},
   "outputs": [],
   "source": [
    "customer_join = pd.merge(customer_join, use_log_weekday, on='customer_id', how='left')\n",
    "customer_join = pd.merge(customer_join, use_log_customer, on='customer_id', how='left')\n",
    "customer_join"
   ]
  },
  {
   "cell_type": "code",
   "execution_count": null,
   "metadata": {},
   "outputs": [],
   "source": [
    "customer_join.isnull().sum()"
   ]
  },
  {
   "cell_type": "markdown",
   "metadata": {},
   "source": [
    "会員期間の計算  \n",
    "まだ退会していない会員は`end_date`が入ってないので、`2019-04-30`として計算する"
   ]
  },
  {
   "cell_type": "code",
   "execution_count": null,
   "metadata": {},
   "outputs": [],
   "source": [
    "from dateutil.relativedelta import relativedelta\n",
    "customer_join['calc_date'] = customer_join['end_date']\n",
    "customer_join['calc_date'] = customer_join['calc_date'].fillna(pd.to_datetime('20190430'))\n",
    "customer_join['membership_period'] = 0\n",
    "for i in range(len(customer_join)):\n",
    "    delta = relativedelta(customer_join['calc_date'].iloc[i], customer_join['start_date'].iloc[i])\n",
    "    customer_join['membership_period'].iloc[i] = delta.years*12 + delta.months"
   ]
  },
  {
   "cell_type": "code",
   "execution_count": null,
   "metadata": {},
   "outputs": [],
   "source": [
    "customer_join"
   ]
  },
  {
   "cell_type": "markdown",
   "metadata": {},
   "source": [
    "顧客行動の統計量をはかる"
   ]
  },
  {
   "cell_type": "code",
   "execution_count": null,
   "metadata": {},
   "outputs": [],
   "source": [
    "customer_join[['mean', 'median', 'max', 'min']].describe()"
   ]
  },
  {
   "cell_type": "code",
   "execution_count": null,
   "metadata": {},
   "outputs": [],
   "source": [
    "customer_join.groupby('routine_flag').count()['customer_id']"
   ]
  },
  {
   "cell_type": "markdown",
   "metadata": {},
   "source": [
    "定期的に利用している顧客の方がはるかに多い"
   ]
  },
  {
   "cell_type": "code",
   "execution_count": null,
   "metadata": {},
   "outputs": [],
   "source": [
    "import matplotlib.pyplot as plt\n",
    "%matplotlib inline\n",
    "import seaborn as sns\n",
    "plt.hist(customer_join['membership_period'])"
   ]
  },
  {
   "cell_type": "code",
   "execution_count": null,
   "metadata": {},
   "outputs": [],
   "source": [
    "sns.histplot(customer_join['membership_period'])"
   ]
  },
  {
   "cell_type": "markdown",
   "metadata": {},
   "source": [
    "10ヶ月以下の加入顧客が多く、10ヶ月以上になると横ばいになる。つまり短期で顧客が離れてい行くが、続ける顧客は長く加入していることを示す。"
   ]
  },
  {
   "cell_type": "code",
   "execution_count": null,
   "metadata": {},
   "outputs": [],
   "source": [
    "customer_end = customer_join.loc[~customer_join['end_date'].isna()]\n",
    "customer_end.describe()"
   ]
  },
  {
   "cell_type": "code",
   "execution_count": null,
   "metadata": {},
   "outputs": [],
   "source": [
    "customer_stay = customer_join.loc[customer_join['end_date'].isna()]\n",
    "customer_stay.describe()"
   ]
  },
  {
   "cell_type": "code",
   "execution_count": null,
   "metadata": {},
   "outputs": [],
   "source": [
    "customer_join.to_csv('./input/03/customer_join.csv', index=False)"
   ]
  },
  {
   "cell_type": "code",
   "execution_count": null,
   "metadata": {},
   "outputs": [],
   "source": []
  }
 ],
 "metadata": {
  "interpreter": {
   "hash": "949777d72b0d2535278d3dc13498b2535136f6dfe0678499012e853ee9abcab1"
  },
  "kernelspec": {
   "display_name": "Python 3.8.13 64-bit",
   "language": "python",
   "name": "python3"
  },
  "language_info": {
   "codemirror_mode": {
    "name": "ipython",
    "version": 3
   },
   "file_extension": ".py",
   "mimetype": "text/x-python",
   "name": "python",
   "nbconvert_exporter": "python",
   "pygments_lexer": "ipython3",
   "version": "3.8.13"
  },
  "orig_nbformat": 4
 },
 "nbformat": 4,
 "nbformat_minor": 2
}
