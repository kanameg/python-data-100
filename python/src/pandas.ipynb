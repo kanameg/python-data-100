{
 "cells": [
  {
   "cell_type": "code",
   "execution_count": 2,
   "metadata": {},
   "outputs": [],
   "source": [
    "import pandas as pd\n",
    "import numpy as np"
   ]
  },
  {
   "cell_type": "markdown",
   "metadata": {},
   "source": [
    "データを読み込む"
   ]
  },
  {
   "cell_type": "code",
   "execution_count": null,
   "metadata": {},
   "outputs": [],
   "source": [
    "df = pd.DataFrame({\n",
    "    'city': ['osaka', 'osaka', 'osaka', 'osaka', 'tokyo', 'tokyo', 'tokyo'],\n",
    "    'food': ['apple', 'orange', 'banana', 'banana', 'apple', 'apple', 'banana'],\n",
    "    'price': [100, 200, 250, 300, 150, 200, 400],\n",
    "    'quantity': [1, 2, 3, 4, 5, 6, 7]\n",
    "})\n",
    "df"
   ]
  },
  {
   "cell_type": "code",
   "execution_count": null,
   "metadata": {},
   "outputs": [],
   "source": [
    "df.columns"
   ]
  },
  {
   "cell_type": "code",
   "execution_count": null,
   "metadata": {},
   "outputs": [],
   "source": [
    "df.index"
   ]
  },
  {
   "cell_type": "markdown",
   "metadata": {},
   "source": [
    "`groupbye`を利用してカラムごとの集計を行う"
   ]
  },
  {
   "cell_type": "code",
   "execution_count": null,
   "metadata": {},
   "outputs": [],
   "source": [
    "df.groupby('city').agg('mean')"
   ]
  },
  {
   "cell_type": "markdown",
   "metadata": {},
   "source": [
    "複数グループラベルを指定することも可能"
   ]
  },
  {
   "cell_type": "code",
   "execution_count": null,
   "metadata": {},
   "outputs": [],
   "source": [
    "df.groupby(['city', 'food']).agg('mean')"
   ]
  },
  {
   "cell_type": "markdown",
   "metadata": {},
   "source": [
    "`groupby`すると勝手にグループラベルが`index`になってしまう。グループラベルをカラムにしたい場合は、`as_index=False`を指定する。"
   ]
  },
  {
   "cell_type": "code",
   "execution_count": null,
   "metadata": {},
   "outputs": [],
   "source": [
    "df.groupby('city', as_index=False).agg('mean')"
   ]
  },
  {
   "cell_type": "code",
   "execution_count": null,
   "metadata": {},
   "outputs": [],
   "source": [
    "df.groupby(['city', 'food'], as_index=False).agg('mean')"
   ]
  },
  {
   "cell_type": "markdown",
   "metadata": {},
   "source": [
    "ラベルの変更"
   ]
  },
  {
   "cell_type": "code",
   "execution_count": null,
   "metadata": {},
   "outputs": [],
   "source": [
    "df"
   ]
  },
  {
   "cell_type": "code",
   "execution_count": null,
   "metadata": {},
   "outputs": [],
   "source": [
    "df.rename(columns={'quantity':'quality'})"
   ]
  },
  {
   "cell_type": "code",
   "execution_count": null,
   "metadata": {},
   "outputs": [],
   "source": [
    "df"
   ]
  },
  {
   "cell_type": "code",
   "execution_count": 6,
   "metadata": {},
   "outputs": [
    {
     "name": "stderr",
     "output_type": "stream",
     "text": [
      "/usr/local/lib/python3.8/site-packages/IPython/core/interactiveshell.py:3398: DtypeWarning: Columns (16,27) have mixed types.Specify dtype option on import or set low_memory=False.\n",
      "  exec(code_obj, self.user_global_ns, self.user_ns)\n"
     ]
    }
   ],
   "source": [
    "header = ['一連番号', '法人番号', '処理区分', '訂正区分', '更新年月日', '変更年月日', '商号又は名称',\n",
    "    '商号又は名称イメージID', '法人種別',\n",
    "    '国内所在地（都道府県）', '国内所在地（市区町村）', '国内所在地（丁目番地等）', '国内所在地イメージID',\n",
    "    '都道府県コード', '市区町村コード', '郵便番号', '国外所在地', '国外所在地イメージID',\n",
    "    '登記記録の閉鎖等年月日', '登記記録の閉鎖等の事由', '承継先法人番号', '変更事由の詳細',\n",
    "    '法人番号指定年月日', '最新履歴', '商号又は名称（英語表記）', '国内所在地（都道府県）(英語表記）',\n",
    "    '国内所在地（市区町村丁目番地等）（英語表記）', '国外所在地（英語表記）', 'フリガナ', '検索対象除外']\n",
    "\n",
    "hojin_data = pd.read_csv('./input/00_zenkoku_all_20220531.csv', header=None, names=header)"
   ]
  },
  {
   "cell_type": "code",
   "execution_count": 8,
   "metadata": {},
   "outputs": [
    {
     "name": "stdout",
     "output_type": "stream",
     "text": [
      "<class 'pandas.core.frame.DataFrame'>\n",
      "RangeIndex: 5172495 entries, 0 to 5172494\n",
      "Data columns (total 30 columns):\n",
      " #   Column                  Dtype  \n",
      "---  ------                  -----  \n",
      " 0   一連番号                    int64  \n",
      " 1   法人番号                    int64  \n",
      " 2   処理区分                    int64  \n",
      " 3   訂正区分                    int64  \n",
      " 4   更新年月日                   object \n",
      " 5   変更年月日                   object \n",
      " 6   商号又は名称                  object \n",
      " 7   商号又は名称イメージID            float64\n",
      " 8   法人種別                    int64  \n",
      " 9   国内所在地（都道府県）             object \n",
      " 10  国内所在地（市区町村）             object \n",
      " 11  国内所在地（丁目番地等）            object \n",
      " 12  国内所在地イメージID             float64\n",
      " 13  都道府県コード                 float64\n",
      " 14  市区町村コード                 float64\n",
      " 15  郵便番号                    float64\n",
      " 16  国外所在地                   object \n",
      " 17  国外所在地イメージID             float64\n",
      " 18  登記記録の閉鎖等年月日             object \n",
      " 19  登記記録の閉鎖等の事由             float64\n",
      " 20  承継先法人番号                 float64\n",
      " 21  変更事由の詳細                 object \n",
      " 22  法人番号指定年月日               object \n",
      " 23  最新履歴                    int64  \n",
      " 24  商号又は名称（英語表記）            object \n",
      " 25  国内所在地（都道府県）(英語表記）       object \n",
      " 26  国内所在地（市区町村丁目番地等）（英語表記）  object \n",
      " 27  国外所在地（英語表記）             object \n",
      " 28  フリガナ                    object \n",
      " 29  検索対象除外                  int64  \n",
      "dtypes: float64(8), int64(7), object(15)\n",
      "memory usage: 1.2+ GB\n"
     ]
    }
   ],
   "source": [
    "hojin_data.info()"
   ]
  },
  {
   "cell_type": "code",
   "execution_count": 10,
   "metadata": {},
   "outputs": [
    {
     "data": {
      "text/plain": [
       "一連番号                            0\n",
       "法人番号                            0\n",
       "処理区分                            0\n",
       "訂正区分                            0\n",
       "更新年月日                           0\n",
       "変更年月日                           0\n",
       "商号又は名称                          0\n",
       "商号又は名称イメージID              5109955\n",
       "法人種別                            0\n",
       "国内所在地（都道府県）                  1699\n",
       "国内所在地（市区町村）                  1699\n",
       "国内所在地（丁目番地等）                 2443\n",
       "国内所在地イメージID               5121685\n",
       "都道府県コード                      1699\n",
       "市区町村コード                      1699\n",
       "郵便番号                         5047\n",
       "国外所在地                     5162323\n",
       "国外所在地イメージID               5172216\n",
       "登記記録の閉鎖等年月日               4753494\n",
       "登記記録の閉鎖等の事由               4753494\n",
       "承継先法人番号                   5137116\n",
       "変更事由の詳細                   5116580\n",
       "法人番号指定年月日                       0\n",
       "最新履歴                            0\n",
       "商号又は名称（英語表記）              5161366\n",
       "国内所在地（都道府県）(英語表記）         5161551\n",
       "国内所在地（市区町村丁目番地等）（英語表記）    5161551\n",
       "国外所在地（英語表記）               5172479\n",
       "フリガナ                      2828468\n",
       "検索対象除外                          0\n",
       "dtype: int64"
      ]
     },
     "execution_count": 10,
     "metadata": {},
     "output_type": "execute_result"
    }
   ],
   "source": [
    "hojin_data.isnull().sum()"
   ]
  },
  {
   "cell_type": "code",
   "execution_count": 17,
   "metadata": {},
   "outputs": [
    {
     "name": "stdout",
     "output_type": "stream",
     "text": [
      "<class 'pandas.core.frame.DataFrame'>\n",
      "Index: 47 entries, 北海道 to 沖縄\n",
      "Data columns (total 12 columns):\n",
      " #   Column            Non-Null Count  Dtype  \n",
      "---  ------            --------------  -----  \n",
      " 0   都道府県    軽乗用車保有台数  47 non-null     int64  \n",
      " 1   軽乗用車比率            47 non-null     float64\n",
      " 2   軽乗用車比率順位          47 non-null     int64  \n",
      " 3   軽貨物車保有台数          47 non-null     int64  \n",
      " 4   軽貨物車比率            47 non-null     float64\n",
      " 5   軽自動車保有台数合計        47 non-null     int64  \n",
      " 6   軽自動車保有台数順位        47 non-null     int64  \n",
      " 7   登録車保有台数           47 non-null     int64  \n",
      " 8   登録車保有台数順位         47 non-null     int64  \n",
      " 9   全自動車保有台数          47 non-null     int64  \n",
      " 10  軽自動車シェア           47 non-null     float64\n",
      " 11  軽自動車シェア順位         47 non-null     int64  \n",
      "dtypes: float64(3), int64(9)\n",
      "memory usage: 4.8+ KB\n"
     ]
    }
   ],
   "source": [
    "k2020 = pd.read_csv('./input/k/2020.tsv', sep=\"\\t\", thousands=',')\n",
    "k2020.info()"
   ]
  },
  {
   "cell_type": "code",
   "execution_count": 18,
   "metadata": {},
   "outputs": [
    {
     "data": {
      "text/html": [
       "<div>\n",
       "<style scoped>\n",
       "    .dataframe tbody tr th:only-of-type {\n",
       "        vertical-align: middle;\n",
       "    }\n",
       "\n",
       "    .dataframe tbody tr th {\n",
       "        vertical-align: top;\n",
       "    }\n",
       "\n",
       "    .dataframe thead th {\n",
       "        text-align: right;\n",
       "    }\n",
       "</style>\n",
       "<table border=\"1\" class=\"dataframe\">\n",
       "  <thead>\n",
       "    <tr style=\"text-align: right;\">\n",
       "      <th></th>\n",
       "      <th>都道府県    軽乗用車保有台数</th>\n",
       "      <th>軽乗用車比率</th>\n",
       "      <th>軽乗用車比率順位</th>\n",
       "      <th>軽貨物車保有台数</th>\n",
       "      <th>軽貨物車比率</th>\n",
       "      <th>軽自動車保有台数合計</th>\n",
       "      <th>軽自動車保有台数順位</th>\n",
       "      <th>登録車保有台数</th>\n",
       "      <th>登録車保有台数順位</th>\n",
       "      <th>全自動車保有台数</th>\n",
       "      <th>軽自動車シェア</th>\n",
       "      <th>軽自動車シェア順位</th>\n",
       "    </tr>\n",
       "  </thead>\n",
       "  <tbody>\n",
       "    <tr>\n",
       "      <th>北海道</th>\n",
       "      <td>905715</td>\n",
       "      <td>77.6</td>\n",
       "      <td>2</td>\n",
       "      <td>261286</td>\n",
       "      <td>22.4</td>\n",
       "      <td>1167001</td>\n",
       "      <td>6</td>\n",
       "      <td>2461093</td>\n",
       "      <td>5</td>\n",
       "      <td>3628094</td>\n",
       "      <td>32.2</td>\n",
       "      <td>45</td>\n",
       "    </tr>\n",
       "    <tr>\n",
       "      <th>青森</th>\n",
       "      <td>320880</td>\n",
       "      <td>70.5</td>\n",
       "      <td>32</td>\n",
       "      <td>134399</td>\n",
       "      <td>29.5</td>\n",
       "      <td>455279</td>\n",
       "      <td>32</td>\n",
       "      <td>522257</td>\n",
       "      <td>29</td>\n",
       "      <td>977536</td>\n",
       "      <td>46.6</td>\n",
       "      <td>19</td>\n",
       "    </tr>\n",
       "    <tr>\n",
       "      <th>岩手</th>\n",
       "      <td>313142</td>\n",
       "      <td>68.4</td>\n",
       "      <td>41</td>\n",
       "      <td>144516</td>\n",
       "      <td>31.6</td>\n",
       "      <td>457658</td>\n",
       "      <td>31</td>\n",
       "      <td>539448</td>\n",
       "      <td>27</td>\n",
       "      <td>997106</td>\n",
       "      <td>45.9</td>\n",
       "      <td>23</td>\n",
       "    </tr>\n",
       "    <tr>\n",
       "      <th>宮城</th>\n",
       "      <td>464250</td>\n",
       "      <td>74.3</td>\n",
       "      <td>14</td>\n",
       "      <td>160988</td>\n",
       "      <td>25.7</td>\n",
       "      <td>625238</td>\n",
       "      <td>22</td>\n",
       "      <td>1010878</td>\n",
       "      <td>15</td>\n",
       "      <td>1636116</td>\n",
       "      <td>38.2</td>\n",
       "      <td>37</td>\n",
       "    </tr>\n",
       "    <tr>\n",
       "      <th>秋田</th>\n",
       "      <td>247275</td>\n",
       "      <td>66.8</td>\n",
       "      <td>45</td>\n",
       "      <td>122661</td>\n",
       "      <td>33.2</td>\n",
       "      <td>369936</td>\n",
       "      <td>37</td>\n",
       "      <td>416345</td>\n",
       "      <td>37</td>\n",
       "      <td>786281</td>\n",
       "      <td>47.0</td>\n",
       "      <td>18</td>\n",
       "    </tr>\n",
       "  </tbody>\n",
       "</table>\n",
       "</div>"
      ],
      "text/plain": [
       "     都道府県    軽乗用車保有台数  軽乗用車比率  軽乗用車比率順位  軽貨物車保有台数  軽貨物車比率  軽自動車保有台数合計  \\\n",
       "北海道            905715    77.6         2    261286    22.4     1167001   \n",
       "青森             320880    70.5        32    134399    29.5      455279   \n",
       "岩手             313142    68.4        41    144516    31.6      457658   \n",
       "宮城             464250    74.3        14    160988    25.7      625238   \n",
       "秋田             247275    66.8        45    122661    33.2      369936   \n",
       "\n",
       "     軽自動車保有台数順位  登録車保有台数  登録車保有台数順位  全自動車保有台数  軽自動車シェア  軽自動車シェア順位  \n",
       "北海道           6  2461093          5   3628094     32.2         45  \n",
       "青森           32   522257         29    977536     46.6         19  \n",
       "岩手           31   539448         27    997106     45.9         23  \n",
       "宮城           22  1010878         15   1636116     38.2         37  \n",
       "秋田           37   416345         37    786281     47.0         18  "
      ]
     },
     "execution_count": 18,
     "metadata": {},
     "output_type": "execute_result"
    }
   ],
   "source": [
    "k2020.head()"
   ]
  },
  {
   "cell_type": "code",
   "execution_count": null,
   "metadata": {},
   "outputs": [],
   "source": []
  }
 ],
 "metadata": {
  "interpreter": {
   "hash": "949777d72b0d2535278d3dc13498b2535136f6dfe0678499012e853ee9abcab1"
  },
  "kernelspec": {
   "display_name": "Python 3.8.13 64-bit",
   "language": "python",
   "name": "python3"
  },
  "language_info": {
   "codemirror_mode": {
    "name": "ipython",
    "version": 3
   },
   "file_extension": ".py",
   "mimetype": "text/x-python",
   "name": "python",
   "nbconvert_exporter": "python",
   "pygments_lexer": "ipython3",
   "version": "3.8.13"
  },
  "orig_nbformat": 4
 },
 "nbformat": 4,
 "nbformat_minor": 2
}
