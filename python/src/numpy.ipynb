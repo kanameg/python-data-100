{
 "cells": [
  {
   "cell_type": "markdown",
   "metadata": {},
   "source": [
    "Numpyの学習"
   ]
  },
  {
   "cell_type": "code",
   "execution_count": 2,
   "metadata": {},
   "outputs": [],
   "source": [
    "import pandas as pd\n",
    "import numpy as np"
   ]
  },
  {
   "cell_type": "code",
   "execution_count": 3,
   "metadata": {},
   "outputs": [
    {
     "name": "stdout",
     "output_type": "stream",
     "text": [
      "[1, 2, 3, 4]\n",
      "<class 'numpy.ndarray'>\n",
      "[1 2 3 4]\n"
     ]
    }
   ],
   "source": [
    "list = [1, 2, 3, 4]\n",
    "print(list)\n",
    "\n",
    "nd_array = np.asarray(list)\n",
    "print(type(nd_array))\n",
    "print(nd_array)"
   ]
  },
  {
   "cell_type": "code",
   "execution_count": 4,
   "metadata": {},
   "outputs": [
    {
     "name": "stdout",
     "output_type": "stream",
     "text": [
      "[[1, 2, 3], [4, 5, 6], [7, 8, 9]]\n",
      "<class 'numpy.ndarray'>\n",
      "[[1 2 3]\n",
      " [4 5 6]\n",
      " [7 8 9]]\n",
      "[1 2 3]\n"
     ]
    }
   ],
   "source": [
    "array = [[1, 2, 3],\n",
    "[4, 5, 6],\n",
    "[7, 8, 9]]\n",
    "print(array)\n",
    "\n",
    "nd_array = np.asarray(array)\n",
    "print(type(nd_array))\n",
    "print(nd_array)\n",
    "print(nd_array[0])"
   ]
  },
  {
   "cell_type": "markdown",
   "metadata": {},
   "source": [
    "dtypeを使って事前に型を指定することも可能"
   ]
  },
  {
   "cell_type": "code",
   "execution_count": 5,
   "metadata": {},
   "outputs": [
    {
     "name": "stdout",
     "output_type": "stream",
     "text": [
      "[[1 2 3]\n",
      " [4 5 6]\n",
      " [7 8 9]]\n",
      "[[1, 2, 3], [4, 5, 6], [7, 8, 9]]\n",
      "[[1. 2. 3.]\n",
      " [4. 5. 6.]\n",
      " [7. 8. 9.]]\n",
      "[[1.0, 2.0, 3.0], [4.0, 5.0, 6.0], [7.0, 8.0, 9.0]]\n"
     ]
    }
   ],
   "source": [
    "array = [[1, 2, 3],\n",
    "[4, 5, 6],\n",
    "[7, 8, 9]]\n",
    "print(np.asarray(array, dtype=np.int64))\n",
    "print(np.asarray(array, dtype=np.int64).tolist())\n",
    "print(np.asarray(array, dtype=np.float64))\n",
    "print(np.asarray(array, dtype=np.float64).tolist())\n"
   ]
  },
  {
   "cell_type": "markdown",
   "metadata": {},
   "source": [
    "ndarrayの構造確認"
   ]
  },
  {
   "cell_type": "code",
   "execution_count": 6,
   "metadata": {},
   "outputs": [
    {
     "name": "stdout",
     "output_type": "stream",
     "text": [
      "3次元、2行、4列、int型\n",
      "[[[0 0 0 0]\n",
      "  [0 0 0 0]]\n",
      "\n",
      " [[0 0 0 0]\n",
      "  [0 0 0 0]]\n",
      "\n",
      " [[0 0 0 0]\n",
      "  [0 0 0 0]]]\n",
      "................................................................................\n",
      "次元:3\n",
      "要素数:24\n",
      "次元ごとの要素数:(3, 2, 4)\n",
      "バイト数:192\n",
      "dtype型:int64\n"
     ]
    }
   ],
   "source": [
    "print('3次元、2行、4列、int型')\n",
    "nda = np.zeros((3, 2, 4), dtype=np.int64)\n",
    "print(nda)\n",
    "print('.' * 80)\n",
    "print('次元:{}'.format(nda.ndim))\n",
    "print('要素数:{}'.format(nda.size))\n",
    "print('次元ごとの要素数:{}'.format(nda.shape))\n",
    "print('バイト数:{}'.format(nda.nbytes))\n",
    "print('dtype型:{}'.format(nda.dtype))"
   ]
  },
  {
   "cell_type": "markdown",
   "metadata": {},
   "source": [
    "#### 行、列の取り出し"
   ]
  },
  {
   "cell_type": "code",
   "execution_count": 7,
   "metadata": {},
   "outputs": [
    {
     "name": "stdout",
     "output_type": "stream",
     "text": [
      "[[ 1  2  3  4  5]\n",
      " [ 6  7  8  9 10]\n",
      " [11 12 13 14 15]\n",
      " [16 17 18 19 20]\n",
      " [21 22 23 24 25]]\n",
      "................................................................................\n",
      "1行: [1 2 3 4 5]\n",
      "1列: [ 1  6 11 16 21]\n",
      "5行: [21 22 23 24 25]\n",
      "5列: [ 5 10 15 20 25]\n",
      "3行3列: 13\n"
     ]
    }
   ],
   "source": [
    "list = [[1,2,3,4,5],\n",
    "        [6,7,8,9,10],\n",
    "        [11,12,13,14,15],\n",
    "        [16,17,18,19,20],\n",
    "        [21,22,23,24,25]]\n",
    "\n",
    "nda = np.asarray(list)\n",
    "print(nda)\n",
    "print('.' * 80)\n",
    "print('1行: {}'.format(nda[0,:]))\n",
    "print('1列: {}'.format(nda[:,0]))\n",
    "print('5行: {}'.format(nda[4,:]))\n",
    "print('5列: {}'.format(nda[:,4]))\n",
    "print('3行3列: {}'.format(nda[2,2]))"
   ]
  },
  {
   "cell_type": "markdown",
   "metadata": {},
   "source": [
    "数値演算"
   ]
  },
  {
   "cell_type": "code",
   "execution_count": 8,
   "metadata": {},
   "outputs": [
    {
     "name": "stdout",
     "output_type": "stream",
     "text": [
      "................................................................................\n",
      "add: [ 7  9 11 13 15]\n",
      "subtract: [-5 -5 -5 -5 -5]\n",
      "multiply: [ 6 14 24 36 50]\n",
      "divide: [0.16666667 0.28571429 0.375      0.44444444 0.5       ]\n",
      "mod: [0 1 2 1 0]\n",
      "power: [      1     128    6561  262144 9765625]\n",
      "sin: [-0.2794155   0.6569866   0.98935825  0.41211849 -0.54402111]\n"
     ]
    }
   ],
   "source": [
    "a = np.asarray([1, 2, 3, 4, 5])\n",
    "b = np.asarray([6, 7, 8, 9, 10])\n",
    "print('.' * 80)\n",
    "print('add: {}'.format(np.add(a, b)))\n",
    "print('subtract: {}'.format(np.subtract(a, b)))\n",
    "print('multiply: {}'.format(np.multiply(a, b)))\n",
    "print('divide: {}'.format(np.divide(a, b)))\n",
    "print('mod: {}'.format(np.mod(b, a)))\n",
    "print('power: {}'.format(np.power(a, b)))\n",
    "print('sin: {}'.format(np.sin(b)))\n"
   ]
  },
  {
   "cell_type": "markdown",
   "metadata": {},
   "source": [
    "ファイル入出力"
   ]
  },
  {
   "cell_type": "code",
   "execution_count": 11,
   "metadata": {},
   "outputs": [
    {
     "name": "stdout",
     "output_type": "stream",
     "text": [
      "[[ 1  2  3  4  5]\n",
      " [ 6  7  8  9 10]\n",
      " [11 12 13 14 15]\n",
      " [16 17 18 19 20]\n",
      " [21 22 23 24 25]]\n",
      "[[ 1.  2.  3.  4.  5.]\n",
      " [ 6.  7.  8.  9. 10.]\n",
      " [11. 12. 13. 14. 15.]\n",
      " [16. 17. 18. 19. 20.]\n",
      " [21. 22. 23. 24. 25.]]\n"
     ]
    }
   ],
   "source": [
    "list = [[1,2,3,4,5],\n",
    "        [6,7,8,9,10],\n",
    "        [11,12,13,14,15],\n",
    "        [16,17,18,19,20],\n",
    "        [21,22,23,24,25]]\n",
    "\n",
    "nda = np.asarray(list)\n",
    "\n",
    "np.save('nda.npy', nda)\n",
    "nda_loaded = np.load('nda.npy')\n",
    "print(nda_loaded)\n",
    "\n",
    "np.savetxt('ndatext.npy', nda)\n",
    "nda_loaded = np.loadtxt('ndatext.npy')\n",
    "print(nda_loaded)\n"
   ]
  }
 ],
 "metadata": {
  "interpreter": {
   "hash": "def1443cd7b0494ffc099209d4c7259e5a8304e131c4a6b9a38e7324fcb0905b"
  },
  "kernelspec": {
   "display_name": "Python 3.8.6 64-bit ('3.8.6': pyenv)",
   "name": "python3"
  },
  "language_info": {
   "codemirror_mode": {
    "name": "ipython",
    "version": 3
   },
   "file_extension": ".py",
   "mimetype": "text/x-python",
   "name": "python",
   "nbconvert_exporter": "python",
   "pygments_lexer": "ipython3",
   "version": "3.8.6"
  },
  "orig_nbformat": 4
 },
 "nbformat": 4,
 "nbformat_minor": 2
}
