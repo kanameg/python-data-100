{
 "cells": [
  {
   "cell_type": "markdown",
   "metadata": {},
   "source": [
    "011 データを読み込んでみる"
   ]
  },
  {
   "cell_type": "code",
   "execution_count": null,
   "metadata": {},
   "outputs": [],
   "source": [
    "import pandas as pd\n",
    "uriage_data = pd.read_csv('./input/02/uriage.csv')\n",
    "uriage_data.head()"
   ]
  },
  {
   "cell_type": "code",
   "execution_count": null,
   "metadata": {},
   "outputs": [],
   "source": [
    "uriage_data.info()"
   ]
  },
  {
   "cell_type": "markdown",
   "metadata": {},
   "source": [
    "`item_price`に欠損データ`NaN`のデータあることや`商`と`品`の間にスペースが入っているなど表記の揺れが大きいのが見て取れる  \n",
    "欠損データがある列は`float64`と判断される"
   ]
  },
  {
   "cell_type": "code",
   "execution_count": null,
   "metadata": {},
   "outputs": [],
   "source": [
    "print(pd.__version__)\n",
    "kokyaku_data = pd.read_excel('./input/02/kokyaku_daicho.xlsx')\n",
    "kokyaku_data.head()"
   ]
  },
  {
   "cell_type": "code",
   "execution_count": null,
   "metadata": {},
   "outputs": [],
   "source": [
    "kokyaku_data.info()"
   ]
  },
  {
   "cell_type": "markdown",
   "metadata": {},
   "source": [
    "欠損データはないが、スペースが入っていたり、登録日のフォーマットがまちまちだったりする"
   ]
  },
  {
   "cell_type": "markdown",
   "metadata": {},
   "source": [
    "012 データの揺れを確認\n"
   ]
  },
  {
   "cell_type": "code",
   "execution_count": null,
   "metadata": {},
   "outputs": [],
   "source": [
    "print(uriage_data['item_name'])"
   ]
  },
  {
   "cell_type": "code",
   "execution_count": null,
   "metadata": {},
   "outputs": [],
   "source": [
    "print(uriage_data['item_price'])"
   ]
  },
  {
   "cell_type": "markdown",
   "metadata": {},
   "source": [
    "013 データが欠損のまま集計"
   ]
  },
  {
   "cell_type": "code",
   "execution_count": null,
   "metadata": {},
   "outputs": [],
   "source": [
    "uriage_data['purchase_date']\n",
    "uriage_data['purchase_date'] = pd.to_datetime(uriage_data['purchase_date'])\n",
    "uriage_data['purchase_month'] = uriage_data['purchase_date'].dt.strftime(\"%Y%m\")\n",
    "res = uriage_data.pivot_table(index='purchase_month', columns='item_name', aggfunc='size', fill_value=0)\n",
    "res"
   ]
  },
  {
   "cell_type": "code",
   "execution_count": null,
   "metadata": {},
   "outputs": [],
   "source": [
    "res = uriage_data.pivot_table(index='purchase_month', columns='item_name', values='item_price', aggfunc='sum', fill_value=0)\n",
    "res"
   ]
  },
  {
   "cell_type": "markdown",
   "metadata": {},
   "source": [
    "014 商品名の揺れを補正する"
   ]
  },
  {
   "cell_type": "code",
   "execution_count": null,
   "metadata": {},
   "outputs": [],
   "source": [
    "print(pd.unique(uriage_data['item_name']))\n",
    "print(len(pd.unique(uriage_data.item_name)))"
   ]
  },
  {
   "cell_type": "markdown",
   "metadata": {},
   "source": [
    "戦略として、全角と半角スペースを除く、英字を半角大文字化すれば統一できそう"
   ]
  },
  {
   "cell_type": "code",
   "execution_count": null,
   "metadata": {},
   "outputs": [],
   "source": [
    "uriage_data['item_name'] = uriage_data['item_name'].str.upper()\n",
    "uriage_data['item_name'] = uriage_data['item_name'].str.replace('　', '')\n",
    "uriage_data['item_name'] = uriage_data['item_name'].str.replace(' ', '')\n",
    "print(pd.unique(uriage_data['item_name']))\n",
    "print(len(pd.unique(uriage_data.item_name)))"
   ]
  },
  {
   "cell_type": "markdown",
   "metadata": {},
   "source": [
    "商品名の揺れが補正されている"
   ]
  },
  {
   "cell_type": "markdown",
   "metadata": {},
   "source": [
    "015 金額の欠損値を補完しよう"
   ]
  },
  {
   "cell_type": "code",
   "execution_count": null,
   "metadata": {},
   "outputs": [],
   "source": [
    "uriage_data.isnull().any(axis=0)"
   ]
  },
  {
   "cell_type": "markdown",
   "metadata": {},
   "source": [
    "`item_price`に欠損があることがわかる。一覧で見ると結構抜けている"
   ]
  },
  {
   "cell_type": "code",
   "execution_count": null,
   "metadata": {},
   "outputs": [],
   "source": [
    "uriage_data['item_price']"
   ]
  },
  {
   "cell_type": "code",
   "execution_count": null,
   "metadata": {},
   "outputs": [],
   "source": [
    "flg_is_null = uriage_data['item_price'].isnull()\n",
    "for trg in list(uriage_data.loc[flg_is_null, 'item_name'].unique()):\n",
    "    price = uriage_data.loc[(~flg_is_null) & (uriage_data['item_name'] == trg), 'item_price'].max()\n",
    "    uriage_data.loc[(flg_is_null) & (uriage_data['item_name'] == trg), 'item_price'] = price\n",
    "    \n",
    "uriage_data.isnull().any(axis=0)\n",
    "\n"
   ]
  },
  {
   "cell_type": "markdown",
   "metadata": {},
   "source": [
    "最大値、最小値を確認してデータの補完状況を確認する"
   ]
  },
  {
   "cell_type": "code",
   "execution_count": null,
   "metadata": {},
   "outputs": [],
   "source": [
    "for trg in list(uriage_data['item_name'].sort_values().unique()):\n",
    "    print(trg + 'の最大値:' + str(uriage_data.loc[uriage_data['item_name']==trg]['item_price'].max()) + ' 最小値:' + str(uriage_data.loc[uriage_data['item_name']==trg]['item_price'].min(skipna=False)))\n"
   ]
  },
  {
   "cell_type": "markdown",
   "metadata": {},
   "source": [
    "016: 顧客名の揺れを補正する"
   ]
  },
  {
   "cell_type": "code",
   "execution_count": null,
   "metadata": {},
   "outputs": [],
   "source": [
    "kokyaku_data['顧客名'].head()"
   ]
  },
  {
   "cell_type": "code",
   "execution_count": null,
   "metadata": {},
   "outputs": [],
   "source": [
    "uriage_data['customer_name'].head()"
   ]
  },
  {
   "cell_type": "code",
   "execution_count": null,
   "metadata": {},
   "outputs": [],
   "source": [
    "kokyaku_data['顧客名'] = kokyaku_data['顧客名'].str.replace('　', '')\n",
    "kokyaku_data['顧客名'] = kokyaku_data['顧客名'].str.replace(' ', '')\n",
    "kokyaku_data['顧客名'].head()"
   ]
  },
  {
   "cell_type": "code",
   "execution_count": null,
   "metadata": {},
   "outputs": [],
   "source": [
    "print(kokyaku_data['顧客名'].unique())\n",
    "print(uriage_data['customer_name'].unique())"
   ]
  },
  {
   "cell_type": "markdown",
   "metadata": {},
   "source": [
    "017: 日付の揺れを補正する"
   ]
  },
  {
   "cell_type": "markdown",
   "metadata": {},
   "source": [
    "顧客台帳はExcelで作成されており、人が入力しているため日付入力にも揺れがある"
   ]
  },
  {
   "cell_type": "code",
   "execution_count": null,
   "metadata": {},
   "outputs": [],
   "source": [
    "print(uriage_data.columns)\n",
    "print(kokyaku_data.columns)\n"
   ]
  },
  {
   "cell_type": "code",
   "execution_count": null,
   "metadata": {},
   "outputs": [],
   "source": [
    "print(kokyaku_data['登録日'])"
   ]
  },
  {
   "cell_type": "code",
   "execution_count": null,
   "metadata": {},
   "outputs": [],
   "source": [
    "flg_is_serial= kokyaku_data['登録日'].astype('str').str.isdigit()\n",
    "flg_is_serial= kokyaku_data['登録日'].astype('str').str.isdigit()\n",
    "print(flg_is_serial)"
   ]
  },
  {
   "cell_type": "code",
   "execution_count": null,
   "metadata": {},
   "outputs": [],
   "source": [
    "from_serial = pd.to_timedelta(kokyaku_data.loc[flg_is_serial, '登録日'].astype('float64'), unit='D') + pd.to_datetime('1900/1/1')\n",
    "from_serial"
   ]
  },
  {
   "cell_type": "code",
   "execution_count": null,
   "metadata": {},
   "outputs": [],
   "source": [
    "from_string = pd.to_datetime(kokyaku_data.loc[~flg_is_serial, '登録日'])\n",
    "from_string"
   ]
  },
  {
   "cell_type": "code",
   "execution_count": null,
   "metadata": {},
   "outputs": [],
   "source": [
    "kokyaku_data['登録日'] = pd.concat([from_serial, from_string])\n",
    "kokyaku_data"
   ]
  },
  {
   "cell_type": "markdown",
   "metadata": {},
   "source": [
    "登録月の列を作成して集計を行う"
   ]
  },
  {
   "cell_type": "code",
   "execution_count": null,
   "metadata": {},
   "outputs": [],
   "source": [
    "kokyaku_data['登録年月'] = kokyaku_data['登録日'].dt.strftime(\"%Y%m\")\n",
    "result = kokyaku_data.groupby('登録年月').count()['顧客名']\n",
    "result"
   ]
  },
  {
   "cell_type": "code",
   "execution_count": null,
   "metadata": {},
   "outputs": [],
   "source": [
    "flg_is_serial = kokyaku_data['登録日'].astype('str').str.isdigit()\n",
    "flg_is_serial.sum()"
   ]
  },
  {
   "cell_type": "markdown",
   "metadata": {},
   "source": [
    "018 顧客名をキーにデータを結合する"
   ]
  },
  {
   "cell_type": "code",
   "execution_count": null,
   "metadata": {},
   "outputs": [],
   "source": [
    "join_data = pd.merge(uriage_data, kokyaku_data, left_on='customer_name', right_on='顧客名', how='left')\n",
    "join_data.drop('customer_name', axis=1)\n",
    "join_data"
   ]
  },
  {
   "cell_type": "markdown",
   "metadata": {},
   "source": [
    "019 クレンジングしたデータをダンプしておく"
   ]
  },
  {
   "cell_type": "code",
   "execution_count": null,
   "metadata": {},
   "outputs": [],
   "source": [
    "dump_data = join_data[['purchase_date', 'purchase_month', 'item_name', 'item_price', '顧客名', 'かな', '地域', 'メールアドレス', '登録日']]\n",
    "dump_data"
   ]
  },
  {
   "cell_type": "code",
   "execution_count": null,
   "metadata": {},
   "outputs": [],
   "source": [
    "dump_data.to_csv('./input/02/dump_data.csv', index=False)"
   ]
  },
  {
   "cell_type": "markdown",
   "metadata": {},
   "source": [
    "020 データを集計する"
   ]
  },
  {
   "cell_type": "code",
   "execution_count": null,
   "metadata": {},
   "outputs": [],
   "source": [
    "import_data = pd.read_csv('./input/02/dump_data.csv')\n",
    "import_data"
   ]
  },
  {
   "cell_type": "code",
   "execution_count": null,
   "metadata": {},
   "outputs": [],
   "source": [
    "by_item = import_data.pivot_table(index='purchase_month', columns='item_name', values='item_price', aggfunc='size', fill_value=0)\n",
    "by_item"
   ]
  },
  {
   "cell_type": "code",
   "execution_count": null,
   "metadata": {},
   "outputs": [],
   "source": [
    "by_price = import_data.pivot_table(index='purchase_month', columns='item_name', values='item_price', aggfunc='sum', fill_value=0)\n",
    "by_price"
   ]
  },
  {
   "cell_type": "code",
   "execution_count": null,
   "metadata": {},
   "outputs": [],
   "source": [
    "by_customer = import_data.pivot_table(index='purchase_month', columns='顧客名', values='item_price', aggfunc='size', fill_value=0)\n",
    "by_customer"
   ]
  },
  {
   "cell_type": "code",
   "execution_count": null,
   "metadata": {},
   "outputs": [],
   "source": [
    "by_region = import_data.pivot_table(index='purchase_month', columns='地域', values='item_price', aggfunc='size', fill_value=0)\n",
    "by_region"
   ]
  },
  {
   "cell_type": "markdown",
   "metadata": {},
   "source": [
    "期間内に購入のない顧客"
   ]
  },
  {
   "cell_type": "code",
   "execution_count": null,
   "metadata": {},
   "outputs": [],
   "source": [
    "away_data = pd.merge(uriage_data, kokyaku_data, left_on='customer_name', right_on='顧客名', how='right')\n",
    "print(away_data)\n",
    "away_data[away_data.purchase_date.isnull()][['顧客名', 'メールアドレス', '登録日']]"
   ]
  },
  {
   "cell_type": "code",
   "execution_count": null,
   "metadata": {},
   "outputs": [],
   "source": []
  }
 ],
 "metadata": {
  "interpreter": {
   "hash": "949777d72b0d2535278d3dc13498b2535136f6dfe0678499012e853ee9abcab1"
  },
  "kernelspec": {
   "display_name": "Python 3.8.13 64-bit",
   "language": "python",
   "name": "python3"
  },
  "language_info": {
   "codemirror_mode": {
    "name": "ipython",
    "version": 3
   },
   "file_extension": ".py",
   "mimetype": "text/x-python",
   "name": "python",
   "nbconvert_exporter": "python",
   "pygments_lexer": "ipython3",
   "version": "3.8.13"
  },
  "orig_nbformat": 4
 },
 "nbformat": 4,
 "nbformat_minor": 2
}
