{
 "cells": [
  {
   "cell_type": "markdown",
   "metadata": {},
   "source": [
    "データを読み込む"
   ]
  },
  {
   "cell_type": "code",
   "execution_count": 1,
   "metadata": {},
   "outputs": [],
   "source": [
    "import pandas as pd"
   ]
  },
  {
   "cell_type": "code",
   "execution_count": 3,
   "metadata": {},
   "outputs": [
    {
     "name": "stdout",
     "output_type": "stream",
     "text": [
      "        FCName  FCDemand FCRegion\n",
      "FCID                             \n",
      "FC00001   東京工場        28       関東\n",
      "FC00002  木更津工場        29       関東\n",
      "FC00003   多摩工場        31       関東\n",
      "FC00004  横須賀工場        25       関東\n",
      "FC00005   仙台工場        21       東北\n",
      "FC00006   山形工場        30       東北\n",
      "FC00007   那須工場        25       東北\n",
      "FC00008   青森工場        16       東北\n"
     ]
    }
   ],
   "source": [
    "factories = pd.read_csv('./input/06/tbl_factory.csv', index_col=0)\n",
    "print(factories)"
   ]
  },
  {
   "cell_type": "markdown",
   "metadata": {},
   "source": [
    "```\n",
    "FCID: 工場ID\n",
    "FCName: 工場名\n",
    "FCDemand: なんだろ???\n",
    "FCRegion: 工場の所属地域\n",
    "```"
   ]
  },
  {
   "cell_type": "code",
   "execution_count": 4,
   "metadata": {},
   "outputs": [
    {
     "name": "stdout",
     "output_type": "stream",
     "text": [
      "        WHName  WHSupply WHRegion\n",
      "WHID                             \n",
      "WH00001   杉並倉庫        35       関東\n",
      "WH00002   品川倉庫        41       関東\n",
      "WH00003   豊洲倉庫        42       関東\n",
      "WH00004   郡山倉庫        60       東北\n",
      "WH00005   仙台倉庫        72       東北\n",
      "WH00006   山形倉庫        65       東北\n"
     ]
    }
   ],
   "source": [
    "warehouse = pd.read_csv('./input/06/tbl_warehouse.csv', index_col=0)\n",
    "print(warehouse)"
   ]
  },
  {
   "cell_type": "markdown",
   "metadata": {},
   "source": [
    "```\n",
    "WHID: 倉庫ID\n",
    "WHName: 倉庫名\n",
    "WHSupply: なんだろ??\n",
    "WHRegion: 倉庫の所属地域\n",
    "```"
   ]
  },
  {
   "cell_type": "code",
   "execution_count": 6,
   "metadata": {},
   "outputs": [
    {
     "name": "stdout",
     "output_type": "stream",
     "text": [
      "            FCID     WHID  Cost\n",
      "RCostID                        \n",
      "1        FC00001  WH00001   0.4\n",
      "2        FC00001  WH00002   0.8\n",
      "3        FC00001  WH00003   1.5\n",
      "4        FC00002  WH00001   0.9\n",
      "5        FC00002  WH00002   0.8\n",
      "6        FC00002  WH00003   1.6\n",
      "7        FC00003  WH00001   1.2\n",
      "8        FC00003  WH00002   1.3\n",
      "9        FC00003  WH00003   1.5\n",
      "10       FC00004  WH00001   0.8\n",
      "11       FC00004  WH00002   1.0\n",
      "12       FC00004  WH00003   1.1\n",
      "13       FC00005  WH00004   0.8\n",
      "14       FC00005  WH00005   0.3\n",
      "15       FC00005  WH00006   1.4\n",
      "16       FC00006  WH00004   0.9\n",
      "17       FC00006  WH00005   1.1\n",
      "18       FC00006  WH00006   0.7\n",
      "19       FC00007  WH00004   0.9\n",
      "20       FC00007  WH00005   1.2\n",
      "21       FC00007  WH00006   1.3\n",
      "22       FC00008  WH00004   1.5\n",
      "23       FC00008  WH00005   1.2\n",
      "24       FC00008  WH00006   1.3\n"
     ]
    }
   ],
   "source": [
    "cost = pd.read_csv('./input/06/rel_cost.csv', index_col=0)\n",
    "print(cost)"
   ]
  },
  {
   "cell_type": "markdown",
   "metadata": {},
   "source": [
    "```\n",
    "工場と倉庫の間の輸送コストっぽい\n",
    "RCostID: ID\n",
    "FCID: 工場ID\n",
    "WHID: 倉庫ID\n",
    "Cost: 輸送コスト(単位不明)\n",
    "```"
   ]
  },
  {
   "cell_type": "code",
   "execution_count": 9,
   "metadata": {},
   "outputs": [
    {
     "name": "stdout",
     "output_type": "stream",
     "text": [
      "          TransactionDate     ToFC   FromWH  Quantity\n",
      "TRID                                                 \n",
      "0     2019-01-01 02:11:10  FC00004  WH00003        33\n",
      "1     2019-01-01 06:12:42  FC00007  WH00006        19\n",
      "2     2019-01-01 06:32:32  FC00006  WH00004        31\n",
      "3     2019-01-01 07:17:06  FC00002  WH00003        18\n",
      "4     2019-01-01 07:52:18  FC00001  WH00002        30\n",
      "...                   ...      ...      ...       ...\n",
      "3995  2019-12-31 11:27:51  FC00007  WH00006        29\n",
      "3996  2019-12-31 17:10:21  FC00002  WH00003        35\n",
      "3997  2019-12-31 19:35:07  FC00003  WH00001        36\n",
      "3998  2019-12-31 21:45:07  FC00005  WH00005        34\n",
      "3999  2019-12-31 23:19:37  FC00005  WH00005        16\n",
      "\n",
      "[4000 rows x 4 columns]\n"
     ]
    }
   ],
   "source": [
    "transactions = pd.read_csv('./input/06/tbl_transaction.csv', index_col=0)\n",
    "print(transactions)\n"
   ]
  },
  {
   "cell_type": "markdown",
   "metadata": {},
   "source": [
    "日付と、`工場ID`から`倉庫ID`までの輸送量`Quantity`だろう"
   ]
  },
  {
   "cell_type": "markdown",
   "metadata": {},
   "source": [
    "分析の基礎データは、`transactions`の輸送実績データとなる"
   ]
  },
  {
   "cell_type": "code",
   "execution_count": 11,
   "metadata": {},
   "outputs": [
    {
     "name": "stdout",
     "output_type": "stream",
     "text": [
      "          TransactionDate     ToFC   FromWH  Quantity     FCID     WHID  Cost\n",
      "0     2019-01-01 02:11:10  FC00004  WH00003        33  FC00004  WH00003   1.1\n",
      "1     2019-01-01 06:12:42  FC00007  WH00006        19  FC00007  WH00006   1.3\n",
      "2     2019-01-01 06:32:32  FC00006  WH00004        31  FC00006  WH00004   0.9\n",
      "3     2019-01-01 07:17:06  FC00002  WH00003        18  FC00002  WH00003   1.6\n",
      "4     2019-01-01 07:52:18  FC00001  WH00002        30  FC00001  WH00002   0.8\n",
      "...                   ...      ...      ...       ...      ...      ...   ...\n",
      "3995  2019-12-31 11:27:51  FC00007  WH00006        29  FC00007  WH00006   1.3\n",
      "3996  2019-12-31 17:10:21  FC00002  WH00003        35  FC00002  WH00003   1.6\n",
      "3997  2019-12-31 19:35:07  FC00003  WH00001        36  FC00003  WH00001   1.2\n",
      "3998  2019-12-31 21:45:07  FC00005  WH00005        34  FC00005  WH00005   0.3\n",
      "3999  2019-12-31 23:19:37  FC00005  WH00005        16  FC00005  WH00005   0.3\n",
      "\n",
      "[4000 rows x 7 columns]\n"
     ]
    }
   ],
   "source": [
    "join_transactions = pd.merge(transactions, cost, left_on=['ToFC', 'FromWH'], right_on=['FCID', 'WHID'], how='left')\n",
    "print(join_transactions)"
   ]
  },
  {
   "cell_type": "markdown",
   "metadata": {},
   "source": [
    "工場のデータを追加する"
   ]
  },
  {
   "cell_type": "code",
   "execution_count": 12,
   "metadata": {},
   "outputs": [
    {
     "name": "stdout",
     "output_type": "stream",
     "text": [
      "          TransactionDate     ToFC   FromWH  Quantity     FCID     WHID  Cost  \\\n",
      "0     2019-01-01 02:11:10  FC00004  WH00003        33  FC00004  WH00003   1.1   \n",
      "1     2019-01-01 06:12:42  FC00007  WH00006        19  FC00007  WH00006   1.3   \n",
      "2     2019-01-01 06:32:32  FC00006  WH00004        31  FC00006  WH00004   0.9   \n",
      "3     2019-01-01 07:17:06  FC00002  WH00003        18  FC00002  WH00003   1.6   \n",
      "4     2019-01-01 07:52:18  FC00001  WH00002        30  FC00001  WH00002   0.8   \n",
      "...                   ...      ...      ...       ...      ...      ...   ...   \n",
      "3995  2019-12-31 11:27:51  FC00007  WH00006        29  FC00007  WH00006   1.3   \n",
      "3996  2019-12-31 17:10:21  FC00002  WH00003        35  FC00002  WH00003   1.6   \n",
      "3997  2019-12-31 19:35:07  FC00003  WH00001        36  FC00003  WH00001   1.2   \n",
      "3998  2019-12-31 21:45:07  FC00005  WH00005        34  FC00005  WH00005   0.3   \n",
      "3999  2019-12-31 23:19:37  FC00005  WH00005        16  FC00005  WH00005   0.3   \n",
      "\n",
      "     FCName  FCDemand FCRegion  \n",
      "0     横須賀工場        25       関東  \n",
      "1      那須工場        25       東北  \n",
      "2      山形工場        30       東北  \n",
      "3     木更津工場        29       関東  \n",
      "4      東京工場        28       関東  \n",
      "...     ...       ...      ...  \n",
      "3995   那須工場        25       東北  \n",
      "3996  木更津工場        29       関東  \n",
      "3997   多摩工場        31       関東  \n",
      "3998   仙台工場        21       東北  \n",
      "3999   仙台工場        21       東北  \n",
      "\n",
      "[4000 rows x 10 columns]\n"
     ]
    }
   ],
   "source": [
    "join_transactions = pd.merge(join_transactions, factories, left_on='ToFC', right_on='FCID', how='left')\n",
    "print(join_transactions)"
   ]
  },
  {
   "cell_type": "markdown",
   "metadata": {},
   "source": [
    "倉庫情報も追加する"
   ]
  },
  {
   "cell_type": "code",
   "execution_count": 13,
   "metadata": {},
   "outputs": [
    {
     "name": "stdout",
     "output_type": "stream",
     "text": [
      "          TransactionDate     ToFC   FromWH  Quantity     FCID     WHID  Cost  \\\n",
      "0     2019-01-01 02:11:10  FC00004  WH00003        33  FC00004  WH00003   1.1   \n",
      "1     2019-01-01 06:12:42  FC00007  WH00006        19  FC00007  WH00006   1.3   \n",
      "2     2019-01-01 06:32:32  FC00006  WH00004        31  FC00006  WH00004   0.9   \n",
      "3     2019-01-01 07:17:06  FC00002  WH00003        18  FC00002  WH00003   1.6   \n",
      "4     2019-01-01 07:52:18  FC00001  WH00002        30  FC00001  WH00002   0.8   \n",
      "...                   ...      ...      ...       ...      ...      ...   ...   \n",
      "3995  2019-12-31 11:27:51  FC00007  WH00006        29  FC00007  WH00006   1.3   \n",
      "3996  2019-12-31 17:10:21  FC00002  WH00003        35  FC00002  WH00003   1.6   \n",
      "3997  2019-12-31 19:35:07  FC00003  WH00001        36  FC00003  WH00001   1.2   \n",
      "3998  2019-12-31 21:45:07  FC00005  WH00005        34  FC00005  WH00005   0.3   \n",
      "3999  2019-12-31 23:19:37  FC00005  WH00005        16  FC00005  WH00005   0.3   \n",
      "\n",
      "     FCName  FCDemand FCRegion WHName  WHSupply WHRegion  \n",
      "0     横須賀工場        25       関東   豊洲倉庫        42       関東  \n",
      "1      那須工場        25       東北   山形倉庫        65       東北  \n",
      "2      山形工場        30       東北   郡山倉庫        60       東北  \n",
      "3     木更津工場        29       関東   豊洲倉庫        42       関東  \n",
      "4      東京工場        28       関東   品川倉庫        41       関東  \n",
      "...     ...       ...      ...    ...       ...      ...  \n",
      "3995   那須工場        25       東北   山形倉庫        65       東北  \n",
      "3996  木更津工場        29       関東   豊洲倉庫        42       関東  \n",
      "3997   多摩工場        31       関東   杉並倉庫        35       関東  \n",
      "3998   仙台工場        21       東北   仙台倉庫        72       東北  \n",
      "3999   仙台工場        21       東北   仙台倉庫        72       東北  \n",
      "\n",
      "[4000 rows x 13 columns]\n"
     ]
    }
   ],
   "source": [
    "join_transactions = pd.merge(join_transactions, warehouse, left_on='FromWH', right_on='WHID', how='left')\n",
    "print(join_transactions)"
   ]
  },
  {
   "cell_type": "markdown",
   "metadata": {},
   "source": [
    "不要なカラムを削除"
   ]
  },
  {
   "cell_type": "code",
   "execution_count": 15,
   "metadata": {},
   "outputs": [
    {
     "name": "stdout",
     "output_type": "stream",
     "text": [
      "          TransactionDate FCName  WHSupply  Cost WHName  FCDemand WHRegion  \\\n",
      "0     2019-01-01 02:11:10  横須賀工場        42   1.1   豊洲倉庫        25       関東   \n",
      "1     2019-01-01 06:12:42   那須工場        65   1.3   山形倉庫        25       東北   \n",
      "2     2019-01-01 06:32:32   山形工場        60   0.9   郡山倉庫        30       東北   \n",
      "3     2019-01-01 07:17:06  木更津工場        42   1.6   豊洲倉庫        29       関東   \n",
      "4     2019-01-01 07:52:18   東京工場        41   0.8   品川倉庫        28       関東   \n",
      "...                   ...    ...       ...   ...    ...       ...      ...   \n",
      "3995  2019-12-31 11:27:51   那須工場        65   1.3   山形倉庫        25       東北   \n",
      "3996  2019-12-31 17:10:21  木更津工場        42   1.6   豊洲倉庫        29       関東   \n",
      "3997  2019-12-31 19:35:07   多摩工場        35   1.2   杉並倉庫        31       関東   \n",
      "3998  2019-12-31 21:45:07   仙台工場        72   0.3   仙台倉庫        21       東北   \n",
      "3999  2019-12-31 23:19:37   仙台工場        72   0.3   仙台倉庫        21       東北   \n",
      "\n",
      "       FromWH  Quantity     ToFC  \n",
      "0     WH00003        33  FC00004  \n",
      "1     WH00006        19  FC00007  \n",
      "2     WH00004        31  FC00006  \n",
      "3     WH00003        18  FC00002  \n",
      "4     WH00002        30  FC00001  \n",
      "...       ...       ...      ...  \n",
      "3995  WH00006        29  FC00007  \n",
      "3996  WH00003        35  FC00002  \n",
      "3997  WH00001        36  FC00003  \n",
      "3998  WH00005        34  FC00005  \n",
      "3999  WH00005        16  FC00005  \n",
      "\n",
      "[4000 rows x 10 columns]\n"
     ]
    }
   ],
   "source": [
    "join_transactions = join_transactions[{'TransactionDate', 'Quantity', 'Cost', 'ToFC', 'FCName', 'FCDemand', 'FromWH', 'WHName', 'WHSupply', 'WHRegion'}]\n",
    "print(join_transactions)"
   ]
  },
  {
   "cell_type": "code",
   "execution_count": 16,
   "metadata": {},
   "outputs": [
    {
     "name": "stdout",
     "output_type": "stream",
     "text": [
      "          TransactionDate FCName  WHSupply  Cost WHName  FCDemand WHRegion  \\\n",
      "0     2019-01-01 02:11:10  横須賀工場        42   1.1   豊洲倉庫        25       関東   \n",
      "3     2019-01-01 07:17:06  木更津工場        42   1.6   豊洲倉庫        29       関東   \n",
      "4     2019-01-01 07:52:18   東京工場        41   0.8   品川倉庫        28       関東   \n",
      "7     2019-01-01 09:09:30   東京工場        42   1.5   豊洲倉庫        28       関東   \n",
      "8     2019-01-01 10:52:55   多摩工場        42   1.5   豊洲倉庫        31       関東   \n",
      "...                   ...    ...       ...   ...    ...       ...      ...   \n",
      "3984  2019-12-30 12:29:42  木更津工場        35   0.9   杉並倉庫        29       関東   \n",
      "3987  2019-12-30 17:51:24   多摩工場        41   1.3   品川倉庫        31       関東   \n",
      "3992  2019-12-31 01:50:16   東京工場        41   0.8   品川倉庫        28       関東   \n",
      "3996  2019-12-31 17:10:21  木更津工場        42   1.6   豊洲倉庫        29       関東   \n",
      "3997  2019-12-31 19:35:07   多摩工場        35   1.2   杉並倉庫        31       関東   \n",
      "\n",
      "       FromWH  Quantity     ToFC  \n",
      "0     WH00003        33  FC00004  \n",
      "3     WH00003        18  FC00002  \n",
      "4     WH00002        30  FC00001  \n",
      "7     WH00003        12  FC00001  \n",
      "8     WH00003        27  FC00003  \n",
      "...       ...       ...      ...  \n",
      "3984  WH00001        22  FC00002  \n",
      "3987  WH00002        32  FC00003  \n",
      "3992  WH00002        33  FC00001  \n",
      "3996  WH00003        35  FC00002  \n",
      "3997  WH00001        36  FC00003  \n",
      "\n",
      "[2000 rows x 10 columns]\n"
     ]
    }
   ],
   "source": [
    "join_kanto = join_transactions.loc[join_transactions['WHRegion'] == '関東']\n",
    "print(join_kanto)"
   ]
  },
  {
   "cell_type": "code",
   "execution_count": 17,
   "metadata": {},
   "outputs": [
    {
     "name": "stdout",
     "output_type": "stream",
     "text": [
      "          TransactionDate FCName  WHSupply  Cost WHName  FCDemand WHRegion  \\\n",
      "1     2019-01-01 06:12:42   那須工場        65   1.3   山形倉庫        25       東北   \n",
      "2     2019-01-01 06:32:32   山形工場        60   0.9   郡山倉庫        30       東北   \n",
      "5     2019-01-01 08:56:09   仙台工場        72   0.3   仙台倉庫        21       東北   \n",
      "6     2019-01-01 09:00:15   山形工場        65   0.7   山形倉庫        30       東北   \n",
      "9     2019-01-01 14:12:51   山形工場        65   0.7   山形倉庫        30       東北   \n",
      "...                   ...    ...       ...   ...    ...       ...      ...   \n",
      "3993  2019-12-31 03:35:04   山形工場        65   0.7   山形倉庫        30       東北   \n",
      "3994  2019-12-31 07:05:56   仙台工場        60   0.8   郡山倉庫        21       東北   \n",
      "3995  2019-12-31 11:27:51   那須工場        65   1.3   山形倉庫        25       東北   \n",
      "3998  2019-12-31 21:45:07   仙台工場        72   0.3   仙台倉庫        21       東北   \n",
      "3999  2019-12-31 23:19:37   仙台工場        72   0.3   仙台倉庫        21       東北   \n",
      "\n",
      "       FromWH  Quantity     ToFC  \n",
      "1     WH00006        19  FC00007  \n",
      "2     WH00004        31  FC00006  \n",
      "5     WH00005        31  FC00005  \n",
      "6     WH00006        33  FC00006  \n",
      "9     WH00006        21  FC00006  \n",
      "...       ...       ...      ...  \n",
      "3993  WH00006        20  FC00006  \n",
      "3994  WH00004        11  FC00005  \n",
      "3995  WH00006        29  FC00007  \n",
      "3998  WH00005        34  FC00005  \n",
      "3999  WH00005        16  FC00005  \n",
      "\n",
      "[2000 rows x 10 columns]\n"
     ]
    }
   ],
   "source": [
    "join_tohoku = join_transactions.loc[join_transactions['WHRegion'] == '東北']\n",
    "print(join_tohoku)"
   ]
  },
  {
   "cell_type": "markdown",
   "metadata": {},
   "source": [
    "年間の輸送量とコストを計算してみる"
   ]
  },
  {
   "cell_type": "code",
   "execution_count": null,
   "metadata": {},
   "outputs": [],
   "source": []
  }
 ],
 "metadata": {
  "kernelspec": {
   "display_name": "Python 3.8.13 64-bit",
   "language": "python",
   "name": "python3"
  },
  "language_info": {
   "codemirror_mode": {
    "name": "ipython",
    "version": 3
   },
   "file_extension": ".py",
   "mimetype": "text/x-python",
   "name": "python",
   "nbconvert_exporter": "python",
   "pygments_lexer": "ipython3",
   "version": "3.8.13"
  },
  "orig_nbformat": 4,
  "vscode": {
   "interpreter": {
    "hash": "949777d72b0d2535278d3dc13498b2535136f6dfe0678499012e853ee9abcab1"
   }
  }
 },
 "nbformat": 4,
 "nbformat_minor": 2
}
