{
 "cells": [
  {
   "cell_type": "markdown",
   "metadata": {},
   "source": [
    "001 データを読み込む"
   ]
  },
  {
   "cell_type": "code",
   "execution_count": 2,
   "metadata": {},
   "outputs": [
    {
     "data": {
      "text/html": [
       "<div>\n",
       "<style scoped>\n",
       "    .dataframe tbody tr th:only-of-type {\n",
       "        vertical-align: middle;\n",
       "    }\n",
       "\n",
       "    .dataframe tbody tr th {\n",
       "        vertical-align: top;\n",
       "    }\n",
       "\n",
       "    .dataframe thead th {\n",
       "        text-align: right;\n",
       "    }\n",
       "</style>\n",
       "<table border=\"1\" class=\"dataframe\">\n",
       "  <thead>\n",
       "    <tr style=\"text-align: right;\">\n",
       "      <th></th>\n",
       "      <th>customer_id</th>\n",
       "      <th>customer_name</th>\n",
       "      <th>registration_date</th>\n",
       "      <th>customer_name_kana</th>\n",
       "      <th>email</th>\n",
       "      <th>gender</th>\n",
       "      <th>age</th>\n",
       "      <th>birth</th>\n",
       "      <th>pref</th>\n",
       "    </tr>\n",
       "  </thead>\n",
       "  <tbody>\n",
       "    <tr>\n",
       "      <th>0</th>\n",
       "      <td>IK152942</td>\n",
       "      <td>平田 裕次郎</td>\n",
       "      <td>2019-01-01 00:25:33</td>\n",
       "      <td>ひらた ゆうじろう</td>\n",
       "      <td>hirata_yuujirou@example.com</td>\n",
       "      <td>M</td>\n",
       "      <td>29</td>\n",
       "      <td>1990/6/10</td>\n",
       "      <td>石川県</td>\n",
       "    </tr>\n",
       "    <tr>\n",
       "      <th>1</th>\n",
       "      <td>TS808488</td>\n",
       "      <td>田村 詩織</td>\n",
       "      <td>2019-01-01 01:13:45</td>\n",
       "      <td>たむら しおり</td>\n",
       "      <td>tamura_shiori@example.com</td>\n",
       "      <td>F</td>\n",
       "      <td>33</td>\n",
       "      <td>1986/5/20</td>\n",
       "      <td>東京都</td>\n",
       "    </tr>\n",
       "    <tr>\n",
       "      <th>2</th>\n",
       "      <td>AS834628</td>\n",
       "      <td>久野 由樹</td>\n",
       "      <td>2019-01-01 02:00:14</td>\n",
       "      <td>ひさの ゆき</td>\n",
       "      <td>hisano_yuki@example.com</td>\n",
       "      <td>F</td>\n",
       "      <td>63</td>\n",
       "      <td>1956/1/2</td>\n",
       "      <td>茨城県</td>\n",
       "    </tr>\n",
       "    <tr>\n",
       "      <th>3</th>\n",
       "      <td>AS345469</td>\n",
       "      <td>鶴岡 薫</td>\n",
       "      <td>2019-01-01 04:48:22</td>\n",
       "      <td>つるおか かおる</td>\n",
       "      <td>tsuruoka_kaoru@example.com</td>\n",
       "      <td>M</td>\n",
       "      <td>74</td>\n",
       "      <td>1945/3/25</td>\n",
       "      <td>東京都</td>\n",
       "    </tr>\n",
       "    <tr>\n",
       "      <th>4</th>\n",
       "      <td>GD892565</td>\n",
       "      <td>大内 高史</td>\n",
       "      <td>2019-01-01 04:54:51</td>\n",
       "      <td>おおうち たかし</td>\n",
       "      <td>oouchi_takashi@example.com</td>\n",
       "      <td>M</td>\n",
       "      <td>54</td>\n",
       "      <td>1965/8/5</td>\n",
       "      <td>千葉県</td>\n",
       "    </tr>\n",
       "  </tbody>\n",
       "</table>\n",
       "</div>"
      ],
      "text/plain": [
       "  customer_id customer_name    registration_date customer_name_kana  \\\n",
       "0    IK152942        平田 裕次郎  2019-01-01 00:25:33          ひらた ゆうじろう   \n",
       "1    TS808488         田村 詩織  2019-01-01 01:13:45            たむら しおり   \n",
       "2    AS834628         久野 由樹  2019-01-01 02:00:14             ひさの ゆき   \n",
       "3    AS345469          鶴岡 薫  2019-01-01 04:48:22           つるおか かおる   \n",
       "4    GD892565         大内 高史  2019-01-01 04:54:51           おおうち たかし   \n",
       "\n",
       "                         email gender  age      birth pref  \n",
       "0  hirata_yuujirou@example.com      M   29  1990/6/10  石川県  \n",
       "1    tamura_shiori@example.com      F   33  1986/5/20  東京都  \n",
       "2      hisano_yuki@example.com      F   63   1956/1/2  茨城県  \n",
       "3   tsuruoka_kaoru@example.com      M   74  1945/3/25  東京都  \n",
       "4   oouchi_takashi@example.com      M   54   1965/8/5  千葉県  "
      ]
     },
     "execution_count": 2,
     "metadata": {},
     "output_type": "execute_result"
    }
   ],
   "source": [
    "import pandas as pd\n",
    "customer_master = pd.read_csv('./input/01/customer_master.csv')\n",
    "customer_master.head()"
   ]
  },
  {
   "cell_type": "code",
   "execution_count": 3,
   "metadata": {},
   "outputs": [
    {
     "name": "stdout",
     "output_type": "stream",
     "text": [
      "<class 'pandas.core.frame.DataFrame'>\n",
      "RangeIndex: 5000 entries, 0 to 4999\n",
      "Data columns (total 9 columns):\n",
      " #   Column              Non-Null Count  Dtype \n",
      "---  ------              --------------  ----- \n",
      " 0   customer_id         5000 non-null   object\n",
      " 1   customer_name       5000 non-null   object\n",
      " 2   registration_date   5000 non-null   object\n",
      " 3   customer_name_kana  5000 non-null   object\n",
      " 4   email               5000 non-null   object\n",
      " 5   gender              5000 non-null   object\n",
      " 6   age                 5000 non-null   int64 \n",
      " 7   birth               5000 non-null   object\n",
      " 8   pref                5000 non-null   object\n",
      "dtypes: int64(1), object(8)\n",
      "memory usage: 351.7+ KB\n"
     ]
    }
   ],
   "source": [
    "customer_master.info()"
   ]
  },
  {
   "cell_type": "markdown",
   "metadata": {},
   "source": [
    "顧客マスターのデータは5000件で全カラム`Nan`がないことが判明\n",
    "\n",
    "`age`とか`registration_date`は数値や日付で読み込みたい"
   ]
  },
  {
   "cell_type": "markdown",
   "metadata": {},
   "source": [
    "他のデータも読み込む"
   ]
  },
  {
   "cell_type": "code",
   "execution_count": 4,
   "metadata": {},
   "outputs": [
    {
     "data": {
      "text/html": [
       "<div>\n",
       "<style scoped>\n",
       "    .dataframe tbody tr th:only-of-type {\n",
       "        vertical-align: middle;\n",
       "    }\n",
       "\n",
       "    .dataframe tbody tr th {\n",
       "        vertical-align: top;\n",
       "    }\n",
       "\n",
       "    .dataframe thead th {\n",
       "        text-align: right;\n",
       "    }\n",
       "</style>\n",
       "<table border=\"1\" class=\"dataframe\">\n",
       "  <thead>\n",
       "    <tr style=\"text-align: right;\">\n",
       "      <th></th>\n",
       "      <th>item_id</th>\n",
       "      <th>item_name</th>\n",
       "      <th>item_price</th>\n",
       "    </tr>\n",
       "  </thead>\n",
       "  <tbody>\n",
       "    <tr>\n",
       "      <th>0</th>\n",
       "      <td>S001</td>\n",
       "      <td>PC-A</td>\n",
       "      <td>50000</td>\n",
       "    </tr>\n",
       "    <tr>\n",
       "      <th>1</th>\n",
       "      <td>S002</td>\n",
       "      <td>PC-B</td>\n",
       "      <td>85000</td>\n",
       "    </tr>\n",
       "    <tr>\n",
       "      <th>2</th>\n",
       "      <td>S003</td>\n",
       "      <td>PC-C</td>\n",
       "      <td>120000</td>\n",
       "    </tr>\n",
       "    <tr>\n",
       "      <th>3</th>\n",
       "      <td>S004</td>\n",
       "      <td>PC-D</td>\n",
       "      <td>180000</td>\n",
       "    </tr>\n",
       "    <tr>\n",
       "      <th>4</th>\n",
       "      <td>S005</td>\n",
       "      <td>PC-E</td>\n",
       "      <td>210000</td>\n",
       "    </tr>\n",
       "  </tbody>\n",
       "</table>\n",
       "</div>"
      ],
      "text/plain": [
       "  item_id item_name  item_price\n",
       "0    S001      PC-A       50000\n",
       "1    S002      PC-B       85000\n",
       "2    S003      PC-C      120000\n",
       "3    S004      PC-D      180000\n",
       "4    S005      PC-E      210000"
      ]
     },
     "execution_count": 4,
     "metadata": {},
     "output_type": "execute_result"
    }
   ],
   "source": [
    "item_master = pd.read_csv('./input/01/item_master.csv')\n",
    "item_master.head()"
   ]
  },
  {
   "cell_type": "code",
   "execution_count": 5,
   "metadata": {},
   "outputs": [
    {
     "name": "stdout",
     "output_type": "stream",
     "text": [
      "<class 'pandas.core.frame.DataFrame'>\n",
      "RangeIndex: 5 entries, 0 to 4\n",
      "Data columns (total 3 columns):\n",
      " #   Column      Non-Null Count  Dtype \n",
      "---  ------      --------------  ----- \n",
      " 0   item_id     5 non-null      object\n",
      " 1   item_name   5 non-null      object\n",
      " 2   item_price  5 non-null      int64 \n",
      "dtypes: int64(1), object(2)\n",
      "memory usage: 248.0+ bytes\n"
     ]
    }
   ],
   "source": [
    "item_master.info()"
   ]
  },
  {
   "cell_type": "markdown",
   "metadata": {},
   "source": [
    "商品マスターは、5種類で、こちらもデータに`NaN`はなし"
   ]
  },
  {
   "cell_type": "markdown",
   "metadata": {},
   "source": [
    "取引データを読み込む  \n",
    "`取引ID`と、`取引価格`、`取引日`、`顧客ID`が格納されている"
   ]
  },
  {
   "cell_type": "code",
   "execution_count": 6,
   "metadata": {},
   "outputs": [
    {
     "data": {
      "text/html": [
       "<div>\n",
       "<style scoped>\n",
       "    .dataframe tbody tr th:only-of-type {\n",
       "        vertical-align: middle;\n",
       "    }\n",
       "\n",
       "    .dataframe tbody tr th {\n",
       "        vertical-align: top;\n",
       "    }\n",
       "\n",
       "    .dataframe thead th {\n",
       "        text-align: right;\n",
       "    }\n",
       "</style>\n",
       "<table border=\"1\" class=\"dataframe\">\n",
       "  <thead>\n",
       "    <tr style=\"text-align: right;\">\n",
       "      <th></th>\n",
       "      <th>transaction_id</th>\n",
       "      <th>price</th>\n",
       "      <th>payment_date</th>\n",
       "      <th>customer_id</th>\n",
       "    </tr>\n",
       "  </thead>\n",
       "  <tbody>\n",
       "    <tr>\n",
       "      <th>0</th>\n",
       "      <td>T0000000113</td>\n",
       "      <td>210000</td>\n",
       "      <td>2019-02-01 01:36:57</td>\n",
       "      <td>PL563502</td>\n",
       "    </tr>\n",
       "    <tr>\n",
       "      <th>1</th>\n",
       "      <td>T0000000114</td>\n",
       "      <td>50000</td>\n",
       "      <td>2019-02-01 01:37:23</td>\n",
       "      <td>HD678019</td>\n",
       "    </tr>\n",
       "    <tr>\n",
       "      <th>2</th>\n",
       "      <td>T0000000115</td>\n",
       "      <td>120000</td>\n",
       "      <td>2019-02-01 02:34:19</td>\n",
       "      <td>HD298120</td>\n",
       "    </tr>\n",
       "    <tr>\n",
       "      <th>3</th>\n",
       "      <td>T0000000116</td>\n",
       "      <td>210000</td>\n",
       "      <td>2019-02-01 02:47:23</td>\n",
       "      <td>IK452215</td>\n",
       "    </tr>\n",
       "    <tr>\n",
       "      <th>4</th>\n",
       "      <td>T0000000117</td>\n",
       "      <td>170000</td>\n",
       "      <td>2019-02-01 04:33:46</td>\n",
       "      <td>PL542865</td>\n",
       "    </tr>\n",
       "  </tbody>\n",
       "</table>\n",
       "</div>"
      ],
      "text/plain": [
       "  transaction_id   price         payment_date customer_id\n",
       "0    T0000000113  210000  2019-02-01 01:36:57    PL563502\n",
       "1    T0000000114   50000  2019-02-01 01:37:23    HD678019\n",
       "2    T0000000115  120000  2019-02-01 02:34:19    HD298120\n",
       "3    T0000000116  210000  2019-02-01 02:47:23    IK452215\n",
       "4    T0000000117  170000  2019-02-01 04:33:46    PL542865"
      ]
     },
     "execution_count": 6,
     "metadata": {},
     "output_type": "execute_result"
    }
   ],
   "source": [
    "transaction_1 = pd.read_csv('./input/01/transaction_1.csv')\n",
    "transaction_1.head()"
   ]
  },
  {
   "cell_type": "code",
   "execution_count": 7,
   "metadata": {},
   "outputs": [
    {
     "name": "stdout",
     "output_type": "stream",
     "text": [
      "<class 'pandas.core.frame.DataFrame'>\n",
      "RangeIndex: 5000 entries, 0 to 4999\n",
      "Data columns (total 4 columns):\n",
      " #   Column          Non-Null Count  Dtype \n",
      "---  ------          --------------  ----- \n",
      " 0   transaction_id  5000 non-null   object\n",
      " 1   price           5000 non-null   int64 \n",
      " 2   payment_date    5000 non-null   object\n",
      " 3   customer_id     5000 non-null   object\n",
      "dtypes: int64(1), object(3)\n",
      "memory usage: 156.4+ KB\n"
     ]
    }
   ],
   "source": [
    "transaction_1.info()"
   ]
  },
  {
   "cell_type": "code",
   "execution_count": 8,
   "metadata": {},
   "outputs": [
    {
     "data": {
      "text/html": [
       "<div>\n",
       "<style scoped>\n",
       "    .dataframe tbody tr th:only-of-type {\n",
       "        vertical-align: middle;\n",
       "    }\n",
       "\n",
       "    .dataframe tbody tr th {\n",
       "        vertical-align: top;\n",
       "    }\n",
       "\n",
       "    .dataframe thead th {\n",
       "        text-align: right;\n",
       "    }\n",
       "</style>\n",
       "<table border=\"1\" class=\"dataframe\">\n",
       "  <thead>\n",
       "    <tr style=\"text-align: right;\">\n",
       "      <th></th>\n",
       "      <th>transaction_id</th>\n",
       "      <th>price</th>\n",
       "      <th>payment_date</th>\n",
       "      <th>customer_id</th>\n",
       "    </tr>\n",
       "  </thead>\n",
       "  <tbody>\n",
       "    <tr>\n",
       "      <th>0</th>\n",
       "      <td>T0000005113</td>\n",
       "      <td>295000</td>\n",
       "      <td>2019-06-15 07:20:27</td>\n",
       "      <td>TS169261</td>\n",
       "    </tr>\n",
       "    <tr>\n",
       "      <th>1</th>\n",
       "      <td>T0000005114</td>\n",
       "      <td>50000</td>\n",
       "      <td>2019-06-15 07:35:47</td>\n",
       "      <td>HI599892</td>\n",
       "    </tr>\n",
       "    <tr>\n",
       "      <th>2</th>\n",
       "      <td>T0000005115</td>\n",
       "      <td>85000</td>\n",
       "      <td>2019-06-15 07:56:36</td>\n",
       "      <td>HI421757</td>\n",
       "    </tr>\n",
       "    <tr>\n",
       "      <th>3</th>\n",
       "      <td>T0000005116</td>\n",
       "      <td>50000</td>\n",
       "      <td>2019-06-15 08:40:55</td>\n",
       "      <td>OA386378</td>\n",
       "    </tr>\n",
       "    <tr>\n",
       "      <th>4</th>\n",
       "      <td>T0000005117</td>\n",
       "      <td>120000</td>\n",
       "      <td>2019-06-15 08:44:23</td>\n",
       "      <td>TS506913</td>\n",
       "    </tr>\n",
       "  </tbody>\n",
       "</table>\n",
       "</div>"
      ],
      "text/plain": [
       "  transaction_id   price         payment_date customer_id\n",
       "0    T0000005113  295000  2019-06-15 07:20:27    TS169261\n",
       "1    T0000005114   50000  2019-06-15 07:35:47    HI599892\n",
       "2    T0000005115   85000  2019-06-15 07:56:36    HI421757\n",
       "3    T0000005116   50000  2019-06-15 08:40:55    OA386378\n",
       "4    T0000005117  120000  2019-06-15 08:44:23    TS506913"
      ]
     },
     "execution_count": 8,
     "metadata": {},
     "output_type": "execute_result"
    }
   ],
   "source": [
    "transaction_2 = pd.read_csv('./input/01/transaction_2.csv')\n",
    "transaction_2.head()"
   ]
  },
  {
   "cell_type": "code",
   "execution_count": 9,
   "metadata": {},
   "outputs": [
    {
     "name": "stdout",
     "output_type": "stream",
     "text": [
      "<class 'pandas.core.frame.DataFrame'>\n",
      "RangeIndex: 1786 entries, 0 to 1785\n",
      "Data columns (total 4 columns):\n",
      " #   Column          Non-Null Count  Dtype \n",
      "---  ------          --------------  ----- \n",
      " 0   transaction_id  1786 non-null   object\n",
      " 1   price           1786 non-null   int64 \n",
      " 2   payment_date    1786 non-null   object\n",
      " 3   customer_id     1786 non-null   object\n",
      "dtypes: int64(1), object(3)\n",
      "memory usage: 55.9+ KB\n"
     ]
    }
   ],
   "source": [
    "transaction_2.info()"
   ]
  },
  {
   "cell_type": "markdown",
   "metadata": {},
   "source": [
    "取引の詳細データを読み込む  \n",
    "`詳細ID`と`取引ID`、その取引の`商品ID`と`数量`が格納されている  \n",
    "同じ`取引ID`で複数の`詳細ID`がある"
   ]
  },
  {
   "cell_type": "code",
   "execution_count": 10,
   "metadata": {},
   "outputs": [
    {
     "data": {
      "text/html": [
       "<div>\n",
       "<style scoped>\n",
       "    .dataframe tbody tr th:only-of-type {\n",
       "        vertical-align: middle;\n",
       "    }\n",
       "\n",
       "    .dataframe tbody tr th {\n",
       "        vertical-align: top;\n",
       "    }\n",
       "\n",
       "    .dataframe thead th {\n",
       "        text-align: right;\n",
       "    }\n",
       "</style>\n",
       "<table border=\"1\" class=\"dataframe\">\n",
       "  <thead>\n",
       "    <tr style=\"text-align: right;\">\n",
       "      <th></th>\n",
       "      <th>detail_id</th>\n",
       "      <th>transaction_id</th>\n",
       "      <th>item_id</th>\n",
       "      <th>quantity</th>\n",
       "    </tr>\n",
       "  </thead>\n",
       "  <tbody>\n",
       "    <tr>\n",
       "      <th>0</th>\n",
       "      <td>0</td>\n",
       "      <td>T0000000113</td>\n",
       "      <td>S005</td>\n",
       "      <td>1</td>\n",
       "    </tr>\n",
       "    <tr>\n",
       "      <th>1</th>\n",
       "      <td>1</td>\n",
       "      <td>T0000000114</td>\n",
       "      <td>S001</td>\n",
       "      <td>1</td>\n",
       "    </tr>\n",
       "    <tr>\n",
       "      <th>2</th>\n",
       "      <td>2</td>\n",
       "      <td>T0000000115</td>\n",
       "      <td>S003</td>\n",
       "      <td>1</td>\n",
       "    </tr>\n",
       "    <tr>\n",
       "      <th>3</th>\n",
       "      <td>3</td>\n",
       "      <td>T0000000116</td>\n",
       "      <td>S005</td>\n",
       "      <td>1</td>\n",
       "    </tr>\n",
       "    <tr>\n",
       "      <th>4</th>\n",
       "      <td>4</td>\n",
       "      <td>T0000000117</td>\n",
       "      <td>S002</td>\n",
       "      <td>2</td>\n",
       "    </tr>\n",
       "  </tbody>\n",
       "</table>\n",
       "</div>"
      ],
      "text/plain": [
       "   detail_id transaction_id item_id  quantity\n",
       "0          0    T0000000113    S005         1\n",
       "1          1    T0000000114    S001         1\n",
       "2          2    T0000000115    S003         1\n",
       "3          3    T0000000116    S005         1\n",
       "4          4    T0000000117    S002         2"
      ]
     },
     "execution_count": 10,
     "metadata": {},
     "output_type": "execute_result"
    }
   ],
   "source": [
    "transaction_detail_1 = pd.read_csv('./input/01/transaction_detail_1.csv')\n",
    "transaction_detail_1.head()"
   ]
  },
  {
   "cell_type": "code",
   "execution_count": 11,
   "metadata": {},
   "outputs": [
    {
     "name": "stdout",
     "output_type": "stream",
     "text": [
      "<class 'pandas.core.frame.DataFrame'>\n",
      "RangeIndex: 5000 entries, 0 to 4999\n",
      "Data columns (total 4 columns):\n",
      " #   Column          Non-Null Count  Dtype \n",
      "---  ------          --------------  ----- \n",
      " 0   detail_id       5000 non-null   int64 \n",
      " 1   transaction_id  5000 non-null   object\n",
      " 2   item_id         5000 non-null   object\n",
      " 3   quantity        5000 non-null   int64 \n",
      "dtypes: int64(2), object(2)\n",
      "memory usage: 156.4+ KB\n"
     ]
    }
   ],
   "source": [
    "transaction_detail_1.info()"
   ]
  },
  {
   "cell_type": "code",
   "execution_count": 12,
   "metadata": {},
   "outputs": [
    {
     "data": {
      "text/html": [
       "<div>\n",
       "<style scoped>\n",
       "    .dataframe tbody tr th:only-of-type {\n",
       "        vertical-align: middle;\n",
       "    }\n",
       "\n",
       "    .dataframe tbody tr th {\n",
       "        vertical-align: top;\n",
       "    }\n",
       "\n",
       "    .dataframe thead th {\n",
       "        text-align: right;\n",
       "    }\n",
       "</style>\n",
       "<table border=\"1\" class=\"dataframe\">\n",
       "  <thead>\n",
       "    <tr style=\"text-align: right;\">\n",
       "      <th></th>\n",
       "      <th>detail_id</th>\n",
       "      <th>transaction_id</th>\n",
       "      <th>item_id</th>\n",
       "      <th>quantity</th>\n",
       "    </tr>\n",
       "  </thead>\n",
       "  <tbody>\n",
       "    <tr>\n",
       "      <th>0</th>\n",
       "      <td>5000</td>\n",
       "      <td>T0000004870</td>\n",
       "      <td>S002</td>\n",
       "      <td>3</td>\n",
       "    </tr>\n",
       "    <tr>\n",
       "      <th>1</th>\n",
       "      <td>5001</td>\n",
       "      <td>T0000004871</td>\n",
       "      <td>S003</td>\n",
       "      <td>1</td>\n",
       "    </tr>\n",
       "    <tr>\n",
       "      <th>2</th>\n",
       "      <td>5002</td>\n",
       "      <td>T0000004872</td>\n",
       "      <td>S001</td>\n",
       "      <td>2</td>\n",
       "    </tr>\n",
       "    <tr>\n",
       "      <th>3</th>\n",
       "      <td>5003</td>\n",
       "      <td>T0000004873</td>\n",
       "      <td>S004</td>\n",
       "      <td>1</td>\n",
       "    </tr>\n",
       "    <tr>\n",
       "      <th>4</th>\n",
       "      <td>5004</td>\n",
       "      <td>T0000004874</td>\n",
       "      <td>S003</td>\n",
       "      <td>2</td>\n",
       "    </tr>\n",
       "  </tbody>\n",
       "</table>\n",
       "</div>"
      ],
      "text/plain": [
       "   detail_id transaction_id item_id  quantity\n",
       "0       5000    T0000004870    S002         3\n",
       "1       5001    T0000004871    S003         1\n",
       "2       5002    T0000004872    S001         2\n",
       "3       5003    T0000004873    S004         1\n",
       "4       5004    T0000004874    S003         2"
      ]
     },
     "execution_count": 12,
     "metadata": {},
     "output_type": "execute_result"
    }
   ],
   "source": [
    "transaction_detail_2 = pd.read_csv('./input/01/transaction_detail_2.csv')\n",
    "transaction_detail_2.head()"
   ]
  },
  {
   "cell_type": "code",
   "execution_count": 13,
   "metadata": {},
   "outputs": [
    {
     "name": "stdout",
     "output_type": "stream",
     "text": [
      "<class 'pandas.core.frame.DataFrame'>\n",
      "RangeIndex: 2144 entries, 0 to 2143\n",
      "Data columns (total 4 columns):\n",
      " #   Column          Non-Null Count  Dtype \n",
      "---  ------          --------------  ----- \n",
      " 0   detail_id       2144 non-null   int64 \n",
      " 1   transaction_id  2144 non-null   object\n",
      " 2   item_id         2144 non-null   object\n",
      " 3   quantity        2144 non-null   int64 \n",
      "dtypes: int64(2), object(2)\n",
      "memory usage: 67.1+ KB\n"
     ]
    }
   ],
   "source": [
    "transaction_detail_2.info()"
   ]
  },
  {
   "cell_type": "markdown",
   "metadata": {},
   "source": [
    "データの読み込み完了\n",
    "\n",
    "---\n",
    "---"
   ]
  },
  {
   "cell_type": "markdown",
   "metadata": {},
   "source": [
    "002 データを結合（ユニオン）する"
   ]
  },
  {
   "cell_type": "code",
   "execution_count": 14,
   "metadata": {},
   "outputs": [
    {
     "data": {
      "text/html": [
       "<div>\n",
       "<style scoped>\n",
       "    .dataframe tbody tr th:only-of-type {\n",
       "        vertical-align: middle;\n",
       "    }\n",
       "\n",
       "    .dataframe tbody tr th {\n",
       "        vertical-align: top;\n",
       "    }\n",
       "\n",
       "    .dataframe thead th {\n",
       "        text-align: right;\n",
       "    }\n",
       "</style>\n",
       "<table border=\"1\" class=\"dataframe\">\n",
       "  <thead>\n",
       "    <tr style=\"text-align: right;\">\n",
       "      <th></th>\n",
       "      <th>transaction_id</th>\n",
       "      <th>price</th>\n",
       "      <th>payment_date</th>\n",
       "      <th>customer_id</th>\n",
       "    </tr>\n",
       "  </thead>\n",
       "  <tbody>\n",
       "    <tr>\n",
       "      <th>0</th>\n",
       "      <td>T0000000113</td>\n",
       "      <td>210000</td>\n",
       "      <td>2019-02-01 01:36:57</td>\n",
       "      <td>PL563502</td>\n",
       "    </tr>\n",
       "    <tr>\n",
       "      <th>1</th>\n",
       "      <td>T0000000114</td>\n",
       "      <td>50000</td>\n",
       "      <td>2019-02-01 01:37:23</td>\n",
       "      <td>HD678019</td>\n",
       "    </tr>\n",
       "    <tr>\n",
       "      <th>2</th>\n",
       "      <td>T0000000115</td>\n",
       "      <td>120000</td>\n",
       "      <td>2019-02-01 02:34:19</td>\n",
       "      <td>HD298120</td>\n",
       "    </tr>\n",
       "    <tr>\n",
       "      <th>3</th>\n",
       "      <td>T0000000116</td>\n",
       "      <td>210000</td>\n",
       "      <td>2019-02-01 02:47:23</td>\n",
       "      <td>IK452215</td>\n",
       "    </tr>\n",
       "    <tr>\n",
       "      <th>4</th>\n",
       "      <td>T0000000117</td>\n",
       "      <td>170000</td>\n",
       "      <td>2019-02-01 04:33:46</td>\n",
       "      <td>PL542865</td>\n",
       "    </tr>\n",
       "  </tbody>\n",
       "</table>\n",
       "</div>"
      ],
      "text/plain": [
       "  transaction_id   price         payment_date customer_id\n",
       "0    T0000000113  210000  2019-02-01 01:36:57    PL563502\n",
       "1    T0000000114   50000  2019-02-01 01:37:23    HD678019\n",
       "2    T0000000115  120000  2019-02-01 02:34:19    HD298120\n",
       "3    T0000000116  210000  2019-02-01 02:47:23    IK452215\n",
       "4    T0000000117  170000  2019-02-01 04:33:46    PL542865"
      ]
     },
     "execution_count": 14,
     "metadata": {},
     "output_type": "execute_result"
    }
   ],
   "source": [
    "transaction = pd.concat([transaction_1, transaction_2], ignore_index=True)\n",
    "transaction.head()"
   ]
  },
  {
   "cell_type": "code",
   "execution_count": 15,
   "metadata": {},
   "outputs": [
    {
     "name": "stdout",
     "output_type": "stream",
     "text": [
      "<class 'pandas.core.frame.DataFrame'>\n",
      "RangeIndex: 6786 entries, 0 to 6785\n",
      "Data columns (total 4 columns):\n",
      " #   Column          Non-Null Count  Dtype \n",
      "---  ------          --------------  ----- \n",
      " 0   transaction_id  6786 non-null   object\n",
      " 1   price           6786 non-null   int64 \n",
      " 2   payment_date    6786 non-null   object\n",
      " 3   customer_id     6786 non-null   object\n",
      "dtypes: int64(1), object(3)\n",
      "memory usage: 212.2+ KB\n"
     ]
    }
   ],
   "source": [
    "transaction.info()"
   ]
  },
  {
   "cell_type": "markdown",
   "metadata": {},
   "source": [
    "5000件と1786件のデータが結合され、6786件の取引データになっている"
   ]
  },
  {
   "cell_type": "code",
   "execution_count": 16,
   "metadata": {},
   "outputs": [
    {
     "data": {
      "text/html": [
       "<div>\n",
       "<style scoped>\n",
       "    .dataframe tbody tr th:only-of-type {\n",
       "        vertical-align: middle;\n",
       "    }\n",
       "\n",
       "    .dataframe tbody tr th {\n",
       "        vertical-align: top;\n",
       "    }\n",
       "\n",
       "    .dataframe thead th {\n",
       "        text-align: right;\n",
       "    }\n",
       "</style>\n",
       "<table border=\"1\" class=\"dataframe\">\n",
       "  <thead>\n",
       "    <tr style=\"text-align: right;\">\n",
       "      <th></th>\n",
       "      <th>detail_id</th>\n",
       "      <th>transaction_id</th>\n",
       "      <th>item_id</th>\n",
       "      <th>quantity</th>\n",
       "    </tr>\n",
       "  </thead>\n",
       "  <tbody>\n",
       "    <tr>\n",
       "      <th>0</th>\n",
       "      <td>0</td>\n",
       "      <td>T0000000113</td>\n",
       "      <td>S005</td>\n",
       "      <td>1</td>\n",
       "    </tr>\n",
       "    <tr>\n",
       "      <th>1</th>\n",
       "      <td>1</td>\n",
       "      <td>T0000000114</td>\n",
       "      <td>S001</td>\n",
       "      <td>1</td>\n",
       "    </tr>\n",
       "    <tr>\n",
       "      <th>2</th>\n",
       "      <td>2</td>\n",
       "      <td>T0000000115</td>\n",
       "      <td>S003</td>\n",
       "      <td>1</td>\n",
       "    </tr>\n",
       "    <tr>\n",
       "      <th>3</th>\n",
       "      <td>3</td>\n",
       "      <td>T0000000116</td>\n",
       "      <td>S005</td>\n",
       "      <td>1</td>\n",
       "    </tr>\n",
       "    <tr>\n",
       "      <th>4</th>\n",
       "      <td>4</td>\n",
       "      <td>T0000000117</td>\n",
       "      <td>S002</td>\n",
       "      <td>2</td>\n",
       "    </tr>\n",
       "  </tbody>\n",
       "</table>\n",
       "</div>"
      ],
      "text/plain": [
       "   detail_id transaction_id item_id  quantity\n",
       "0          0    T0000000113    S005         1\n",
       "1          1    T0000000114    S001         1\n",
       "2          2    T0000000115    S003         1\n",
       "3          3    T0000000116    S005         1\n",
       "4          4    T0000000117    S002         2"
      ]
     },
     "execution_count": 16,
     "metadata": {},
     "output_type": "execute_result"
    }
   ],
   "source": [
    "transaction_detail = pd.concat([transaction_detail_1, transaction_detail_2], ignore_index=True)\n",
    "transaction_detail.head()"
   ]
  },
  {
   "cell_type": "code",
   "execution_count": 17,
   "metadata": {},
   "outputs": [
    {
     "name": "stdout",
     "output_type": "stream",
     "text": [
      "<class 'pandas.core.frame.DataFrame'>\n",
      "RangeIndex: 7144 entries, 0 to 7143\n",
      "Data columns (total 4 columns):\n",
      " #   Column          Non-Null Count  Dtype \n",
      "---  ------          --------------  ----- \n",
      " 0   detail_id       7144 non-null   int64 \n",
      " 1   transaction_id  7144 non-null   object\n",
      " 2   item_id         7144 non-null   object\n",
      " 3   quantity        7144 non-null   int64 \n",
      "dtypes: int64(2), object(2)\n",
      "memory usage: 223.4+ KB\n"
     ]
    }
   ],
   "source": [
    "transaction_detail.info()"
   ]
  },
  {
   "cell_type": "code",
   "execution_count": 18,
   "metadata": {},
   "outputs": [
    {
     "name": "stdout",
     "output_type": "stream",
     "text": [
      "5000\n",
      "2144\n"
     ]
    }
   ],
   "source": [
    "print(len(transaction_detail_1))\n",
    "print(len(transaction_detail_2))"
   ]
  },
  {
   "cell_type": "markdown",
   "metadata": {},
   "source": [
    "5000件と2144件のデータが結合され、7144件のデータになっている"
   ]
  },
  {
   "cell_type": "markdown",
   "metadata": {},
   "source": [
    "---\n",
    "---"
   ]
  },
  {
   "cell_type": "markdown",
   "metadata": {},
   "source": [
    "003 売上データ同士の結合（ジョイン）"
   ]
  },
  {
   "cell_type": "markdown",
   "metadata": {},
   "source": [
    "`transaction_id`を主軸に結合し`transaction_detail`に`payment_date` と`customer_id`を付加する。`price`は詳細の方の計算から求められる。"
   ]
  },
  {
   "cell_type": "code",
   "execution_count": 19,
   "metadata": {},
   "outputs": [
    {
     "data": {
      "text/html": [
       "<div>\n",
       "<style scoped>\n",
       "    .dataframe tbody tr th:only-of-type {\n",
       "        vertical-align: middle;\n",
       "    }\n",
       "\n",
       "    .dataframe tbody tr th {\n",
       "        vertical-align: top;\n",
       "    }\n",
       "\n",
       "    .dataframe thead th {\n",
       "        text-align: right;\n",
       "    }\n",
       "</style>\n",
       "<table border=\"1\" class=\"dataframe\">\n",
       "  <thead>\n",
       "    <tr style=\"text-align: right;\">\n",
       "      <th></th>\n",
       "      <th>detail_id</th>\n",
       "      <th>transaction_id</th>\n",
       "      <th>item_id</th>\n",
       "      <th>quantity</th>\n",
       "      <th>payment_date</th>\n",
       "      <th>customer_id</th>\n",
       "    </tr>\n",
       "  </thead>\n",
       "  <tbody>\n",
       "    <tr>\n",
       "      <th>0</th>\n",
       "      <td>0</td>\n",
       "      <td>T0000000113</td>\n",
       "      <td>S005</td>\n",
       "      <td>1</td>\n",
       "      <td>2019-02-01 01:36:57</td>\n",
       "      <td>PL563502</td>\n",
       "    </tr>\n",
       "    <tr>\n",
       "      <th>1</th>\n",
       "      <td>1</td>\n",
       "      <td>T0000000114</td>\n",
       "      <td>S001</td>\n",
       "      <td>1</td>\n",
       "      <td>2019-02-01 01:37:23</td>\n",
       "      <td>HD678019</td>\n",
       "    </tr>\n",
       "    <tr>\n",
       "      <th>2</th>\n",
       "      <td>2</td>\n",
       "      <td>T0000000115</td>\n",
       "      <td>S003</td>\n",
       "      <td>1</td>\n",
       "      <td>2019-02-01 02:34:19</td>\n",
       "      <td>HD298120</td>\n",
       "    </tr>\n",
       "    <tr>\n",
       "      <th>3</th>\n",
       "      <td>3</td>\n",
       "      <td>T0000000116</td>\n",
       "      <td>S005</td>\n",
       "      <td>1</td>\n",
       "      <td>2019-02-01 02:47:23</td>\n",
       "      <td>IK452215</td>\n",
       "    </tr>\n",
       "    <tr>\n",
       "      <th>4</th>\n",
       "      <td>4</td>\n",
       "      <td>T0000000117</td>\n",
       "      <td>S002</td>\n",
       "      <td>2</td>\n",
       "      <td>2019-02-01 04:33:46</td>\n",
       "      <td>PL542865</td>\n",
       "    </tr>\n",
       "    <tr>\n",
       "      <th>...</th>\n",
       "      <td>...</td>\n",
       "      <td>...</td>\n",
       "      <td>...</td>\n",
       "      <td>...</td>\n",
       "      <td>...</td>\n",
       "      <td>...</td>\n",
       "    </tr>\n",
       "    <tr>\n",
       "      <th>95</th>\n",
       "      <td>95</td>\n",
       "      <td>T0000000207</td>\n",
       "      <td>S005</td>\n",
       "      <td>1</td>\n",
       "      <td>2019-02-04 00:42:48</td>\n",
       "      <td>TS558026</td>\n",
       "    </tr>\n",
       "    <tr>\n",
       "      <th>96</th>\n",
       "      <td>96</td>\n",
       "      <td>T0000000208</td>\n",
       "      <td>S003</td>\n",
       "      <td>1</td>\n",
       "      <td>2019-02-04 00:53:35</td>\n",
       "      <td>AS359364</td>\n",
       "    </tr>\n",
       "    <tr>\n",
       "      <th>97</th>\n",
       "      <td>97</td>\n",
       "      <td>T0000000208</td>\n",
       "      <td>S001</td>\n",
       "      <td>1</td>\n",
       "      <td>2019-02-04 00:53:35</td>\n",
       "      <td>AS359364</td>\n",
       "    </tr>\n",
       "    <tr>\n",
       "      <th>98</th>\n",
       "      <td>98</td>\n",
       "      <td>T0000000209</td>\n",
       "      <td>S002</td>\n",
       "      <td>2</td>\n",
       "      <td>2019-02-04 01:00:19</td>\n",
       "      <td>TS515806</td>\n",
       "    </tr>\n",
       "    <tr>\n",
       "      <th>99</th>\n",
       "      <td>99</td>\n",
       "      <td>T0000000210</td>\n",
       "      <td>S002</td>\n",
       "      <td>1</td>\n",
       "      <td>2019-02-04 01:37:52</td>\n",
       "      <td>OA138193</td>\n",
       "    </tr>\n",
       "  </tbody>\n",
       "</table>\n",
       "<p>100 rows × 6 columns</p>\n",
       "</div>"
      ],
      "text/plain": [
       "    detail_id transaction_id item_id  quantity         payment_date  \\\n",
       "0           0    T0000000113    S005         1  2019-02-01 01:36:57   \n",
       "1           1    T0000000114    S001         1  2019-02-01 01:37:23   \n",
       "2           2    T0000000115    S003         1  2019-02-01 02:34:19   \n",
       "3           3    T0000000116    S005         1  2019-02-01 02:47:23   \n",
       "4           4    T0000000117    S002         2  2019-02-01 04:33:46   \n",
       "..        ...            ...     ...       ...                  ...   \n",
       "95         95    T0000000207    S005         1  2019-02-04 00:42:48   \n",
       "96         96    T0000000208    S003         1  2019-02-04 00:53:35   \n",
       "97         97    T0000000208    S001         1  2019-02-04 00:53:35   \n",
       "98         98    T0000000209    S002         2  2019-02-04 01:00:19   \n",
       "99         99    T0000000210    S002         1  2019-02-04 01:37:52   \n",
       "\n",
       "   customer_id  \n",
       "0     PL563502  \n",
       "1     HD678019  \n",
       "2     HD298120  \n",
       "3     IK452215  \n",
       "4     PL542865  \n",
       "..         ...  \n",
       "95    TS558026  \n",
       "96    AS359364  \n",
       "97    AS359364  \n",
       "98    TS515806  \n",
       "99    OA138193  \n",
       "\n",
       "[100 rows x 6 columns]"
      ]
     },
     "execution_count": 19,
     "metadata": {},
     "output_type": "execute_result"
    }
   ],
   "source": [
    "join_transaction_detail = pd.merge(transaction_detail, transaction[['transaction_id', 'payment_date', 'customer_id']], on='transaction_id', how='left')\n",
    "join_transaction_detail.head(100)"
   ]
  },
  {
   "cell_type": "code",
   "execution_count": 20,
   "metadata": {},
   "outputs": [
    {
     "name": "stdout",
     "output_type": "stream",
     "text": [
      "<class 'pandas.core.frame.DataFrame'>\n",
      "Int64Index: 7144 entries, 0 to 7143\n",
      "Data columns (total 6 columns):\n",
      " #   Column          Non-Null Count  Dtype \n",
      "---  ------          --------------  ----- \n",
      " 0   detail_id       7144 non-null   int64 \n",
      " 1   transaction_id  7144 non-null   object\n",
      " 2   item_id         7144 non-null   object\n",
      " 3   quantity        7144 non-null   int64 \n",
      " 4   payment_date    7144 non-null   object\n",
      " 5   customer_id     7144 non-null   object\n",
      "dtypes: int64(2), object(4)\n",
      "memory usage: 390.7+ KB\n"
     ]
    }
   ],
   "source": [
    "join_transaction_detail.info()"
   ]
  },
  {
   "cell_type": "markdown",
   "metadata": {},
   "source": [
    "7144件の詳細の件数と同じになっている"
   ]
  },
  {
   "cell_type": "markdown",
   "metadata": {},
   "source": [
    "004 マスターデータ（顧客、製品）の結合（ジョイン）"
   ]
  },
  {
   "cell_type": "markdown",
   "metadata": {},
   "source": [
    "`customer_id`をキーに、customer情報の全情報。 `item_id`をキーにitem情報を全情報結合する"
   ]
  },
  {
   "cell_type": "code",
   "execution_count": 21,
   "metadata": {},
   "outputs": [
    {
     "data": {
      "text/html": [
       "<div>\n",
       "<style scoped>\n",
       "    .dataframe tbody tr th:only-of-type {\n",
       "        vertical-align: middle;\n",
       "    }\n",
       "\n",
       "    .dataframe tbody tr th {\n",
       "        vertical-align: top;\n",
       "    }\n",
       "\n",
       "    .dataframe thead th {\n",
       "        text-align: right;\n",
       "    }\n",
       "</style>\n",
       "<table border=\"1\" class=\"dataframe\">\n",
       "  <thead>\n",
       "    <tr style=\"text-align: right;\">\n",
       "      <th></th>\n",
       "      <th>detail_id</th>\n",
       "      <th>transaction_id</th>\n",
       "      <th>item_id</th>\n",
       "      <th>quantity</th>\n",
       "      <th>payment_date</th>\n",
       "      <th>customer_id</th>\n",
       "      <th>customer_name</th>\n",
       "      <th>registration_date</th>\n",
       "      <th>customer_name_kana</th>\n",
       "      <th>email</th>\n",
       "      <th>gender</th>\n",
       "      <th>age</th>\n",
       "      <th>birth</th>\n",
       "      <th>pref</th>\n",
       "      <th>item_name</th>\n",
       "      <th>item_price</th>\n",
       "    </tr>\n",
       "  </thead>\n",
       "  <tbody>\n",
       "    <tr>\n",
       "      <th>0</th>\n",
       "      <td>0</td>\n",
       "      <td>T0000000113</td>\n",
       "      <td>S005</td>\n",
       "      <td>1</td>\n",
       "      <td>2019-02-01 01:36:57</td>\n",
       "      <td>PL563502</td>\n",
       "      <td>井本 芳正</td>\n",
       "      <td>2019-01-07 14:34:35</td>\n",
       "      <td>いもと よしまさ</td>\n",
       "      <td>imoto_yoshimasa@example.com</td>\n",
       "      <td>M</td>\n",
       "      <td>30</td>\n",
       "      <td>1989/7/15</td>\n",
       "      <td>熊本県</td>\n",
       "      <td>PC-E</td>\n",
       "      <td>210000</td>\n",
       "    </tr>\n",
       "    <tr>\n",
       "      <th>1</th>\n",
       "      <td>1</td>\n",
       "      <td>T0000000114</td>\n",
       "      <td>S001</td>\n",
       "      <td>1</td>\n",
       "      <td>2019-02-01 01:37:23</td>\n",
       "      <td>HD678019</td>\n",
       "      <td>三船 六郎</td>\n",
       "      <td>2019-01-27 18:00:11</td>\n",
       "      <td>みふね ろくろう</td>\n",
       "      <td>mifune_rokurou@example.com</td>\n",
       "      <td>M</td>\n",
       "      <td>73</td>\n",
       "      <td>1945/11/29</td>\n",
       "      <td>京都府</td>\n",
       "      <td>PC-A</td>\n",
       "      <td>50000</td>\n",
       "    </tr>\n",
       "    <tr>\n",
       "      <th>2</th>\n",
       "      <td>2</td>\n",
       "      <td>T0000000115</td>\n",
       "      <td>S003</td>\n",
       "      <td>1</td>\n",
       "      <td>2019-02-01 02:34:19</td>\n",
       "      <td>HD298120</td>\n",
       "      <td>山根 小雁</td>\n",
       "      <td>2019-01-11 08:16:02</td>\n",
       "      <td>やまね こがん</td>\n",
       "      <td>yamane_kogan@example.com</td>\n",
       "      <td>M</td>\n",
       "      <td>42</td>\n",
       "      <td>1977/5/17</td>\n",
       "      <td>茨城県</td>\n",
       "      <td>PC-C</td>\n",
       "      <td>120000</td>\n",
       "    </tr>\n",
       "    <tr>\n",
       "      <th>3</th>\n",
       "      <td>3</td>\n",
       "      <td>T0000000116</td>\n",
       "      <td>S005</td>\n",
       "      <td>1</td>\n",
       "      <td>2019-02-01 02:47:23</td>\n",
       "      <td>IK452215</td>\n",
       "      <td>池田 菜摘</td>\n",
       "      <td>2019-01-10 05:07:38</td>\n",
       "      <td>いけだ なつみ</td>\n",
       "      <td>ikeda_natsumi@example.com</td>\n",
       "      <td>F</td>\n",
       "      <td>47</td>\n",
       "      <td>1972/3/17</td>\n",
       "      <td>兵庫県</td>\n",
       "      <td>PC-E</td>\n",
       "      <td>210000</td>\n",
       "    </tr>\n",
       "    <tr>\n",
       "      <th>4</th>\n",
       "      <td>4</td>\n",
       "      <td>T0000000117</td>\n",
       "      <td>S002</td>\n",
       "      <td>2</td>\n",
       "      <td>2019-02-01 04:33:46</td>\n",
       "      <td>PL542865</td>\n",
       "      <td>栗田 憲一</td>\n",
       "      <td>2019-01-25 06:46:05</td>\n",
       "      <td>くりた けんいち</td>\n",
       "      <td>kurita_kenichi@example.com</td>\n",
       "      <td>M</td>\n",
       "      <td>74</td>\n",
       "      <td>1944/12/17</td>\n",
       "      <td>長崎県</td>\n",
       "      <td>PC-B</td>\n",
       "      <td>85000</td>\n",
       "    </tr>\n",
       "  </tbody>\n",
       "</table>\n",
       "</div>"
      ],
      "text/plain": [
       "   detail_id transaction_id item_id  quantity         payment_date  \\\n",
       "0          0    T0000000113    S005         1  2019-02-01 01:36:57   \n",
       "1          1    T0000000114    S001         1  2019-02-01 01:37:23   \n",
       "2          2    T0000000115    S003         1  2019-02-01 02:34:19   \n",
       "3          3    T0000000116    S005         1  2019-02-01 02:47:23   \n",
       "4          4    T0000000117    S002         2  2019-02-01 04:33:46   \n",
       "\n",
       "  customer_id customer_name    registration_date customer_name_kana  \\\n",
       "0    PL563502         井本 芳正  2019-01-07 14:34:35           いもと よしまさ   \n",
       "1    HD678019         三船 六郎  2019-01-27 18:00:11           みふね ろくろう   \n",
       "2    HD298120         山根 小雁  2019-01-11 08:16:02            やまね こがん   \n",
       "3    IK452215         池田 菜摘  2019-01-10 05:07:38            いけだ なつみ   \n",
       "4    PL542865         栗田 憲一  2019-01-25 06:46:05           くりた けんいち   \n",
       "\n",
       "                         email gender  age       birth pref item_name  \\\n",
       "0  imoto_yoshimasa@example.com      M   30   1989/7/15  熊本県      PC-E   \n",
       "1   mifune_rokurou@example.com      M   73  1945/11/29  京都府      PC-A   \n",
       "2     yamane_kogan@example.com      M   42   1977/5/17  茨城県      PC-C   \n",
       "3    ikeda_natsumi@example.com      F   47   1972/3/17  兵庫県      PC-E   \n",
       "4   kurita_kenichi@example.com      M   74  1944/12/17  長崎県      PC-B   \n",
       "\n",
       "   item_price  \n",
       "0      210000  \n",
       "1       50000  \n",
       "2      120000  \n",
       "3      210000  \n",
       "4       85000  "
      ]
     },
     "execution_count": 21,
     "metadata": {},
     "output_type": "execute_result"
    }
   ],
   "source": [
    "join_transaction_detail = pd.merge(join_transaction_detail, customer_master, on='customer_id', how='left')\n",
    "join_transaction_detail = pd.merge(join_transaction_detail, item_master, on='item_id', how='left')\n",
    "join_transaction_detail.head()"
   ]
  },
  {
   "cell_type": "code",
   "execution_count": 22,
   "metadata": {},
   "outputs": [
    {
     "name": "stdout",
     "output_type": "stream",
     "text": [
      "<class 'pandas.core.frame.DataFrame'>\n",
      "Int64Index: 7144 entries, 0 to 7143\n",
      "Data columns (total 16 columns):\n",
      " #   Column              Non-Null Count  Dtype \n",
      "---  ------              --------------  ----- \n",
      " 0   detail_id           7144 non-null   int64 \n",
      " 1   transaction_id      7144 non-null   object\n",
      " 2   item_id             7144 non-null   object\n",
      " 3   quantity            7144 non-null   int64 \n",
      " 4   payment_date        7144 non-null   object\n",
      " 5   customer_id         7144 non-null   object\n",
      " 6   customer_name       7144 non-null   object\n",
      " 7   registration_date   7144 non-null   object\n",
      " 8   customer_name_kana  7144 non-null   object\n",
      " 9   email               7144 non-null   object\n",
      " 10  gender              7144 non-null   object\n",
      " 11  age                 7144 non-null   int64 \n",
      " 12  birth               7144 non-null   object\n",
      " 13  pref                7144 non-null   object\n",
      " 14  item_name           7144 non-null   object\n",
      " 15  item_price          7144 non-null   int64 \n",
      "dtypes: int64(4), object(12)\n",
      "memory usage: 948.8+ KB\n"
     ]
    }
   ],
   "source": [
    "join_transaction_detail.info()"
   ]
  },
  {
   "cell_type": "markdown",
   "metadata": {},
   "source": [
    "7144件で結合がデータが欠損や増えたりはしていない  \n",
    "データの結合完了  \n",
    "\n",
    "---\n",
    "---"
   ]
  },
  {
   "cell_type": "markdown",
   "metadata": {},
   "source": [
    "005 必要なデータ列を追加する"
   ]
  },
  {
   "cell_type": "markdown",
   "metadata": {},
   "source": [
    "売上の列が消えているので、ここでは詳細取引の売上列を追加する。  \n",
    "`quantity`と`item_price`の掛け算で計算できる。"
   ]
  },
  {
   "cell_type": "code",
   "execution_count": 23,
   "metadata": {},
   "outputs": [
    {
     "data": {
      "text/html": [
       "<div>\n",
       "<style scoped>\n",
       "    .dataframe tbody tr th:only-of-type {\n",
       "        vertical-align: middle;\n",
       "    }\n",
       "\n",
       "    .dataframe tbody tr th {\n",
       "        vertical-align: top;\n",
       "    }\n",
       "\n",
       "    .dataframe thead th {\n",
       "        text-align: right;\n",
       "    }\n",
       "</style>\n",
       "<table border=\"1\" class=\"dataframe\">\n",
       "  <thead>\n",
       "    <tr style=\"text-align: right;\">\n",
       "      <th></th>\n",
       "      <th>quantity</th>\n",
       "      <th>item_price</th>\n",
       "      <th>price</th>\n",
       "    </tr>\n",
       "  </thead>\n",
       "  <tbody>\n",
       "    <tr>\n",
       "      <th>0</th>\n",
       "      <td>1</td>\n",
       "      <td>210000</td>\n",
       "      <td>210000</td>\n",
       "    </tr>\n",
       "    <tr>\n",
       "      <th>1</th>\n",
       "      <td>1</td>\n",
       "      <td>50000</td>\n",
       "      <td>50000</td>\n",
       "    </tr>\n",
       "    <tr>\n",
       "      <th>2</th>\n",
       "      <td>1</td>\n",
       "      <td>120000</td>\n",
       "      <td>120000</td>\n",
       "    </tr>\n",
       "    <tr>\n",
       "      <th>3</th>\n",
       "      <td>1</td>\n",
       "      <td>210000</td>\n",
       "      <td>210000</td>\n",
       "    </tr>\n",
       "    <tr>\n",
       "      <th>4</th>\n",
       "      <td>2</td>\n",
       "      <td>85000</td>\n",
       "      <td>170000</td>\n",
       "    </tr>\n",
       "  </tbody>\n",
       "</table>\n",
       "</div>"
      ],
      "text/plain": [
       "   quantity  item_price   price\n",
       "0         1      210000  210000\n",
       "1         1       50000   50000\n",
       "2         1      120000  120000\n",
       "3         1      210000  210000\n",
       "4         2       85000  170000"
      ]
     },
     "execution_count": 23,
     "metadata": {},
     "output_type": "execute_result"
    }
   ],
   "source": [
    "join_transaction_detail['price'] = join_transaction_detail['item_price'] * join_transaction_detail['quantity']\n",
    "join_transaction_detail[['quantity', 'item_price', 'price']].head()"
   ]
  },
  {
   "cell_type": "markdown",
   "metadata": {},
   "source": [
    "データ加工完了\n",
    "\n",
    "---\n",
    "---"
   ]
  },
  {
   "cell_type": "markdown",
   "metadata": {},
   "source": [
    "006 データの検算"
   ]
  },
  {
   "cell_type": "markdown",
   "metadata": {},
   "source": [
    "結合したデータの売上合計と、元データ`transacation`の売上合計を確認して検算する。"
   ]
  },
  {
   "cell_type": "code",
   "execution_count": 24,
   "metadata": {},
   "outputs": [
    {
     "name": "stdout",
     "output_type": "stream",
     "text": [
      "971135000 円\n",
      "971135000 円\n"
     ]
    },
    {
     "data": {
      "text/plain": [
       "True"
      ]
     },
     "execution_count": 24,
     "metadata": {},
     "output_type": "execute_result"
    }
   ],
   "source": [
    "print(join_transaction_detail['price'].sum(), '円')\n",
    "print(transaction['price'].sum(), '円')\n",
    "join_transaction_detail['price'].sum() == transaction['price'].sum()"
   ]
  },
  {
   "cell_type": "markdown",
   "metadata": {},
   "source": [
    "007 各種統計量を把握"
   ]
  },
  {
   "cell_type": "markdown",
   "metadata": {},
   "source": [
    "欠損しているデータの数や全体の数値を把握する"
   ]
  },
  {
   "cell_type": "code",
   "execution_count": 25,
   "metadata": {},
   "outputs": [
    {
     "data": {
      "text/plain": [
       "detail_id             0\n",
       "transaction_id        0\n",
       "item_id               0\n",
       "quantity              0\n",
       "payment_date          0\n",
       "customer_id           0\n",
       "customer_name         0\n",
       "registration_date     0\n",
       "customer_name_kana    0\n",
       "email                 0\n",
       "gender                0\n",
       "age                   0\n",
       "birth                 0\n",
       "pref                  0\n",
       "item_name             0\n",
       "item_price            0\n",
       "price                 0\n",
       "dtype: int64"
      ]
     },
     "execution_count": 25,
     "metadata": {},
     "output_type": "execute_result"
    }
   ],
   "source": [
    "join_transaction_detail.isnull().sum()"
   ]
  },
  {
   "cell_type": "markdown",
   "metadata": {},
   "source": [
    "欠損値なし!!"
   ]
  },
  {
   "cell_type": "code",
   "execution_count": 26,
   "metadata": {},
   "outputs": [
    {
     "data": {
      "text/html": [
       "<div>\n",
       "<style scoped>\n",
       "    .dataframe tbody tr th:only-of-type {\n",
       "        vertical-align: middle;\n",
       "    }\n",
       "\n",
       "    .dataframe tbody tr th {\n",
       "        vertical-align: top;\n",
       "    }\n",
       "\n",
       "    .dataframe thead th {\n",
       "        text-align: right;\n",
       "    }\n",
       "</style>\n",
       "<table border=\"1\" class=\"dataframe\">\n",
       "  <thead>\n",
       "    <tr style=\"text-align: right;\">\n",
       "      <th></th>\n",
       "      <th>detail_id</th>\n",
       "      <th>quantity</th>\n",
       "      <th>age</th>\n",
       "      <th>item_price</th>\n",
       "      <th>price</th>\n",
       "    </tr>\n",
       "  </thead>\n",
       "  <tbody>\n",
       "    <tr>\n",
       "      <th>count</th>\n",
       "      <td>7144.000000</td>\n",
       "      <td>7144.000000</td>\n",
       "      <td>7144.000000</td>\n",
       "      <td>7144.000000</td>\n",
       "      <td>7144.000000</td>\n",
       "    </tr>\n",
       "    <tr>\n",
       "      <th>mean</th>\n",
       "      <td>3571.500000</td>\n",
       "      <td>1.199888</td>\n",
       "      <td>50.265677</td>\n",
       "      <td>121698.628219</td>\n",
       "      <td>135937.150056</td>\n",
       "    </tr>\n",
       "    <tr>\n",
       "      <th>std</th>\n",
       "      <td>2062.439494</td>\n",
       "      <td>0.513647</td>\n",
       "      <td>17.190314</td>\n",
       "      <td>64571.311830</td>\n",
       "      <td>68511.453297</td>\n",
       "    </tr>\n",
       "    <tr>\n",
       "      <th>min</th>\n",
       "      <td>0.000000</td>\n",
       "      <td>1.000000</td>\n",
       "      <td>20.000000</td>\n",
       "      <td>50000.000000</td>\n",
       "      <td>50000.000000</td>\n",
       "    </tr>\n",
       "    <tr>\n",
       "      <th>25%</th>\n",
       "      <td>1785.750000</td>\n",
       "      <td>1.000000</td>\n",
       "      <td>36.000000</td>\n",
       "      <td>50000.000000</td>\n",
       "      <td>85000.000000</td>\n",
       "    </tr>\n",
       "    <tr>\n",
       "      <th>50%</th>\n",
       "      <td>3571.500000</td>\n",
       "      <td>1.000000</td>\n",
       "      <td>50.000000</td>\n",
       "      <td>102500.000000</td>\n",
       "      <td>120000.000000</td>\n",
       "    </tr>\n",
       "    <tr>\n",
       "      <th>75%</th>\n",
       "      <td>5357.250000</td>\n",
       "      <td>1.000000</td>\n",
       "      <td>65.000000</td>\n",
       "      <td>187500.000000</td>\n",
       "      <td>210000.000000</td>\n",
       "    </tr>\n",
       "    <tr>\n",
       "      <th>max</th>\n",
       "      <td>7143.000000</td>\n",
       "      <td>4.000000</td>\n",
       "      <td>80.000000</td>\n",
       "      <td>210000.000000</td>\n",
       "      <td>420000.000000</td>\n",
       "    </tr>\n",
       "  </tbody>\n",
       "</table>\n",
       "</div>"
      ],
      "text/plain": [
       "         detail_id     quantity          age     item_price          price\n",
       "count  7144.000000  7144.000000  7144.000000    7144.000000    7144.000000\n",
       "mean   3571.500000     1.199888    50.265677  121698.628219  135937.150056\n",
       "std    2062.439494     0.513647    17.190314   64571.311830   68511.453297\n",
       "min       0.000000     1.000000    20.000000   50000.000000   50000.000000\n",
       "25%    1785.750000     1.000000    36.000000   50000.000000   85000.000000\n",
       "50%    3571.500000     1.000000    50.000000  102500.000000  120000.000000\n",
       "75%    5357.250000     1.000000    65.000000  187500.000000  210000.000000\n",
       "max    7143.000000     4.000000    80.000000  210000.000000  420000.000000"
      ]
     },
     "execution_count": 26,
     "metadata": {},
     "output_type": "execute_result"
    }
   ],
   "source": [
    "join_transaction_detail.describe()"
   ]
  },
  {
   "cell_type": "markdown",
   "metadata": {},
   "source": [
    "各列データの数量や平均、標準偏差、最小、最大、中央値(50%)、四分位数が把握できる。  \n",
    "ただし、データの型が数値のものだけ。"
   ]
  },
  {
   "cell_type": "code",
   "execution_count": 27,
   "metadata": {},
   "outputs": [
    {
     "name": "stdout",
     "output_type": "stream",
     "text": [
      "2019-02-01 01:36:57\n",
      "2019-07-31 23:41:38\n"
     ]
    }
   ],
   "source": [
    "print(join_transaction_detail['payment_date'].min())\n",
    "print(join_transaction_detail['payment_date'].max())\n"
   ]
  },
  {
   "cell_type": "markdown",
   "metadata": {},
   "source": [
    "データの区間の確認"
   ]
  },
  {
   "cell_type": "markdown",
   "metadata": {},
   "source": [
    "---\n",
    "---\n",
    "\n",
    "データの集積や分析"
   ]
  },
  {
   "cell_type": "markdown",
   "metadata": {},
   "source": [
    "008 月別のデータを集計する"
   ]
  },
  {
   "cell_type": "markdown",
   "metadata": {},
   "source": [
    "データの型を確認"
   ]
  },
  {
   "cell_type": "code",
   "execution_count": 28,
   "metadata": {},
   "outputs": [
    {
     "data": {
      "text/plain": [
       "detail_id              int64\n",
       "transaction_id        object\n",
       "item_id               object\n",
       "quantity               int64\n",
       "payment_date          object\n",
       "customer_id           object\n",
       "customer_name         object\n",
       "registration_date     object\n",
       "customer_name_kana    object\n",
       "email                 object\n",
       "gender                object\n",
       "age                    int64\n",
       "birth                 object\n",
       "pref                  object\n",
       "item_name             object\n",
       "item_price             int64\n",
       "price                  int64\n",
       "dtype: object"
      ]
     },
     "execution_count": 28,
     "metadata": {},
     "output_type": "execute_result"
    }
   ],
   "source": [
    "join_transaction_detail.dtypes"
   ]
  },
  {
   "cell_type": "markdown",
   "metadata": {},
   "source": [
    "`payment_date`や`registration_date`を日付型に変換"
   ]
  },
  {
   "cell_type": "code",
   "execution_count": 29,
   "metadata": {},
   "outputs": [
    {
     "name": "stdout",
     "output_type": "stream",
     "text": [
      "<class 'pandas.core.frame.DataFrame'>\n",
      "Int64Index: 7144 entries, 0 to 7143\n",
      "Data columns (total 17 columns):\n",
      " #   Column              Non-Null Count  Dtype         \n",
      "---  ------              --------------  -----         \n",
      " 0   detail_id           7144 non-null   int64         \n",
      " 1   transaction_id      7144 non-null   object        \n",
      " 2   item_id             7144 non-null   object        \n",
      " 3   quantity            7144 non-null   int64         \n",
      " 4   payment_date        7144 non-null   datetime64[ns]\n",
      " 5   customer_id         7144 non-null   object        \n",
      " 6   customer_name       7144 non-null   object        \n",
      " 7   registration_date   7144 non-null   datetime64[ns]\n",
      " 8   customer_name_kana  7144 non-null   object        \n",
      " 9   email               7144 non-null   object        \n",
      " 10  gender              7144 non-null   object        \n",
      " 11  age                 7144 non-null   int64         \n",
      " 12  birth               7144 non-null   object        \n",
      " 13  pref                7144 non-null   object        \n",
      " 14  item_name           7144 non-null   object        \n",
      " 15  item_price          7144 non-null   int64         \n",
      " 16  price               7144 non-null   int64         \n",
      "dtypes: datetime64[ns](2), int64(5), object(10)\n",
      "memory usage: 1004.6+ KB\n"
     ]
    }
   ],
   "source": [
    "join_transaction_detail['payment_date'] = pd.to_datetime(join_transaction_detail['payment_date'])\n",
    "join_transaction_detail['registration_date'] = pd.to_datetime(join_transaction_detail['registration_date'])\n",
    "join_transaction_detail.info()"
   ]
  },
  {
   "cell_type": "code",
   "execution_count": 30,
   "metadata": {},
   "outputs": [
    {
     "data": {
      "text/html": [
       "<div>\n",
       "<style scoped>\n",
       "    .dataframe tbody tr th:only-of-type {\n",
       "        vertical-align: middle;\n",
       "    }\n",
       "\n",
       "    .dataframe tbody tr th {\n",
       "        vertical-align: top;\n",
       "    }\n",
       "\n",
       "    .dataframe thead th {\n",
       "        text-align: right;\n",
       "    }\n",
       "</style>\n",
       "<table border=\"1\" class=\"dataframe\">\n",
       "  <thead>\n",
       "    <tr style=\"text-align: right;\">\n",
       "      <th></th>\n",
       "      <th>payment_date</th>\n",
       "      <th>payment_month</th>\n",
       "    </tr>\n",
       "  </thead>\n",
       "  <tbody>\n",
       "    <tr>\n",
       "      <th>0</th>\n",
       "      <td>2019-02-01 01:36:57</td>\n",
       "      <td>201902</td>\n",
       "    </tr>\n",
       "    <tr>\n",
       "      <th>1</th>\n",
       "      <td>2019-02-01 01:37:23</td>\n",
       "      <td>201902</td>\n",
       "    </tr>\n",
       "    <tr>\n",
       "      <th>2</th>\n",
       "      <td>2019-02-01 02:34:19</td>\n",
       "      <td>201902</td>\n",
       "    </tr>\n",
       "    <tr>\n",
       "      <th>3</th>\n",
       "      <td>2019-02-01 02:47:23</td>\n",
       "      <td>201902</td>\n",
       "    </tr>\n",
       "    <tr>\n",
       "      <th>4</th>\n",
       "      <td>2019-02-01 04:33:46</td>\n",
       "      <td>201902</td>\n",
       "    </tr>\n",
       "  </tbody>\n",
       "</table>\n",
       "</div>"
      ],
      "text/plain": [
       "         payment_date payment_month\n",
       "0 2019-02-01 01:36:57        201902\n",
       "1 2019-02-01 01:37:23        201902\n",
       "2 2019-02-01 02:34:19        201902\n",
       "3 2019-02-01 02:47:23        201902\n",
       "4 2019-02-01 04:33:46        201902"
      ]
     },
     "execution_count": 30,
     "metadata": {},
     "output_type": "execute_result"
    }
   ],
   "source": [
    "join_transaction_detail['payment_month'] = join_transaction_detail['payment_date'].dt.strftime(\"%Y%m\")\n",
    "join_transaction_detail[['payment_date', 'payment_month']].head()"
   ]
  },
  {
   "cell_type": "markdown",
   "metadata": {},
   "source": [
    "作成した`payment_month`を軸に売上を集計する"
   ]
  },
  {
   "cell_type": "code",
   "execution_count": 31,
   "metadata": {},
   "outputs": [
    {
     "data": {
      "text/html": [
       "<div>\n",
       "<style scoped>\n",
       "    .dataframe tbody tr th:only-of-type {\n",
       "        vertical-align: middle;\n",
       "    }\n",
       "\n",
       "    .dataframe tbody tr th {\n",
       "        vertical-align: top;\n",
       "    }\n",
       "\n",
       "    .dataframe thead th {\n",
       "        text-align: right;\n",
       "    }\n",
       "</style>\n",
       "<table border=\"1\" class=\"dataframe\">\n",
       "  <thead>\n",
       "    <tr style=\"text-align: right;\">\n",
       "      <th></th>\n",
       "      <th>detail_id</th>\n",
       "      <th>quantity</th>\n",
       "      <th>age</th>\n",
       "      <th>item_price</th>\n",
       "      <th>price</th>\n",
       "    </tr>\n",
       "    <tr>\n",
       "      <th>payment_month</th>\n",
       "      <th></th>\n",
       "      <th></th>\n",
       "      <th></th>\n",
       "      <th></th>\n",
       "      <th></th>\n",
       "    </tr>\n",
       "  </thead>\n",
       "  <tbody>\n",
       "    <tr>\n",
       "      <th>201902</th>\n",
       "      <td>676866</td>\n",
       "      <td>1403</td>\n",
       "      <td>59279</td>\n",
       "      <td>142805000</td>\n",
       "      <td>160185000</td>\n",
       "    </tr>\n",
       "    <tr>\n",
       "      <th>201903</th>\n",
       "      <td>2071474</td>\n",
       "      <td>1427</td>\n",
       "      <td>58996</td>\n",
       "      <td>142980000</td>\n",
       "      <td>160370000</td>\n",
       "    </tr>\n",
       "    <tr>\n",
       "      <th>201904</th>\n",
       "      <td>3476816</td>\n",
       "      <td>1421</td>\n",
       "      <td>59246</td>\n",
       "      <td>143670000</td>\n",
       "      <td>160510000</td>\n",
       "    </tr>\n",
       "    <tr>\n",
       "      <th>201905</th>\n",
       "      <td>4812795</td>\n",
       "      <td>1390</td>\n",
       "      <td>58195</td>\n",
       "      <td>139655000</td>\n",
       "      <td>155420000</td>\n",
       "    </tr>\n",
       "    <tr>\n",
       "      <th>201906</th>\n",
       "      <td>6369999</td>\n",
       "      <td>1446</td>\n",
       "      <td>61070</td>\n",
       "      <td>147090000</td>\n",
       "      <td>164030000</td>\n",
       "    </tr>\n",
       "    <tr>\n",
       "      <th>201907</th>\n",
       "      <td>8106846</td>\n",
       "      <td>1485</td>\n",
       "      <td>62312</td>\n",
       "      <td>153215000</td>\n",
       "      <td>170620000</td>\n",
       "    </tr>\n",
       "  </tbody>\n",
       "</table>\n",
       "</div>"
      ],
      "text/plain": [
       "               detail_id  quantity    age  item_price      price\n",
       "payment_month                                                   \n",
       "201902            676866      1403  59279   142805000  160185000\n",
       "201903           2071474      1427  58996   142980000  160370000\n",
       "201904           3476816      1421  59246   143670000  160510000\n",
       "201905           4812795      1390  58195   139655000  155420000\n",
       "201906           6369999      1446  61070   147090000  164030000\n",
       "201907           8106846      1485  62312   153215000  170620000"
      ]
     },
     "execution_count": 31,
     "metadata": {},
     "output_type": "execute_result"
    }
   ],
   "source": [
    "join_transaction_detail.groupby('payment_month').sum()"
   ]
  },
  {
   "cell_type": "code",
   "execution_count": 32,
   "metadata": {},
   "outputs": [
    {
     "data": {
      "text/plain": [
       "payment_month\n",
       "201902    160185000\n",
       "201903    160370000\n",
       "201904    160510000\n",
       "201905    155420000\n",
       "201906    164030000\n",
       "201907    170620000\n",
       "Name: price, dtype: int64"
      ]
     },
     "execution_count": 32,
     "metadata": {},
     "output_type": "execute_result"
    }
   ],
   "source": [
    "join_transaction_detail.groupby('payment_month').sum()['price']"
   ]
  },
  {
   "cell_type": "markdown",
   "metadata": {},
   "source": [
    "009 商品別でデータを集計する"
   ]
  },
  {
   "cell_type": "code",
   "execution_count": 33,
   "metadata": {},
   "outputs": [
    {
     "data": {
      "text/plain": [
       "item_id\n",
       "S001    152150000\n",
       "S002    151725000\n",
       "S003    122640000\n",
       "S004    162000000\n",
       "S005    382620000\n",
       "Name: price, dtype: int64"
      ]
     },
     "execution_count": 33,
     "metadata": {},
     "output_type": "execute_result"
    }
   ],
   "source": [
    "join_transaction_detail.groupby('item_id').sum()['price']"
   ]
  },
  {
   "cell_type": "markdown",
   "metadata": {},
   "source": [
    "商品別で月別の売上を集計・表示する"
   ]
  },
  {
   "cell_type": "code",
   "execution_count": 34,
   "metadata": {},
   "outputs": [
    {
     "data": {
      "text/html": [
       "<div>\n",
       "<style scoped>\n",
       "    .dataframe tbody tr th:only-of-type {\n",
       "        vertical-align: middle;\n",
       "    }\n",
       "\n",
       "    .dataframe tbody tr th {\n",
       "        vertical-align: top;\n",
       "    }\n",
       "\n",
       "    .dataframe thead th {\n",
       "        text-align: right;\n",
       "    }\n",
       "</style>\n",
       "<table border=\"1\" class=\"dataframe\">\n",
       "  <thead>\n",
       "    <tr style=\"text-align: right;\">\n",
       "      <th></th>\n",
       "      <th></th>\n",
       "      <th>price</th>\n",
       "      <th>quantity</th>\n",
       "    </tr>\n",
       "    <tr>\n",
       "      <th>payment_month</th>\n",
       "      <th>item_id</th>\n",
       "      <th></th>\n",
       "      <th></th>\n",
       "    </tr>\n",
       "  </thead>\n",
       "  <tbody>\n",
       "    <tr>\n",
       "      <th rowspan=\"5\" valign=\"top\">201902</th>\n",
       "      <th>S001</th>\n",
       "      <td>24150000</td>\n",
       "      <td>483</td>\n",
       "    </tr>\n",
       "    <tr>\n",
       "      <th>S002</th>\n",
       "      <td>25245000</td>\n",
       "      <td>297</td>\n",
       "    </tr>\n",
       "    <tr>\n",
       "      <th>S003</th>\n",
       "      <td>19800000</td>\n",
       "      <td>165</td>\n",
       "    </tr>\n",
       "    <tr>\n",
       "      <th>S004</th>\n",
       "      <td>31140000</td>\n",
       "      <td>173</td>\n",
       "    </tr>\n",
       "    <tr>\n",
       "      <th>S005</th>\n",
       "      <td>59850000</td>\n",
       "      <td>285</td>\n",
       "    </tr>\n",
       "    <tr>\n",
       "      <th rowspan=\"5\" valign=\"top\">201903</th>\n",
       "      <th>S001</th>\n",
       "      <td>26000000</td>\n",
       "      <td>520</td>\n",
       "    </tr>\n",
       "    <tr>\n",
       "      <th>S002</th>\n",
       "      <td>25500000</td>\n",
       "      <td>300</td>\n",
       "    </tr>\n",
       "    <tr>\n",
       "      <th>S003</th>\n",
       "      <td>19080000</td>\n",
       "      <td>159</td>\n",
       "    </tr>\n",
       "    <tr>\n",
       "      <th>S004</th>\n",
       "      <td>25740000</td>\n",
       "      <td>143</td>\n",
       "    </tr>\n",
       "    <tr>\n",
       "      <th>S005</th>\n",
       "      <td>64050000</td>\n",
       "      <td>305</td>\n",
       "    </tr>\n",
       "    <tr>\n",
       "      <th rowspan=\"5\" valign=\"top\">201904</th>\n",
       "      <th>S001</th>\n",
       "      <td>25900000</td>\n",
       "      <td>518</td>\n",
       "    </tr>\n",
       "    <tr>\n",
       "      <th>S002</th>\n",
       "      <td>23460000</td>\n",
       "      <td>276</td>\n",
       "    </tr>\n",
       "    <tr>\n",
       "      <th>S003</th>\n",
       "      <td>21960000</td>\n",
       "      <td>183</td>\n",
       "    </tr>\n",
       "    <tr>\n",
       "      <th>S004</th>\n",
       "      <td>24300000</td>\n",
       "      <td>135</td>\n",
       "    </tr>\n",
       "    <tr>\n",
       "      <th>S005</th>\n",
       "      <td>64890000</td>\n",
       "      <td>309</td>\n",
       "    </tr>\n",
       "    <tr>\n",
       "      <th rowspan=\"5\" valign=\"top\">201905</th>\n",
       "      <th>S001</th>\n",
       "      <td>24850000</td>\n",
       "      <td>497</td>\n",
       "    </tr>\n",
       "    <tr>\n",
       "      <th>S002</th>\n",
       "      <td>25330000</td>\n",
       "      <td>298</td>\n",
       "    </tr>\n",
       "    <tr>\n",
       "      <th>S003</th>\n",
       "      <td>20520000</td>\n",
       "      <td>171</td>\n",
       "    </tr>\n",
       "    <tr>\n",
       "      <th>S004</th>\n",
       "      <td>25920000</td>\n",
       "      <td>144</td>\n",
       "    </tr>\n",
       "    <tr>\n",
       "      <th>S005</th>\n",
       "      <td>58800000</td>\n",
       "      <td>280</td>\n",
       "    </tr>\n",
       "    <tr>\n",
       "      <th rowspan=\"5\" valign=\"top\">201906</th>\n",
       "      <th>S001</th>\n",
       "      <td>26000000</td>\n",
       "      <td>520</td>\n",
       "    </tr>\n",
       "    <tr>\n",
       "      <th>S002</th>\n",
       "      <td>23970000</td>\n",
       "      <td>282</td>\n",
       "    </tr>\n",
       "    <tr>\n",
       "      <th>S003</th>\n",
       "      <td>21840000</td>\n",
       "      <td>182</td>\n",
       "    </tr>\n",
       "    <tr>\n",
       "      <th>S004</th>\n",
       "      <td>28800000</td>\n",
       "      <td>160</td>\n",
       "    </tr>\n",
       "    <tr>\n",
       "      <th>S005</th>\n",
       "      <td>63420000</td>\n",
       "      <td>302</td>\n",
       "    </tr>\n",
       "    <tr>\n",
       "      <th rowspan=\"5\" valign=\"top\">201907</th>\n",
       "      <th>S001</th>\n",
       "      <td>25250000</td>\n",
       "      <td>505</td>\n",
       "    </tr>\n",
       "    <tr>\n",
       "      <th>S002</th>\n",
       "      <td>28220000</td>\n",
       "      <td>332</td>\n",
       "    </tr>\n",
       "    <tr>\n",
       "      <th>S003</th>\n",
       "      <td>19440000</td>\n",
       "      <td>162</td>\n",
       "    </tr>\n",
       "    <tr>\n",
       "      <th>S004</th>\n",
       "      <td>26100000</td>\n",
       "      <td>145</td>\n",
       "    </tr>\n",
       "    <tr>\n",
       "      <th>S005</th>\n",
       "      <td>71610000</td>\n",
       "      <td>341</td>\n",
       "    </tr>\n",
       "  </tbody>\n",
       "</table>\n",
       "</div>"
      ],
      "text/plain": [
       "                          price  quantity\n",
       "payment_month item_id                    \n",
       "201902        S001     24150000       483\n",
       "              S002     25245000       297\n",
       "              S003     19800000       165\n",
       "              S004     31140000       173\n",
       "              S005     59850000       285\n",
       "201903        S001     26000000       520\n",
       "              S002     25500000       300\n",
       "              S003     19080000       159\n",
       "              S004     25740000       143\n",
       "              S005     64050000       305\n",
       "201904        S001     25900000       518\n",
       "              S002     23460000       276\n",
       "              S003     21960000       183\n",
       "              S004     24300000       135\n",
       "              S005     64890000       309\n",
       "201905        S001     24850000       497\n",
       "              S002     25330000       298\n",
       "              S003     20520000       171\n",
       "              S004     25920000       144\n",
       "              S005     58800000       280\n",
       "201906        S001     26000000       520\n",
       "              S002     23970000       282\n",
       "              S003     21840000       182\n",
       "              S004     28800000       160\n",
       "              S005     63420000       302\n",
       "201907        S001     25250000       505\n",
       "              S002     28220000       332\n",
       "              S003     19440000       162\n",
       "              S004     26100000       145\n",
       "              S005     71610000       341"
      ]
     },
     "execution_count": 34,
     "metadata": {},
     "output_type": "execute_result"
    }
   ],
   "source": [
    "join_transaction_detail.groupby(['payment_month', 'item_id']).sum()[['price','quantity']]"
   ]
  },
  {
   "cell_type": "markdown",
   "metadata": {},
   "source": [
    "ピボットテーブルで表示する"
   ]
  },
  {
   "cell_type": "code",
   "execution_count": 35,
   "metadata": {},
   "outputs": [
    {
     "name": "stdout",
     "output_type": "stream",
     "text": [
      "  item_id item_name  item_price\n",
      "0    S001      PC-A       50000\n",
      "1    S002      PC-B       85000\n",
      "2    S003      PC-C      120000\n",
      "3    S004      PC-D      180000\n",
      "4    S005      PC-E      210000\n"
     ]
    },
    {
     "data": {
      "text/html": [
       "<div>\n",
       "<style scoped>\n",
       "    .dataframe tbody tr th:only-of-type {\n",
       "        vertical-align: middle;\n",
       "    }\n",
       "\n",
       "    .dataframe tbody tr th {\n",
       "        vertical-align: top;\n",
       "    }\n",
       "\n",
       "    .dataframe thead tr th {\n",
       "        text-align: left;\n",
       "    }\n",
       "\n",
       "    .dataframe thead tr:last-of-type th {\n",
       "        text-align: right;\n",
       "    }\n",
       "</style>\n",
       "<table border=\"1\" class=\"dataframe\">\n",
       "  <thead>\n",
       "    <tr>\n",
       "      <th></th>\n",
       "      <th colspan=\"6\" halign=\"left\">price</th>\n",
       "      <th colspan=\"6\" halign=\"left\">quantity</th>\n",
       "    </tr>\n",
       "    <tr>\n",
       "      <th>payment_month</th>\n",
       "      <th>201902</th>\n",
       "      <th>201903</th>\n",
       "      <th>201904</th>\n",
       "      <th>201905</th>\n",
       "      <th>201906</th>\n",
       "      <th>201907</th>\n",
       "      <th>201902</th>\n",
       "      <th>201903</th>\n",
       "      <th>201904</th>\n",
       "      <th>201905</th>\n",
       "      <th>201906</th>\n",
       "      <th>201907</th>\n",
       "    </tr>\n",
       "    <tr>\n",
       "      <th>item_name</th>\n",
       "      <th></th>\n",
       "      <th></th>\n",
       "      <th></th>\n",
       "      <th></th>\n",
       "      <th></th>\n",
       "      <th></th>\n",
       "      <th></th>\n",
       "      <th></th>\n",
       "      <th></th>\n",
       "      <th></th>\n",
       "      <th></th>\n",
       "      <th></th>\n",
       "    </tr>\n",
       "  </thead>\n",
       "  <tbody>\n",
       "    <tr>\n",
       "      <th>PC-A</th>\n",
       "      <td>24150000</td>\n",
       "      <td>26000000</td>\n",
       "      <td>25900000</td>\n",
       "      <td>24850000</td>\n",
       "      <td>26000000</td>\n",
       "      <td>25250000</td>\n",
       "      <td>483</td>\n",
       "      <td>520</td>\n",
       "      <td>518</td>\n",
       "      <td>497</td>\n",
       "      <td>520</td>\n",
       "      <td>505</td>\n",
       "    </tr>\n",
       "    <tr>\n",
       "      <th>PC-B</th>\n",
       "      <td>25245000</td>\n",
       "      <td>25500000</td>\n",
       "      <td>23460000</td>\n",
       "      <td>25330000</td>\n",
       "      <td>23970000</td>\n",
       "      <td>28220000</td>\n",
       "      <td>297</td>\n",
       "      <td>300</td>\n",
       "      <td>276</td>\n",
       "      <td>298</td>\n",
       "      <td>282</td>\n",
       "      <td>332</td>\n",
       "    </tr>\n",
       "    <tr>\n",
       "      <th>PC-C</th>\n",
       "      <td>19800000</td>\n",
       "      <td>19080000</td>\n",
       "      <td>21960000</td>\n",
       "      <td>20520000</td>\n",
       "      <td>21840000</td>\n",
       "      <td>19440000</td>\n",
       "      <td>165</td>\n",
       "      <td>159</td>\n",
       "      <td>183</td>\n",
       "      <td>171</td>\n",
       "      <td>182</td>\n",
       "      <td>162</td>\n",
       "    </tr>\n",
       "    <tr>\n",
       "      <th>PC-D</th>\n",
       "      <td>31140000</td>\n",
       "      <td>25740000</td>\n",
       "      <td>24300000</td>\n",
       "      <td>25920000</td>\n",
       "      <td>28800000</td>\n",
       "      <td>26100000</td>\n",
       "      <td>173</td>\n",
       "      <td>143</td>\n",
       "      <td>135</td>\n",
       "      <td>144</td>\n",
       "      <td>160</td>\n",
       "      <td>145</td>\n",
       "    </tr>\n",
       "    <tr>\n",
       "      <th>PC-E</th>\n",
       "      <td>59850000</td>\n",
       "      <td>64050000</td>\n",
       "      <td>64890000</td>\n",
       "      <td>58800000</td>\n",
       "      <td>63420000</td>\n",
       "      <td>71610000</td>\n",
       "      <td>285</td>\n",
       "      <td>305</td>\n",
       "      <td>309</td>\n",
       "      <td>280</td>\n",
       "      <td>302</td>\n",
       "      <td>341</td>\n",
       "    </tr>\n",
       "  </tbody>\n",
       "</table>\n",
       "</div>"
      ],
      "text/plain": [
       "                  price                                                    \\\n",
       "payment_month    201902    201903    201904    201905    201906    201907   \n",
       "item_name                                                                   \n",
       "PC-A           24150000  26000000  25900000  24850000  26000000  25250000   \n",
       "PC-B           25245000  25500000  23460000  25330000  23970000  28220000   \n",
       "PC-C           19800000  19080000  21960000  20520000  21840000  19440000   \n",
       "PC-D           31140000  25740000  24300000  25920000  28800000  26100000   \n",
       "PC-E           59850000  64050000  64890000  58800000  63420000  71610000   \n",
       "\n",
       "              quantity                                     \n",
       "payment_month   201902 201903 201904 201905 201906 201907  \n",
       "item_name                                                  \n",
       "PC-A               483    520    518    497    520    505  \n",
       "PC-B               297    300    276    298    282    332  \n",
       "PC-C               165    159    183    171    182    162  \n",
       "PC-D               173    143    135    144    160    145  \n",
       "PC-E               285    305    309    280    302    341  "
      ]
     },
     "execution_count": 35,
     "metadata": {},
     "output_type": "execute_result"
    }
   ],
   "source": [
    "print(item_master)\n",
    "pd.pivot_table(join_transaction_detail, index='item_name', columns='payment_month', values=['price', 'quantity'], aggfunc='sum')"
   ]
  },
  {
   "cell_type": "markdown",
   "metadata": {},
   "source": [
    "010 商品別売上をグラフ💹で可視化する"
   ]
  },
  {
   "cell_type": "markdown",
   "metadata": {},
   "source": [
    "売上をグラフで可視化"
   ]
  },
  {
   "cell_type": "code",
   "execution_count": 36,
   "metadata": {},
   "outputs": [
    {
     "data": {
      "text/html": [
       "<div>\n",
       "<style scoped>\n",
       "    .dataframe tbody tr th:only-of-type {\n",
       "        vertical-align: middle;\n",
       "    }\n",
       "\n",
       "    .dataframe tbody tr th {\n",
       "        vertical-align: top;\n",
       "    }\n",
       "\n",
       "    .dataframe thead th {\n",
       "        text-align: right;\n",
       "    }\n",
       "</style>\n",
       "<table border=\"1\" class=\"dataframe\">\n",
       "  <thead>\n",
       "    <tr style=\"text-align: right;\">\n",
       "      <th>item_name</th>\n",
       "      <th>PC-A</th>\n",
       "      <th>PC-B</th>\n",
       "      <th>PC-C</th>\n",
       "      <th>PC-D</th>\n",
       "      <th>PC-E</th>\n",
       "    </tr>\n",
       "    <tr>\n",
       "      <th>payment_month</th>\n",
       "      <th></th>\n",
       "      <th></th>\n",
       "      <th></th>\n",
       "      <th></th>\n",
       "      <th></th>\n",
       "    </tr>\n",
       "  </thead>\n",
       "  <tbody>\n",
       "    <tr>\n",
       "      <th>201902</th>\n",
       "      <td>24150000</td>\n",
       "      <td>25245000</td>\n",
       "      <td>19800000</td>\n",
       "      <td>31140000</td>\n",
       "      <td>59850000</td>\n",
       "    </tr>\n",
       "    <tr>\n",
       "      <th>201903</th>\n",
       "      <td>26000000</td>\n",
       "      <td>25500000</td>\n",
       "      <td>19080000</td>\n",
       "      <td>25740000</td>\n",
       "      <td>64050000</td>\n",
       "    </tr>\n",
       "    <tr>\n",
       "      <th>201904</th>\n",
       "      <td>25900000</td>\n",
       "      <td>23460000</td>\n",
       "      <td>21960000</td>\n",
       "      <td>24300000</td>\n",
       "      <td>64890000</td>\n",
       "    </tr>\n",
       "    <tr>\n",
       "      <th>201905</th>\n",
       "      <td>24850000</td>\n",
       "      <td>25330000</td>\n",
       "      <td>20520000</td>\n",
       "      <td>25920000</td>\n",
       "      <td>58800000</td>\n",
       "    </tr>\n",
       "    <tr>\n",
       "      <th>201906</th>\n",
       "      <td>26000000</td>\n",
       "      <td>23970000</td>\n",
       "      <td>21840000</td>\n",
       "      <td>28800000</td>\n",
       "      <td>63420000</td>\n",
       "    </tr>\n",
       "  </tbody>\n",
       "</table>\n",
       "</div>"
      ],
      "text/plain": [
       "item_name          PC-A      PC-B      PC-C      PC-D      PC-E\n",
       "payment_month                                                  \n",
       "201902         24150000  25245000  19800000  31140000  59850000\n",
       "201903         26000000  25500000  19080000  25740000  64050000\n",
       "201904         25900000  23460000  21960000  24300000  64890000\n",
       "201905         24850000  25330000  20520000  25920000  58800000\n",
       "201906         26000000  23970000  21840000  28800000  63420000"
      ]
     },
     "execution_count": 36,
     "metadata": {},
     "output_type": "execute_result"
    }
   ],
   "source": [
    "graph_data = pd.pivot_table(join_transaction_detail, index='payment_month', columns='item_name', values='price', aggfunc='sum')\n",
    "graph_data.head()"
   ]
  },
  {
   "cell_type": "code",
   "execution_count": 37,
   "metadata": {},
   "outputs": [
    {
     "data": {
      "text/plain": [
       "<matplotlib.legend.Legend at 0xffff5ff948b0>"
      ]
     },
     "execution_count": 37,
     "metadata": {},
     "output_type": "execute_result"
    },
    {
     "data": {
      "image/png": "[encoded data removed]",
      "text/plain": [
       "<Figure size 432x288 with 1 Axes>"
      ]
     },
     "metadata": {
      "needs_background": "light"
     },
     "output_type": "display_data"
    }
   ],
   "source": [
    "import matplotlib.pyplot as plt\n",
    "%matplotlib inline\n",
    "plt.plot(list(graph_data.index), graph_data['PC-A'], label='PC-A')\n",
    "plt.plot(list(graph_data.index), graph_data['PC-B'], label='PC-B')\n",
    "plt.plot(list(graph_data.index), graph_data['PC-C'], label='PC-C')\n",
    "plt.plot(list(graph_data.index), graph_data['PC-D'], label='PC-D')\n",
    "plt.plot(list(graph_data.index), graph_data['PC-E'], label='PC-E')\n",
    "plt.legend()"
   ]
  },
  {
   "cell_type": "markdown",
   "metadata": {},
   "source": [
    "売上数量をグラフで可視化"
   ]
  },
  {
   "cell_type": "code",
   "execution_count": 38,
   "metadata": {},
   "outputs": [
    {
     "data": {
      "text/html": [
       "<div>\n",
       "<style scoped>\n",
       "    .dataframe tbody tr th:only-of-type {\n",
       "        vertical-align: middle;\n",
       "    }\n",
       "\n",
       "    .dataframe tbody tr th {\n",
       "        vertical-align: top;\n",
       "    }\n",
       "\n",
       "    .dataframe thead th {\n",
       "        text-align: right;\n",
       "    }\n",
       "</style>\n",
       "<table border=\"1\" class=\"dataframe\">\n",
       "  <thead>\n",
       "    <tr style=\"text-align: right;\">\n",
       "      <th>item_name</th>\n",
       "      <th>PC-A</th>\n",
       "      <th>PC-B</th>\n",
       "      <th>PC-C</th>\n",
       "      <th>PC-D</th>\n",
       "      <th>PC-E</th>\n",
       "    </tr>\n",
       "    <tr>\n",
       "      <th>payment_month</th>\n",
       "      <th></th>\n",
       "      <th></th>\n",
       "      <th></th>\n",
       "      <th></th>\n",
       "      <th></th>\n",
       "    </tr>\n",
       "  </thead>\n",
       "  <tbody>\n",
       "    <tr>\n",
       "      <th>201902</th>\n",
       "      <td>483</td>\n",
       "      <td>297</td>\n",
       "      <td>165</td>\n",
       "      <td>173</td>\n",
       "      <td>285</td>\n",
       "    </tr>\n",
       "    <tr>\n",
       "      <th>201903</th>\n",
       "      <td>520</td>\n",
       "      <td>300</td>\n",
       "      <td>159</td>\n",
       "      <td>143</td>\n",
       "      <td>305</td>\n",
       "    </tr>\n",
       "    <tr>\n",
       "      <th>201904</th>\n",
       "      <td>518</td>\n",
       "      <td>276</td>\n",
       "      <td>183</td>\n",
       "      <td>135</td>\n",
       "      <td>309</td>\n",
       "    </tr>\n",
       "    <tr>\n",
       "      <th>201905</th>\n",
       "      <td>497</td>\n",
       "      <td>298</td>\n",
       "      <td>171</td>\n",
       "      <td>144</td>\n",
       "      <td>280</td>\n",
       "    </tr>\n",
       "    <tr>\n",
       "      <th>201906</th>\n",
       "      <td>520</td>\n",
       "      <td>282</td>\n",
       "      <td>182</td>\n",
       "      <td>160</td>\n",
       "      <td>302</td>\n",
       "    </tr>\n",
       "  </tbody>\n",
       "</table>\n",
       "</div>"
      ],
      "text/plain": [
       "item_name      PC-A  PC-B  PC-C  PC-D  PC-E\n",
       "payment_month                              \n",
       "201902          483   297   165   173   285\n",
       "201903          520   300   159   143   305\n",
       "201904          518   276   183   135   309\n",
       "201905          497   298   171   144   280\n",
       "201906          520   282   182   160   302"
      ]
     },
     "execution_count": 38,
     "metadata": {},
     "output_type": "execute_result"
    }
   ],
   "source": [
    "graph_data = pd.pivot_table(join_transaction_detail, index='payment_month', columns='item_name', values='quantity', aggfunc='sum')\n",
    "graph_data.head()"
   ]
  },
  {
   "cell_type": "code",
   "execution_count": 39,
   "metadata": {},
   "outputs": [
    {
     "data": {
      "text/plain": [
       "<matplotlib.legend.Legend at 0xffff5fe66df0>"
      ]
     },
     "execution_count": 39,
     "metadata": {},
     "output_type": "execute_result"
    },
    {
     "data": {
      "image/png": "[encoded data removed]",
      "text/plain": [
       "<Figure size 432x288 with 1 Axes>"
      ]
     },
     "metadata": {
      "needs_background": "light"
     },
     "output_type": "display_data"
    }
   ],
   "source": [
    "plt.plot(list(graph_data.index), graph_data['PC-A'], label='PC-A')\n",
    "plt.plot(list(graph_data.index), graph_data['PC-B'], label='PC-B')\n",
    "plt.plot(list(graph_data.index), graph_data['PC-C'], label='PC-C')\n",
    "plt.plot(list(graph_data.index), graph_data['PC-D'], label='PC-D')\n",
    "plt.plot(list(graph_data.index), graph_data['PC-E'], label='PC-E')\n",
    "plt.legend()"
   ]
  },
  {
   "cell_type": "markdown",
   "metadata": {},
   "source": [
    "---\n",
    "---\n",
    "---"
   ]
  },
  {
   "cell_type": "markdown",
   "metadata": {},
   "source": [
    "`seaborn`を使ってグラフ化"
   ]
  },
  {
   "cell_type": "code",
   "execution_count": 40,
   "metadata": {},
   "outputs": [],
   "source": [
    "import seaborn as sns"
   ]
  },
  {
   "cell_type": "code",
   "execution_count": 42,
   "metadata": {},
   "outputs": [
    {
     "data": {
      "text/html": [
       "<div>\n",
       "<style scoped>\n",
       "    .dataframe tbody tr th:only-of-type {\n",
       "        vertical-align: middle;\n",
       "    }\n",
       "\n",
       "    .dataframe tbody tr th {\n",
       "        vertical-align: top;\n",
       "    }\n",
       "\n",
       "    .dataframe thead th {\n",
       "        text-align: right;\n",
       "    }\n",
       "</style>\n",
       "<table border=\"1\" class=\"dataframe\">\n",
       "  <thead>\n",
       "    <tr style=\"text-align: right;\">\n",
       "      <th>item_name</th>\n",
       "      <th>PC-A</th>\n",
       "      <th>PC-B</th>\n",
       "      <th>PC-C</th>\n",
       "      <th>PC-D</th>\n",
       "      <th>PC-E</th>\n",
       "    </tr>\n",
       "    <tr>\n",
       "      <th>payment_month</th>\n",
       "      <th></th>\n",
       "      <th></th>\n",
       "      <th></th>\n",
       "      <th></th>\n",
       "      <th></th>\n",
       "    </tr>\n",
       "  </thead>\n",
       "  <tbody>\n",
       "    <tr>\n",
       "      <th>201902</th>\n",
       "      <td>483</td>\n",
       "      <td>297</td>\n",
       "      <td>165</td>\n",
       "      <td>173</td>\n",
       "      <td>285</td>\n",
       "    </tr>\n",
       "    <tr>\n",
       "      <th>201903</th>\n",
       "      <td>520</td>\n",
       "      <td>300</td>\n",
       "      <td>159</td>\n",
       "      <td>143</td>\n",
       "      <td>305</td>\n",
       "    </tr>\n",
       "    <tr>\n",
       "      <th>201904</th>\n",
       "      <td>518</td>\n",
       "      <td>276</td>\n",
       "      <td>183</td>\n",
       "      <td>135</td>\n",
       "      <td>309</td>\n",
       "    </tr>\n",
       "    <tr>\n",
       "      <th>201905</th>\n",
       "      <td>497</td>\n",
       "      <td>298</td>\n",
       "      <td>171</td>\n",
       "      <td>144</td>\n",
       "      <td>280</td>\n",
       "    </tr>\n",
       "    <tr>\n",
       "      <th>201906</th>\n",
       "      <td>520</td>\n",
       "      <td>282</td>\n",
       "      <td>182</td>\n",
       "      <td>160</td>\n",
       "      <td>302</td>\n",
       "    </tr>\n",
       "  </tbody>\n",
       "</table>\n",
       "</div>"
      ],
      "text/plain": [
       "item_name      PC-A  PC-B  PC-C  PC-D  PC-E\n",
       "payment_month                              \n",
       "201902          483   297   165   173   285\n",
       "201903          520   300   159   143   305\n",
       "201904          518   276   183   135   309\n",
       "201905          497   298   171   144   280\n",
       "201906          520   282   182   160   302"
      ]
     },
     "execution_count": 42,
     "metadata": {},
     "output_type": "execute_result"
    }
   ],
   "source": [
    "graph_sns_data =  pd.pivot_table(join_transaction_detail, index='payment_month', columns='item_name', values='quantity', aggfunc='sum')\n",
    "graph_data.head()"
   ]
  },
  {
   "cell_type": "code",
   "execution_count": 44,
   "metadata": {},
   "outputs": [
    {
     "data": {
      "text/plain": [
       "<AxesSubplot:xlabel='payment_month', ylabel='PC-A'>"
      ]
     },
     "execution_count": 44,
     "metadata": {},
     "output_type": "execute_result"
    },
    {
     "data": {
      "image/png": "[encoded data removed]",
      "text/plain": [
       "<Figure size 432x288 with 1 Axes>"
      ]
     },
     "metadata": {
      "needs_background": "light"
     },
     "output_type": "display_data"
    }
   ],
   "source": [
    "sns.lineplot(x='payment_month', y='PC-A', data=graph_sns_data)\n",
    "sns.lineplot(x='payment_month', y='PC-B', data=graph_sns_data)\n",
    "sns.lineplot(x='payment_month', y='PC-C', data=graph_sns_data)\n",
    "sns.lineplot(x='payment_month', y='PC-D', data=graph_sns_data)\n",
    "sns.lineplot(x='payment_month', y='PC-E', data=graph_sns_data)"
   ]
  },
  {
   "cell_type": "code",
   "execution_count": null,
   "metadata": {},
   "outputs": [],
   "source": []
  }
 ],
 "metadata": {
  "interpreter": {
   "hash": "949777d72b0d2535278d3dc13498b2535136f6dfe0678499012e853ee9abcab1"
  },
  "kernelspec": {
   "display_name": "Python 3.8.13 64-bit",
   "language": "python",
   "name": "python3"
  },
  "language_info": {
   "codemirror_mode": {
    "name": "ipython",
    "version": 3
   },
   "file_extension": ".py",
   "mimetype": "text/x-python",
   "name": "python",
   "nbconvert_exporter": "python",
   "pygments_lexer": "ipython3",
   "version": "3.8.13"
  },
  "orig_nbformat": 4
 },
 "nbformat": 4,
 "nbformat_minor": 2
}
