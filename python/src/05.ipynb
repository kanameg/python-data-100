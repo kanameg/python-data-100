{
 "cells": [
  {
   "cell_type": "markdown",
   "metadata": {},
   "source": [
    "041: データを読み込んで利用データを整形する"
   ]
  },
  {
   "cell_type": "code",
   "execution_count": 1,
   "metadata": {},
   "outputs": [],
   "source": [
    "import pandas as pd\n",
    "customer = pd.read_csv('./input/03/customer_join.csv')\n",
    "use_log_montrhs = pd.read_csv('./input/04/use_log_months.csv')"
   ]
  },
  {
   "cell_type": "code",
   "execution_count": 2,
   "metadata": {},
   "outputs": [
    {
     "name": "stdout",
     "output_type": "stream",
     "text": [
      "     customer_id   name class gender  start_date end_date campaign_id  \\\n",
      "0       OA832399   XXXX   C01      F  2015-05-01      NaN         CA1   \n",
      "1       PL270116  XXXXX   C01      M  2015-05-01      NaN         CA1   \n",
      "2       OA974876  XXXXX   C01      M  2015-05-01      NaN         CA1   \n",
      "3       HD024127  XXXXX   C01      F  2015-05-01      NaN         CA1   \n",
      "4       HD661448  XXXXX   C03      F  2015-05-01      NaN         CA1   \n",
      "...          ...    ...   ...    ...         ...      ...         ...   \n",
      "4187    HD676663   XXXX   C01      M  2019-03-14      NaN         CA1   \n",
      "4188    HD246549  XXXXX   C01      F  2019-03-14      NaN         CA1   \n",
      "4189    GD037007  XXXXX   C03      M  2019-03-14      NaN         CA1   \n",
      "4190    OA953150  XXXXX   C01      M  2019-03-14      NaN         CA1   \n",
      "4191    IK692635  XXXXX   C02      F  2019-03-15      NaN         CA1   \n",
      "\n",
      "      is_deleted campaign_name class_name  price  count  routine_flag  \\\n",
      "0              0            通常     オールタイム  10500      4             1   \n",
      "1              0            通常     オールタイム  10500      5             1   \n",
      "2              0            通常     オールタイム  10500      5             1   \n",
      "3              0            通常     オールタイム  10500      5             1   \n",
      "4              0            通常        ナイト   6000      5             1   \n",
      "...          ...           ...        ...    ...    ...           ...   \n",
      "4187           0            通常     オールタイム  10500      3             0   \n",
      "4188           0            通常     オールタイム  10500      3             0   \n",
      "4189           0            通常        ナイト   6000      2             0   \n",
      "4190           0            通常     オールタイム  10500      3             0   \n",
      "4191           0            通常      デイタイム   7500      2             0   \n",
      "\n",
      "           mean  median  max  min   calc_date  membership_period  \n",
      "0      4.833333     5.0    8    2  2019-04-30                 47  \n",
      "1      5.083333     5.0    7    3  2019-04-30                 47  \n",
      "2      4.583333     5.0    6    3  2019-04-30                 47  \n",
      "3      4.833333     4.5    7    2  2019-04-30                 47  \n",
      "4      3.916667     4.0    6    1  2019-04-30                 47  \n",
      "...         ...     ...  ...  ...         ...                ...  \n",
      "4187   8.000000     8.0    8    8  2019-04-30                  1  \n",
      "4188  10.000000    10.0   10   10  2019-04-30                  1  \n",
      "4189   8.000000     8.0    8    8  2019-04-30                  1  \n",
      "4190  11.000000    11.0   11   11  2019-04-30                  1  \n",
      "4191  10.000000    10.0   10   10  2019-04-30                  1  \n",
      "\n",
      "[4192 rows x 19 columns]\n",
      "           年月 customer_id  count\n",
      "0      201804    AS002855      4\n",
      "1      201804    AS009013      2\n",
      "2      201804    AS009373      3\n",
      "3      201804    AS015315      6\n",
      "4      201804    AS015739      7\n",
      "...       ...         ...    ...\n",
      "36837  201903    TS995853      8\n",
      "36838  201903    TS998593      8\n",
      "36839  201903    TS999079      3\n",
      "36840  201903    TS999231      6\n",
      "36841  201903    TS999855      4\n",
      "\n",
      "[36842 rows x 3 columns]\n"
     ]
    }
   ],
   "source": [
    "print(customer)\n",
    "print(use_log_montrhs)"
   ]
  },
  {
   "cell_type": "markdown",
   "metadata": {},
   "source": [
    "当月と1ヶ月前のデータから来月の退会を予測する"
   ]
  },
  {
   "cell_type": "code",
   "execution_count": 3,
   "metadata": {},
   "outputs": [
    {
     "name": "stdout",
     "output_type": "stream",
     "text": [
      "           年月 customer_id  count_0  count_1\n",
      "0      201805    AS002855        5      4.0\n",
      "1      201805    AS009373        4      3.0\n",
      "2      201805    AS015233        7      NaN\n",
      "3      201805    AS015315        3      6.0\n",
      "4      201805    AS015739        5      7.0\n",
      "...       ...         ...      ...      ...\n",
      "33846  201903    TS995853        8     11.0\n",
      "33847  201903    TS998593        8      7.0\n",
      "33848  201903    TS999079        3      2.0\n",
      "33849  201903    TS999231        6      6.0\n",
      "33850  201903    TS999855        4      4.0\n",
      "\n",
      "[33851 rows x 4 columns]\n"
     ]
    },
    {
     "name": "stderr",
     "output_type": "stream",
     "text": [
      "/usr/local/lib/python3.8/site-packages/pandas/core/frame.py:5034: SettingWithCopyWarning: \n",
      "A value is trying to be set on a copy of a slice from a DataFrame\n",
      "\n",
      "See the caveats in the documentation: https://pandas.pydata.org/pandas-docs/stable/user_guide/indexing.html#returning-a-view-versus-a-copy\n",
      "  return super().rename(\n"
     ]
    }
   ],
   "source": [
    "year_month = list(use_log_montrhs['年月'].unique())\n",
    "use_log = pd.DataFrame()\n",
    "for i in range(1, len(year_month)):\n",
    "    tmp = use_log_montrhs.loc[use_log_montrhs['年月'] == year_month[i]]\n",
    "    tmp.rename(columns={'count':'count_0'}, inplace=True)\n",
    "    tmp_before = use_log_montrhs.loc[use_log_montrhs['年月']==year_month[i-1]]\n",
    "    del tmp_before['年月']\n",
    "    tmp_before.rename(columns={'count':'count_1'}, inplace=True)\n",
    "    tmp = pd.merge(tmp, tmp_before, on='customer_id', how='left')\n",
    "    use_log = pd.concat([use_log, tmp], ignore_index=True)\n",
    "print(use_log)\n"
   ]
  },
  {
   "cell_type": "markdown",
   "metadata": {},
   "source": [
    "042: 退会前月の退会顧客データを作成する"
   ]
  },
  {
   "cell_type": "code",
   "execution_count": 4,
   "metadata": {},
   "outputs": [
    {
     "name": "stderr",
     "output_type": "stream",
     "text": [
      "/usr/local/lib/python3.8/site-packages/pandas/core/frame.py:3607: SettingWithCopyWarning: \n",
      "A value is trying to be set on a copy of a slice from a DataFrame.\n",
      "Try using .loc[row_indexer,col_indexer] = value instead\n",
      "\n",
      "See the caveats in the documentation: https://pandas.pydata.org/pandas-docs/stable/user_guide/indexing.html#returning-a-view-versus-a-copy\n",
      "  self._set_item(key, value)\n",
      "/usr/local/lib/python3.8/site-packages/pandas/core/indexing.py:1732: SettingWithCopyWarning: \n",
      "A value is trying to be set on a copy of a slice from a DataFrame\n",
      "\n",
      "See the caveats in the documentation: https://pandas.pydata.org/pandas-docs/stable/user_guide/indexing.html#returning-a-view-versus-a-copy\n",
      "  self._setitem_single_block(indexer, value, name)\n"
     ]
    },
    {
     "name": "stdout",
     "output_type": "stream",
     "text": [
      "33851\n",
      "           年月 customer_id  count_0  count_1 name class gender start_date  \\\n",
      "0      201805    AS002855        5      4.0  NaN   NaN    NaN        NaN   \n",
      "1      201805    AS009373        4      3.0  NaN   NaN    NaN        NaN   \n",
      "2      201805    AS015233        7      NaN  NaN   NaN    NaN        NaN   \n",
      "3      201805    AS015315        3      6.0  NaN   NaN    NaN        NaN   \n",
      "4      201805    AS015739        5      7.0  NaN   NaN    NaN        NaN   \n",
      "...       ...         ...      ...      ...  ...   ...    ...        ...   \n",
      "33846  201903    TS995853        8     11.0  NaN   NaN    NaN        NaN   \n",
      "33847  201903    TS998593        8      7.0  NaN   NaN    NaN        NaN   \n",
      "33848  201903    TS999079        3      2.0  NaN   NaN    NaN        NaN   \n",
      "33849  201903    TS999231        6      6.0  NaN   NaN    NaN        NaN   \n",
      "33850  201903    TS999855        4      4.0  NaN   NaN    NaN        NaN   \n",
      "\n",
      "      end_date campaign_id  ...  price count routine_flag  mean  median  max  \\\n",
      "0          NaT         NaN  ...    NaN   NaN          NaN   NaN     NaN  NaN   \n",
      "1          NaT         NaN  ...    NaN   NaN          NaN   NaN     NaN  NaN   \n",
      "2          NaT         NaN  ...    NaN   NaN          NaN   NaN     NaN  NaN   \n",
      "3          NaT         NaN  ...    NaN   NaN          NaN   NaN     NaN  NaN   \n",
      "4          NaT         NaN  ...    NaN   NaN          NaN   NaN     NaN  NaN   \n",
      "...        ...         ...  ...    ...   ...          ...   ...     ...  ...   \n",
      "33846      NaT         NaN  ...    NaN   NaN          NaN   NaN     NaN  NaN   \n",
      "33847      NaT         NaN  ...    NaN   NaN          NaN   NaN     NaN  NaN   \n",
      "33848      NaT         NaN  ...    NaN   NaN          NaN   NaN     NaN  NaN   \n",
      "33849      NaT         NaN  ...    NaN   NaN          NaN   NaN     NaN  NaN   \n",
      "33850      NaT         NaN  ...    NaN   NaN          NaN   NaN     NaN  NaN   \n",
      "\n",
      "       min  calc_date  membership_period  exit_date  \n",
      "0      NaN        NaN                NaN        NaN  \n",
      "1      NaN        NaN                NaN        NaN  \n",
      "2      NaN        NaN                NaN        NaN  \n",
      "3      NaN        NaN                NaN        NaN  \n",
      "4      NaN        NaN                NaN        NaN  \n",
      "...    ...        ...                ...        ...  \n",
      "33846  NaN        NaN                NaN        NaN  \n",
      "33847  NaN        NaN                NaN        NaN  \n",
      "33848  NaN        NaN                NaN        NaN  \n",
      "33849  NaN        NaN                NaN        NaN  \n",
      "33850  NaN        NaN                NaN        NaN  \n",
      "\n",
      "[33851 rows x 23 columns]\n"
     ]
    }
   ],
   "source": [
    "from dateutil.relativedelta import relativedelta\n",
    "exit_customer = customer.loc[customer['is_deleted']==1]\n",
    "exit_customer['exit_date'] = None\n",
    "exit_customer['end_date'] = pd.to_datetime(exit_customer['end_date'])\n",
    "for i in range(len(exit_customer)):\n",
    "    exit_customer['exit_date'].iloc[i] = exit_customer['end_date'].iloc[i] - relativedelta(months=1)\n",
    "#exit_customer['exit_date'] = pd.to_datetime(exit_customer['exit_date'])\n",
    "exit_customer['年月'] = pd.to_datetime(exit_customer['exit_date']).dt.strftime(\"%Y%m\")\n",
    "use_log['年月'] = use_log['年月'].astype(str)\n",
    "exit_use_log = pd.merge(use_log, exit_customer, on=['customer_id', '年月'], how='left')\n",
    "\n",
    "print(len(exit_use_log))\n",
    "print(exit_use_log)"
   ]
  },
  {
   "cell_type": "markdown",
   "metadata": {},
   "source": [
    "データが欠損している行は削除して、欠損値がないデータのみを残す"
   ]
  },
  {
   "cell_type": "code",
   "execution_count": 5,
   "metadata": {},
   "outputs": [
    {
     "name": "stdout",
     "output_type": "stream",
     "text": [
      "1104\n",
      "1104\n",
      "           年月 customer_id  count_0  count_1    name class gender  start_date  \\\n",
      "19     201805    AS055680        3      3.0   XXXXX   C01      M  2018-03-01   \n",
      "57     201805    AS169823        2      3.0      XX   C01      M  2017-11-01   \n",
      "110    201805    AS305860        5      3.0    XXXX   C01      M  2017-06-01   \n",
      "128    201805    AS363699        5      3.0   XXXXX   C01      M  2018-02-01   \n",
      "147    201805    AS417696        1      4.0      XX   C03      F  2017-09-01   \n",
      "...       ...         ...      ...      ...     ...   ...    ...         ...   \n",
      "30758  201902    TS645212        4      2.0    XXXX   C03      F  2018-03-01   \n",
      "30787  201902    TS741703        5      6.0    XXXX   C03      M  2018-12-08   \n",
      "30827  201902    TS859258        1      3.0   XXXXX   C02      F  2018-12-07   \n",
      "30842  201902    TS886985        5      3.0     XXX   C02      F  2018-03-01   \n",
      "30852  201902    TS921837        2      3.0  XXXXXX   C01      M  2018-06-04   \n",
      "\n",
      "        end_date campaign_id  ...    price count routine_flag      mean  \\\n",
      "19    2018-06-30         CA1  ...  10500.0   2.0          0.0  3.000000   \n",
      "57    2018-06-30         CA1  ...  10500.0   4.0          1.0  3.000000   \n",
      "110   2018-06-30         CA1  ...  10500.0   1.0          0.0  3.333333   \n",
      "128   2018-06-30         CA1  ...  10500.0   2.0          0.0  3.333333   \n",
      "147   2018-06-30         CA1  ...   6000.0   1.0          0.0  2.000000   \n",
      "...          ...         ...  ...      ...   ...          ...       ...   \n",
      "30758 2019-03-31         CA1  ...   6000.0   3.0          0.0  4.500000   \n",
      "30787 2019-03-31         CA3  ...   6000.0   3.0          0.0  6.250000   \n",
      "30827 2019-03-31         CA3  ...   7500.0   2.0          0.0  2.500000   \n",
      "30842 2019-03-31         CA1  ...   7500.0   4.0          1.0  4.250000   \n",
      "30852 2019-03-31         CA2  ...  10500.0   4.0          1.0  4.000000   \n",
      "\n",
      "       median  max  min   calc_date  membership_period            exit_date  \n",
      "19        3.0  3.0  3.0  2018-06-30                3.0  2018-05-30 00:00:00  \n",
      "57        3.0  4.0  2.0  2018-06-30                7.0  2018-05-30 00:00:00  \n",
      "110       3.0  5.0  2.0  2018-06-30               12.0  2018-05-30 00:00:00  \n",
      "128       3.0  5.0  2.0  2018-06-30                4.0  2018-05-30 00:00:00  \n",
      "147       1.0  4.0  1.0  2018-06-30                9.0  2018-05-30 00:00:00  \n",
      "...       ...  ...  ...         ...                ...                  ...  \n",
      "30758     4.5  7.0  1.0  2019-03-31               12.0  2019-02-28 00:00:00  \n",
      "30787     6.0  8.0  5.0  2019-03-31                3.0  2019-02-28 00:00:00  \n",
      "30827     2.0  5.0  1.0  2019-03-31                3.0  2019-02-28 00:00:00  \n",
      "30842     4.0  7.0  2.0  2019-03-31               12.0  2019-02-28 00:00:00  \n",
      "30852     3.5  9.0  2.0  2019-03-31                9.0  2019-02-28 00:00:00  \n",
      "\n",
      "[1104 rows x 23 columns]\n"
     ]
    }
   ],
   "source": [
    "exit_use_log = exit_use_log.dropna(subset=['name'])\n",
    "print(len(exit_use_log))\n",
    "print(len(exit_use_log['customer_id'].unique()))\n",
    "print(exit_use_log)"
   ]
  },
  {
   "cell_type": "markdown",
   "metadata": {},
   "source": [
    "043: 継続顧客のデータを作成する"
   ]
  },
  {
   "cell_type": "code",
   "execution_count": 6,
   "metadata": {},
   "outputs": [
    {
     "name": "stdout",
     "output_type": "stream",
     "text": [
      "33851\n",
      "           年月 customer_id  count_0  count_1    name class gender  start_date  \\\n",
      "0      201805    AS002855        5      4.0    XXXX   C03      F  2016-11-01   \n",
      "1      201805    AS009373        4      3.0      XX   C01      F  2015-11-01   \n",
      "2      201805    AS015233        7      NaN   XXXXX   C01      M  2018-05-13   \n",
      "3      201805    AS015315        3      6.0   XXXXX   C01      M  2015-07-01   \n",
      "4      201805    AS015739        5      7.0   XXXXX   C03      M  2017-06-01   \n",
      "...       ...         ...      ...      ...     ...   ...    ...         ...   \n",
      "33846  201903    TS995853        8     11.0    XXXX   C01      M  2019-02-08   \n",
      "33847  201903    TS998593        8      7.0   XXXXX   C03      M  2018-09-01   \n",
      "33848  201903    TS999079        3      2.0     XXX   C03      M  2016-06-01   \n",
      "33849  201903    TS999231        6      6.0    XXXX   C01      M  2017-03-01   \n",
      "33850  201903    TS999855        4      4.0  XXXXXX   C01      F  2017-04-01   \n",
      "\n",
      "      end_date campaign_id  ...  class_name    price count  routine_flag  \\\n",
      "0          NaN         CA1  ...         ナイト   6000.0   5.0           1.0   \n",
      "1          NaN         CA1  ...      オールタイム  10500.0   5.0           1.0   \n",
      "2          NaN         CA2  ...      オールタイム  10500.0   5.0           1.0   \n",
      "3          NaN         CA1  ...      オールタイム  10500.0   5.0           1.0   \n",
      "4          NaN         CA1  ...         ナイト   6000.0   5.0           1.0   \n",
      "...        ...         ...  ...         ...      ...   ...           ...   \n",
      "33846      NaN         CA1  ...      オールタイム  10500.0   5.0           1.0   \n",
      "33847      NaN         CA1  ...         ナイト   6000.0   5.0           1.0   \n",
      "33848      NaN         CA1  ...         ナイト   6000.0   5.0           1.0   \n",
      "33849      NaN         CA1  ...      オールタイム  10500.0   5.0           1.0   \n",
      "33850      NaN         CA1  ...      オールタイム  10500.0   5.0           1.0   \n",
      "\n",
      "           mean  median   max  min   calc_date  membership_period  \n",
      "0      4.500000     5.0   7.0  2.0  2019-04-30               29.0  \n",
      "1      5.083333     5.0   7.0  3.0  2019-04-30               41.0  \n",
      "2      7.545455     7.0  11.0  4.0  2019-04-30               11.0  \n",
      "3      4.833333     5.0   7.0  3.0  2019-04-30               45.0  \n",
      "4      5.583333     5.5   8.0  4.0  2019-04-30               22.0  \n",
      "...         ...     ...   ...  ...         ...                ...  \n",
      "33846  9.500000     9.5  11.0  8.0  2019-04-30                2.0  \n",
      "33847  8.142857     8.0   9.0  7.0  2019-04-30                7.0  \n",
      "33848  4.916667     5.5   9.0  2.0  2019-04-30               34.0  \n",
      "33849  4.666667     5.0   8.0  1.0  2019-04-30               25.0  \n",
      "33850  4.583333     4.0   7.0  3.0  2019-04-30               24.0  \n",
      "\n",
      "[33851 rows x 22 columns]\n",
      "27422\n",
      "           年月 customer_id  count_0  count_1    name class gender  start_date  \\\n",
      "0      201805    AS002855        5      4.0    XXXX   C03      F  2016-11-01   \n",
      "1      201805    AS009373        4      3.0      XX   C01      F  2015-11-01   \n",
      "2      201805    AS015233        7      NaN   XXXXX   C01      M  2018-05-13   \n",
      "3      201805    AS015315        3      6.0   XXXXX   C01      M  2015-07-01   \n",
      "4      201805    AS015739        5      7.0   XXXXX   C03      M  2017-06-01   \n",
      "...       ...         ...      ...      ...     ...   ...    ...         ...   \n",
      "33846  201903    TS995853        8     11.0    XXXX   C01      M  2019-02-08   \n",
      "33847  201903    TS998593        8      7.0   XXXXX   C03      M  2018-09-01   \n",
      "33848  201903    TS999079        3      2.0     XXX   C03      M  2016-06-01   \n",
      "33849  201903    TS999231        6      6.0    XXXX   C01      M  2017-03-01   \n",
      "33850  201903    TS999855        4      4.0  XXXXXX   C01      F  2017-04-01   \n",
      "\n",
      "      end_date campaign_id  ...  class_name    price count  routine_flag  \\\n",
      "0          NaN         CA1  ...         ナイト   6000.0   5.0           1.0   \n",
      "1          NaN         CA1  ...      オールタイム  10500.0   5.0           1.0   \n",
      "2          NaN         CA2  ...      オールタイム  10500.0   5.0           1.0   \n",
      "3          NaN         CA1  ...      オールタイム  10500.0   5.0           1.0   \n",
      "4          NaN         CA1  ...         ナイト   6000.0   5.0           1.0   \n",
      "...        ...         ...  ...         ...      ...   ...           ...   \n",
      "33846      NaN         CA1  ...      オールタイム  10500.0   5.0           1.0   \n",
      "33847      NaN         CA1  ...         ナイト   6000.0   5.0           1.0   \n",
      "33848      NaN         CA1  ...         ナイト   6000.0   5.0           1.0   \n",
      "33849      NaN         CA1  ...      オールタイム  10500.0   5.0           1.0   \n",
      "33850      NaN         CA1  ...      オールタイム  10500.0   5.0           1.0   \n",
      "\n",
      "           mean  median   max  min   calc_date  membership_period  \n",
      "0      4.500000     5.0   7.0  2.0  2019-04-30               29.0  \n",
      "1      5.083333     5.0   7.0  3.0  2019-04-30               41.0  \n",
      "2      7.545455     7.0  11.0  4.0  2019-04-30               11.0  \n",
      "3      4.833333     5.0   7.0  3.0  2019-04-30               45.0  \n",
      "4      5.583333     5.5   8.0  4.0  2019-04-30               22.0  \n",
      "...         ...     ...   ...  ...         ...                ...  \n",
      "33846  9.500000     9.5  11.0  8.0  2019-04-30                2.0  \n",
      "33847  8.142857     8.0   9.0  7.0  2019-04-30                7.0  \n",
      "33848  4.916667     5.5   9.0  2.0  2019-04-30               34.0  \n",
      "33849  4.666667     5.0   8.0  1.0  2019-04-30               25.0  \n",
      "33850  4.583333     4.0   7.0  3.0  2019-04-30               24.0  \n",
      "\n",
      "[27422 rows x 22 columns]\n"
     ]
    }
   ],
   "source": [
    "conti_customer = customer.loc[customer['is_deleted']==0]\n",
    "conti_use_log = pd.merge(use_log, conti_customer, on=['customer_id'], how='left')\n",
    "print(len(conti_use_log))\n",
    "print(conti_use_log)\n",
    "conti_use_log = conti_use_log.dropna(subset=['name'])\n",
    "print(len(conti_use_log))\n",
    "print(conti_use_log)"
   ]
  },
  {
   "cell_type": "markdown",
   "metadata": {},
   "source": [
    "退会データ`1104`と継続データ`27422`の不均衡を解消するために、継続データをアンダーサンプリングする。  \n",
    "継続データをシャッフルして`customer_id`の重複を削除する。シャッフルしなと特定の年月のだけが残っちゃうよ。"
   ]
  },
  {
   "cell_type": "code",
   "execution_count": 7,
   "metadata": {},
   "outputs": [
    {
     "name": "stdout",
     "output_type": "stream",
     "text": [
      "2842\n",
      "           年月 customer_id  count_0  count_1    name class gender  start_date  \\\n",
      "0      201809    HD552859        7      5.0    XXXX   C03      M  2017-05-01   \n",
      "1      201903    TS413023        5      5.0      XX   C01      M  2015-11-01   \n",
      "2      201808    HI650765        4      7.0    XXXX   C01      M  2015-11-01   \n",
      "3      201810    GD266112        2      4.0     XXX   C03      M  2015-08-01   \n",
      "4      201808    AS818410        6      3.0    XXXX   C01      M  2017-01-01   \n",
      "...       ...         ...      ...      ...     ...   ...    ...         ...   \n",
      "24305  201903    HI785400       11      NaN   XXXXX   C02      F  2019-03-05   \n",
      "24599  201903    AS076940        7      NaN   XXXXX   C01      F  2019-03-12   \n",
      "26060  201903    IK473112        5      NaN    XXXX   C01      F  2019-03-06   \n",
      "26278  201903    HD693171        7      NaN  XXXXXX   C02      F  2019-03-07   \n",
      "27066  201903    HD246549       10      NaN   XXXXX   C01      F  2019-03-14   \n",
      "\n",
      "      end_date campaign_id  ...  class_name    price count  routine_flag  \\\n",
      "0          NaN         CA1  ...         ナイト   6000.0   5.0           1.0   \n",
      "1          NaN         CA1  ...      オールタイム  10500.0   5.0           1.0   \n",
      "2          NaN         CA1  ...      オールタイム  10500.0   5.0           1.0   \n",
      "3          NaN         CA1  ...         ナイト   6000.0   5.0           1.0   \n",
      "4          NaN         CA1  ...      オールタイム  10500.0   5.0           1.0   \n",
      "...        ...         ...  ...         ...      ...   ...           ...   \n",
      "24305      NaN         CA1  ...       デイタイム   7500.0   4.0           1.0   \n",
      "24599      NaN         CA1  ...      オールタイム  10500.0   3.0           0.0   \n",
      "26060      NaN         CA1  ...      オールタイム  10500.0   3.0           0.0   \n",
      "26278      NaN         CA1  ...       デイタイム   7500.0   2.0           0.0   \n",
      "27066      NaN         CA1  ...      オールタイム  10500.0   3.0           0.0   \n",
      "\n",
      "            mean  median   max   min   calc_date  membership_period  \n",
      "0       5.833333     6.0   8.0   4.0  2019-04-30               23.0  \n",
      "1       5.000000     5.0   7.0   2.0  2019-04-30               41.0  \n",
      "2       4.666667     4.5   7.0   3.0  2019-04-30               41.0  \n",
      "3       3.750000     4.0   6.0   2.0  2019-04-30               44.0  \n",
      "4       5.583333     5.5   8.0   3.0  2019-04-30               27.0  \n",
      "...          ...     ...   ...   ...         ...                ...  \n",
      "24305  11.000000    11.0  11.0  11.0  2019-04-30                1.0  \n",
      "24599   7.000000     7.0   7.0   7.0  2019-04-30                1.0  \n",
      "26060   5.000000     5.0   5.0   5.0  2019-04-30                1.0  \n",
      "26278   7.000000     7.0   7.0   7.0  2019-04-30                1.0  \n",
      "27066  10.000000    10.0  10.0  10.0  2019-04-30                1.0  \n",
      "\n",
      "[2842 rows x 22 columns]\n"
     ]
    }
   ],
   "source": [
    "conti_use_log = conti_use_log.sample(frac=1).reset_index(drop=True)\n",
    "conti_use_log = conti_use_log.drop_duplicates(subset=['customer_id'])\n",
    "print(len(conti_use_log))\n",
    "print(conti_use_log)"
   ]
  },
  {
   "cell_type": "markdown",
   "metadata": {},
   "source": [
    "退会顧客と継続顧客を縦に結合する"
   ]
  },
  {
   "cell_type": "code",
   "execution_count": 8,
   "metadata": {},
   "outputs": [
    {
     "name": "stdout",
     "output_type": "stream",
     "text": [
      "3946\n",
      "          年月 customer_id  count_0  count_1    name class gender  start_date  \\\n",
      "0     201809    HD552859        7      5.0    XXXX   C03      M  2017-05-01   \n",
      "1     201903    TS413023        5      5.0      XX   C01      M  2015-11-01   \n",
      "2     201808    HI650765        4      7.0    XXXX   C01      M  2015-11-01   \n",
      "3     201810    GD266112        2      4.0     XXX   C03      M  2015-08-01   \n",
      "4     201808    AS818410        6      3.0    XXXX   C01      M  2017-01-01   \n",
      "...      ...         ...      ...      ...     ...   ...    ...         ...   \n",
      "3941  201902    TS645212        4      2.0    XXXX   C03      F  2018-03-01   \n",
      "3942  201902    TS741703        5      6.0    XXXX   C03      M  2018-12-08   \n",
      "3943  201902    TS859258        1      3.0   XXXXX   C02      F  2018-12-07   \n",
      "3944  201902    TS886985        5      3.0     XXX   C02      F  2018-03-01   \n",
      "3945  201902    TS921837        2      3.0  XXXXXX   C01      M  2018-06-04   \n",
      "\n",
      "                 end_date campaign_id  ...    price count routine_flag  \\\n",
      "0                     NaN         CA1  ...   6000.0   5.0          1.0   \n",
      "1                     NaN         CA1  ...  10500.0   5.0          1.0   \n",
      "2                     NaN         CA1  ...  10500.0   5.0          1.0   \n",
      "3                     NaN         CA1  ...   6000.0   5.0          1.0   \n",
      "4                     NaN         CA1  ...  10500.0   5.0          1.0   \n",
      "...                   ...         ...  ...      ...   ...          ...   \n",
      "3941  2019-03-31 00:00:00         CA1  ...   6000.0   3.0          0.0   \n",
      "3942  2019-03-31 00:00:00         CA3  ...   6000.0   3.0          0.0   \n",
      "3943  2019-03-31 00:00:00         CA3  ...   7500.0   2.0          0.0   \n",
      "3944  2019-03-31 00:00:00         CA1  ...   7500.0   4.0          1.0   \n",
      "3945  2019-03-31 00:00:00         CA2  ...  10500.0   4.0          1.0   \n",
      "\n",
      "          mean  median  max  min   calc_date  membership_period  \\\n",
      "0     5.833333     6.0  8.0  4.0  2019-04-30               23.0   \n",
      "1     5.000000     5.0  7.0  2.0  2019-04-30               41.0   \n",
      "2     4.666667     4.5  7.0  3.0  2019-04-30               41.0   \n",
      "3     3.750000     4.0  6.0  2.0  2019-04-30               44.0   \n",
      "4     5.583333     5.5  8.0  3.0  2019-04-30               27.0   \n",
      "...        ...     ...  ...  ...         ...                ...   \n",
      "3941  4.500000     4.5  7.0  1.0  2019-03-31               12.0   \n",
      "3942  6.250000     6.0  8.0  5.0  2019-03-31                3.0   \n",
      "3943  2.500000     2.0  5.0  1.0  2019-03-31                3.0   \n",
      "3944  4.250000     4.0  7.0  2.0  2019-03-31               12.0   \n",
      "3945  4.000000     3.5  9.0  2.0  2019-03-31                9.0   \n",
      "\n",
      "                exit_date  \n",
      "0                     NaN  \n",
      "1                     NaN  \n",
      "2                     NaN  \n",
      "3                     NaN  \n",
      "4                     NaN  \n",
      "...                   ...  \n",
      "3941  2019-02-28 00:00:00  \n",
      "3942  2019-02-28 00:00:00  \n",
      "3943  2019-02-28 00:00:00  \n",
      "3944  2019-02-28 00:00:00  \n",
      "3945  2019-02-28 00:00:00  \n",
      "\n",
      "[3946 rows x 23 columns]\n"
     ]
    }
   ],
   "source": [
    "predict_data = pd.concat([conti_use_log, exit_use_log], ignore_index=True)\n",
    "print(len(predict_data))\n",
    "print(predict_data)"
   ]
  },
  {
   "cell_type": "markdown",
   "metadata": {},
   "source": [
    "変数の追加を行う  \n",
    "データが時間軸を持ったデータなので、そのデータ時点での在籍期間をデータに追加する。"
   ]
  },
  {
   "cell_type": "code",
   "execution_count": 9,
   "metadata": {},
   "outputs": [
    {
     "name": "stderr",
     "output_type": "stream",
     "text": [
      "/tmp/ipykernel_88127/2156544981.py:6: SettingWithCopyWarning: \n",
      "A value is trying to be set on a copy of a slice from a DataFrame\n",
      "\n",
      "See the caveats in the documentation: https://pandas.pydata.org/pandas-docs/stable/user_guide/indexing.html#returning-a-view-versus-a-copy\n",
      "  predict_data['period'][i] = int(delta.years*12 + delta.months)\n"
     ]
    },
    {
     "name": "stdout",
     "output_type": "stream",
     "text": [
      "          年月 customer_id  count_0  count_1    name class gender start_date  \\\n",
      "0     201809    HD552859        7      5.0    XXXX   C03      M 2017-05-01   \n",
      "1     201903    TS413023        5      5.0      XX   C01      M 2015-11-01   \n",
      "2     201808    HI650765        4      7.0    XXXX   C01      M 2015-11-01   \n",
      "3     201810    GD266112        2      4.0     XXX   C03      M 2015-08-01   \n",
      "4     201808    AS818410        6      3.0    XXXX   C01      M 2017-01-01   \n",
      "...      ...         ...      ...      ...     ...   ...    ...        ...   \n",
      "3941  201902    TS645212        4      2.0    XXXX   C03      F 2018-03-01   \n",
      "3942  201902    TS741703        5      6.0    XXXX   C03      M 2018-12-08   \n",
      "3943  201902    TS859258        1      3.0   XXXXX   C02      F 2018-12-07   \n",
      "3944  201902    TS886985        5      3.0     XXX   C02      F 2018-03-01   \n",
      "3945  201902    TS921837        2      3.0  XXXXXX   C01      M 2018-06-04   \n",
      "\n",
      "                 end_date campaign_id  ...  routine_flag      mean median  \\\n",
      "0                     NaN         CA1  ...           1.0  5.833333    6.0   \n",
      "1                     NaN         CA1  ...           1.0  5.000000    5.0   \n",
      "2                     NaN         CA1  ...           1.0  4.666667    4.5   \n",
      "3                     NaN         CA1  ...           1.0  3.750000    4.0   \n",
      "4                     NaN         CA1  ...           1.0  5.583333    5.5   \n",
      "...                   ...         ...  ...           ...       ...    ...   \n",
      "3941  2019-03-31 00:00:00         CA1  ...           0.0  4.500000    4.5   \n",
      "3942  2019-03-31 00:00:00         CA3  ...           0.0  6.250000    6.0   \n",
      "3943  2019-03-31 00:00:00         CA3  ...           0.0  2.500000    2.0   \n",
      "3944  2019-03-31 00:00:00         CA1  ...           1.0  4.250000    4.0   \n",
      "3945  2019-03-31 00:00:00         CA2  ...           1.0  4.000000    3.5   \n",
      "\n",
      "      max  min   calc_date  membership_period            exit_date  period  \\\n",
      "0     8.0  4.0  2019-04-30               23.0                  NaN      16   \n",
      "1     7.0  2.0  2019-04-30               41.0                  NaN      40   \n",
      "2     7.0  3.0  2019-04-30               41.0                  NaN      33   \n",
      "3     6.0  2.0  2019-04-30               44.0                  NaN      38   \n",
      "4     8.0  3.0  2019-04-30               27.0                  NaN      19   \n",
      "...   ...  ...         ...                ...                  ...     ...   \n",
      "3941  7.0  1.0  2019-03-31               12.0  2019-02-28 00:00:00      11   \n",
      "3942  8.0  5.0  2019-03-31                3.0  2019-02-28 00:00:00       1   \n",
      "3943  5.0  1.0  2019-03-31                3.0  2019-02-28 00:00:00       1   \n",
      "3944  7.0  2.0  2019-03-31               12.0  2019-02-28 00:00:00      11   \n",
      "3945  9.0  2.0  2019-03-31                9.0  2019-02-28 00:00:00       7   \n",
      "\n",
      "       now_date  \n",
      "0    2018-09-01  \n",
      "1    2019-03-01  \n",
      "2    2018-08-01  \n",
      "3    2018-10-01  \n",
      "4    2018-08-01  \n",
      "...         ...  \n",
      "3941 2019-02-01  \n",
      "3942 2019-02-01  \n",
      "3943 2019-02-01  \n",
      "3944 2019-02-01  \n",
      "3945 2019-02-01  \n",
      "\n",
      "[3946 rows x 25 columns]\n"
     ]
    }
   ],
   "source": [
    "predict_data['period'] = 0\n",
    "predict_data['now_date'] = pd.to_datetime(predict_data['年月'], format=\"%Y%m\")\n",
    "predict_data['start_date'] = pd.to_datetime(predict_data['start_date'])\n",
    "for i in range(len(predict_data)):\n",
    "    delta = relativedelta(predict_data['now_date'][i], predict_data['start_date'][i])\n",
    "    predict_data['period'][i] = int(delta.years*12 + delta.months)\n",
    "\n",
    "print(predict_data)\n"
   ]
  },
  {
   "cell_type": "markdown",
   "metadata": {},
   "source": [
    "欠損値の除去を行う  \n",
    "結果から、`count_1`と`end_date`、`exit_date`に欠損があることがわかる  \n",
    "`end_date`と`exit_date`は退会顧客しか値がないので値がないのは正常である。  \n",
    "`cout_1`が欠損の行だけ削除を行う"
   ]
  },
  {
   "cell_type": "code",
   "execution_count": 10,
   "metadata": {},
   "outputs": [
    {
     "data": {
      "text/plain": [
       "年月                      0\n",
       "customer_id             0\n",
       "count_0                 0\n",
       "count_1               257\n",
       "name                    0\n",
       "class                   0\n",
       "gender                  0\n",
       "start_date              0\n",
       "end_date             2842\n",
       "campaign_id             0\n",
       "is_deleted              0\n",
       "campaign_name           0\n",
       "class_name              0\n",
       "price                   0\n",
       "count                   0\n",
       "routine_flag            0\n",
       "mean                    0\n",
       "median                  0\n",
       "max                     0\n",
       "min                     0\n",
       "calc_date               0\n",
       "membership_period       0\n",
       "exit_date            2842\n",
       "period                  0\n",
       "now_date                0\n",
       "dtype: int64"
      ]
     },
     "execution_count": 10,
     "metadata": {},
     "output_type": "execute_result"
    }
   ],
   "source": [
    "predict_data.isna().sum()"
   ]
  },
  {
   "cell_type": "code",
   "execution_count": 12,
   "metadata": {},
   "outputs": [
    {
     "data": {
      "text/plain": [
       "年月                      0\n",
       "customer_id             0\n",
       "count_0                 0\n",
       "count_1                 0\n",
       "name                    0\n",
       "class                   0\n",
       "gender                  0\n",
       "start_date              0\n",
       "end_date             2637\n",
       "campaign_id             0\n",
       "is_deleted              0\n",
       "campaign_name           0\n",
       "class_name              0\n",
       "price                   0\n",
       "count                   0\n",
       "routine_flag            0\n",
       "mean                    0\n",
       "median                  0\n",
       "max                     0\n",
       "min                     0\n",
       "calc_date               0\n",
       "membership_period       0\n",
       "exit_date            2637\n",
       "period                  0\n",
       "now_date                0\n",
       "dtype: int64"
      ]
     },
     "execution_count": 12,
     "metadata": {},
     "output_type": "execute_result"
    }
   ],
   "source": [
    "predict_data = predict_data.dropna(subset=['count_1'])\n",
    "predict_data.isna().sum()"
   ]
  },
  {
   "cell_type": "markdown",
   "metadata": {},
   "source": [
    "ここまでの整理  \n",
    "一ヶ月前の利用回数: `count_1`  \n",
    "今月の利用回数: `count_0`"
   ]
  },
  {
   "cell_type": "code",
   "execution_count": 13,
   "metadata": {},
   "outputs": [
    {
     "name": "stdout",
     "output_type": "stream",
     "text": [
      "     campaign_name class_name gender  count_1  routine_flag  period  \\\n",
      "0               通常        ナイト      M      5.0           1.0      16   \n",
      "1               通常     オールタイム      M      5.0           1.0      40   \n",
      "2               通常     オールタイム      M      7.0           1.0      33   \n",
      "3               通常        ナイト      M      4.0           1.0      38   \n",
      "4               通常     オールタイム      M      3.0           1.0      19   \n",
      "...            ...        ...    ...      ...           ...     ...   \n",
      "3941            通常        ナイト      F      2.0           0.0      11   \n",
      "3942         入会費無料        ナイト      M      6.0           0.0       1   \n",
      "3943         入会費無料      デイタイム      F      3.0           0.0       1   \n",
      "3944            通常      デイタイム      F      3.0           1.0      11   \n",
      "3945         入会費半額     オールタイム      M      3.0           1.0       7   \n",
      "\n",
      "      is_deleted  \n",
      "0            0.0  \n",
      "1            0.0  \n",
      "2            0.0  \n",
      "3            0.0  \n",
      "4            0.0  \n",
      "...          ...  \n",
      "3941         1.0  \n",
      "3942         1.0  \n",
      "3943         1.0  \n",
      "3944         1.0  \n",
      "3945         1.0  \n",
      "\n",
      "[3689 rows x 7 columns]\n"
     ]
    }
   ],
   "source": [
    "traget_col = ['campaign_name', 'class_name', 'gender', 'count_1', 'routine_flag', 'period', 'is_deleted']\n",
    "predict_data = predict_data[traget_col]\n",
    "print(predict_data)"
   ]
  },
  {
   "cell_type": "markdown",
   "metadata": {},
   "source": [
    "`get_dummies`を利用して`ワンホットエンコード`を行う"
   ]
  },
  {
   "cell_type": "code",
   "execution_count": 14,
   "metadata": {},
   "outputs": [
    {
     "name": "stdout",
     "output_type": "stream",
     "text": [
      "      count_1  routine_flag  period  is_deleted  campaign_name_入会費半額  \\\n",
      "0         5.0           1.0      16         0.0                    0   \n",
      "1         5.0           1.0      40         0.0                    0   \n",
      "2         7.0           1.0      33         0.0                    0   \n",
      "3         4.0           1.0      38         0.0                    0   \n",
      "4         3.0           1.0      19         0.0                    0   \n",
      "...       ...           ...     ...         ...                  ...   \n",
      "3941      2.0           0.0      11         1.0                    0   \n",
      "3942      6.0           0.0       1         1.0                    0   \n",
      "3943      3.0           0.0       1         1.0                    0   \n",
      "3944      3.0           1.0      11         1.0                    0   \n",
      "3945      3.0           1.0       7         1.0                    1   \n",
      "\n",
      "      campaign_name_入会費無料  campaign_name_通常  class_name_オールタイム  \\\n",
      "0                       0                 1                  0   \n",
      "1                       0                 1                  1   \n",
      "2                       0                 1                  1   \n",
      "3                       0                 1                  0   \n",
      "4                       0                 1                  1   \n",
      "...                   ...               ...                ...   \n",
      "3941                    0                 1                  0   \n",
      "3942                    1                 0                  0   \n",
      "3943                    1                 0                  0   \n",
      "3944                    0                 1                  0   \n",
      "3945                    0                 0                  1   \n",
      "\n",
      "      class_name_デイタイム  class_name_ナイト  gender_F  gender_M  \n",
      "0                    0               1         0         1  \n",
      "1                    0               0         0         1  \n",
      "2                    0               0         0         1  \n",
      "3                    0               1         0         1  \n",
      "4                    0               0         0         1  \n",
      "...                ...             ...       ...       ...  \n",
      "3941                 0               1         1         0  \n",
      "3942                 0               1         0         1  \n",
      "3943                 1               0         1         0  \n",
      "3944                 1               0         1         0  \n",
      "3945                 0               0         0         1  \n",
      "\n",
      "[3689 rows x 12 columns]\n"
     ]
    }
   ],
   "source": [
    "predict_data = pd.get_dummies(predict_data)\n",
    "print(predict_data)"
   ]
  },
  {
   "cell_type": "markdown",
   "metadata": {},
   "source": [
    "ワンホットエンコードでは1列は冗長なので削除を行う"
   ]
  },
  {
   "cell_type": "code",
   "execution_count": 15,
   "metadata": {},
   "outputs": [
    {
     "name": "stdout",
     "output_type": "stream",
     "text": [
      "      count_1  routine_flag  period  is_deleted  campaign_name_入会費半額  \\\n",
      "0         5.0           1.0      16         0.0                    0   \n",
      "1         5.0           1.0      40         0.0                    0   \n",
      "2         7.0           1.0      33         0.0                    0   \n",
      "3         4.0           1.0      38         0.0                    0   \n",
      "4         3.0           1.0      19         0.0                    0   \n",
      "...       ...           ...     ...         ...                  ...   \n",
      "3941      2.0           0.0      11         1.0                    0   \n",
      "3942      6.0           0.0       1         1.0                    0   \n",
      "3943      3.0           0.0       1         1.0                    0   \n",
      "3944      3.0           1.0      11         1.0                    0   \n",
      "3945      3.0           1.0       7         1.0                    1   \n",
      "\n",
      "      campaign_name_入会費無料  class_name_オールタイム  class_name_デイタイム  gender_F  \n",
      "0                       0                  0                 0         0  \n",
      "1                       0                  1                 0         0  \n",
      "2                       0                  1                 0         0  \n",
      "3                       0                  0                 0         0  \n",
      "4                       0                  1                 0         0  \n",
      "...                   ...                ...               ...       ...  \n",
      "3941                    0                  0                 0         1  \n",
      "3942                    1                  0                 0         0  \n",
      "3943                    1                  0                 1         1  \n",
      "3944                    0                  0                 1         1  \n",
      "3945                    0                  1                 0         0  \n",
      "\n",
      "[3689 rows x 9 columns]\n"
     ]
    }
   ],
   "source": [
    "del predict_data['gender_M']\n",
    "del predict_data['class_name_ナイト']\n",
    "del predict_data['campaign_name_通常']\n",
    "print(predict_data)"
   ]
  },
  {
   "cell_type": "markdown",
   "metadata": {},
   "source": [
    "いよいよ決定木を使って退会の予測を行う\n",
    "\n",
    "```\n",
    "X: 説明変数\n",
    "y: 目的変数\n",
    "\n",
    "X_train: 学習用の説明変数\n",
    "y_train: 学習用の目的変数\n",
    "X_test: テスト用の説明変数\n",
    "y_test: テスト用の目的変数\n",
    "```"
   ]
  },
  {
   "cell_type": "code",
   "execution_count": 19,
   "metadata": {},
   "outputs": [
    {
     "name": "stdout",
     "output_type": "stream",
     "text": [
      "      count_1  routine_flag  period  is_deleted  campaign_name_入会費半額  \\\n",
      "2842      3.0           0.0       2         1.0                    0   \n",
      "2843      3.0           1.0       6         1.0                    0   \n",
      "2844      3.0           0.0      11         1.0                    0   \n",
      "2845      3.0           0.0       3         1.0                    0   \n",
      "2846      4.0           0.0       8         1.0                    0   \n",
      "...       ...           ...     ...         ...                  ...   \n",
      "3941      2.0           0.0      11         1.0                    0   \n",
      "3942      6.0           0.0       1         1.0                    0   \n",
      "3943      3.0           0.0       1         1.0                    0   \n",
      "3944      3.0           1.0      11         1.0                    0   \n",
      "3945      3.0           1.0       7         1.0                    1   \n",
      "\n",
      "      campaign_name_入会費無料  class_name_オールタイム  class_name_デイタイム  gender_F  \n",
      "2842                    0                  1                 0         0  \n",
      "2843                    0                  1                 0         0  \n",
      "2844                    0                  1                 0         0  \n",
      "2845                    0                  1                 0         0  \n",
      "2846                    0                  0                 0         1  \n",
      "...                   ...                ...               ...       ...  \n",
      "3941                    0                  0                 0         1  \n",
      "3942                    1                  0                 0         0  \n",
      "3943                    1                  0                 1         1  \n",
      "3944                    0                  0                 1         1  \n",
      "3945                    0                  1                 0         0  \n",
      "\n",
      "[1052 rows x 9 columns]\n",
      "      count_1  routine_flag  period  is_deleted  campaign_name_入会費半額  \\\n",
      "1100      8.0           1.0       6         0.0                    1   \n",
      "1474      6.0           1.0      23         0.0                    0   \n",
      "563       6.0           1.0      22         0.0                    0   \n",
      "1493      4.0           1.0      21         0.0                    0   \n",
      "2068      6.0           1.0      15         0.0                    0   \n",
      "...       ...           ...     ...         ...                  ...   \n",
      "2368      7.0           1.0      17         0.0                    0   \n",
      "1047      5.0           1.0      39         0.0                    0   \n",
      "2178      2.0           1.0      17         0.0                    0   \n",
      "1679      4.0           1.0      27         0.0                    0   \n",
      "1866      8.0           1.0      18         0.0                    0   \n",
      "\n",
      "      campaign_name_入会費無料  class_name_オールタイム  class_name_デイタイム  gender_F  \n",
      "1100                    0                  0                 0         0  \n",
      "1474                    0                  1                 0         1  \n",
      "563                     0                  0                 0         0  \n",
      "1493                    0                  0                 1         1  \n",
      "2068                    0                  0                 1         1  \n",
      "...                   ...                ...               ...       ...  \n",
      "2368                    0                  1                 0         0  \n",
      "1047                    0                  0                 0         0  \n",
      "2178                    0                  1                 0         0  \n",
      "1679                    0                  1                 0         1  \n",
      "1866                    0                  1                 0         1  \n",
      "\n",
      "[1052 rows x 9 columns]\n",
      "[0. 1. 1. 1. 1. 0. 0. 0. 1. 1. 1. 1. 0. 0. 0. 0. 0. 0. 0. 0. 1. 0. 0. 1.\n",
      " 0. 0. 0. 1. 1. 0. 0. 0. 1. 0. 1. 0. 1. 1. 1. 0. 0. 0. 1. 1. 1. 0. 1. 0.\n",
      " 1. 0. 0. 0. 0. 0. 1. 1. 0. 0. 0. 0. 1. 0. 0. 0. 0. 0. 0. 0. 1. 0. 1. 1.\n",
      " 1. 1. 0. 0. 1. 1. 0. 0. 0. 1. 0. 1. 1. 1. 1. 0. 1. 1. 0. 1. 1. 0. 0. 0.\n",
      " 0. 0. 1. 1. 0. 1. 0. 0. 1. 1. 0. 0. 0. 1. 0. 1. 0. 0. 0. 1. 1. 1. 1. 0.\n",
      " 0. 0. 0. 0. 1. 0. 0. 1. 0. 0. 0. 0. 1. 0. 0. 1. 0. 1. 1. 1. 0. 0. 0. 1.\n",
      " 1. 0. 0. 0. 1. 1. 1. 1. 1. 0. 1. 1. 0. 1. 1. 1. 0. 0. 0. 0. 0. 0. 1. 0.\n",
      " 0. 0. 0. 0. 0. 0. 0. 0. 0. 0. 0. 0. 0. 0. 1. 1. 0. 0. 0. 0. 0. 0. 1. 0.\n",
      " 0. 1. 0. 1. 1. 0. 1. 1. 1. 1. 0. 1. 1. 0. 1. 0. 1. 1. 0. 0. 1. 1. 0. 1.\n",
      " 1. 0. 0. 0. 0. 1. 0. 0. 0. 1. 0. 0. 1. 0. 1. 0. 1. 0. 0. 1. 0. 0. 0. 0.\n",
      " 1. 1. 0. 1. 1. 1. 0. 0. 1. 1. 1. 0. 0. 1. 0. 1. 1. 1. 1. 1. 1. 0. 0. 0.\n",
      " 0. 1. 1. 1. 1. 0. 1. 0. 0. 1. 1. 1. 0. 1. 1. 1. 1. 1. 1. 0. 0. 0. 1. 0.\n",
      " 0. 0. 0. 0. 0. 1. 1. 0. 0. 0. 0. 1. 1. 0. 1. 0. 1. 0. 0. 0. 1. 0. 1. 0.\n",
      " 0. 1. 1. 0. 0. 1. 1. 0. 0. 0. 1. 0. 1. 0. 0. 1. 1. 0. 1. 0. 0. 1. 1. 0.\n",
      " 0. 0. 1. 0. 1. 0. 1. 0. 0. 1. 1. 1. 1. 0. 1. 1. 0. 1. 1. 0. 0. 0. 1. 0.\n",
      " 1. 0. 1. 0. 1. 0. 1. 1. 1. 0. 0. 0. 1. 1. 0. 0. 1. 1. 0. 1. 1. 1. 0. 0.\n",
      " 1. 0. 0. 0. 1. 0. 0. 0. 0. 0. 0. 0. 1. 0. 0. 1. 1. 1. 1. 1. 0. 0. 0. 0.\n",
      " 0. 0. 0. 0. 1. 0. 1. 0. 0. 0. 1. 1. 1. 1. 0. 0. 0. 0. 0. 1. 0. 1. 1. 0.\n",
      " 0. 0. 1. 1. 1. 1. 1. 0. 1. 0. 0. 1. 1. 1. 0. 0. 0. 1. 0. 1. 1. 0. 0. 0.\n",
      " 0. 0. 0. 0. 0. 1. 0. 1. 1. 0. 1. 1. 1. 1. 1. 0. 1. 0. 0. 0. 1. 0. 0. 1.\n",
      " 0. 0. 0. 0. 0. 1. 1. 1. 1. 1. 0. 0. 1. 1. 1. 0. 0. 0. 0. 0. 0. 1. 0. 1.\n",
      " 1. 0. 1. 1. 0. 0. 1. 0. 0. 1. 0. 0. 0. 0. 0. 1. 1. 1. 1. 1. 0. 1.]\n"
     ]
    }
   ],
   "source": [
    "from sklearn.tree import DecisionTreeClassifier\n",
    "import sklearn.model_selection\n",
    "\n",
    "# 退会者と継続者を同じ数だけ取得する\n",
    "exit = predict_data.loc[predict_data['is_deleted'] == 1]\n",
    "conti = predict_data.loc[predict_data['is_deleted'] == 0].sample(len(exit))\n",
    "print(exit)\n",
    "print(conti)\n",
    "\n",
    "X = pd.concat([exit, conti], ignore_index=True) # 学習の説明変数\n",
    "y = X['is_deleted']  # 学習用の目的変数\n",
    "del X['is_deleted']  # 学習データには退会結果はいらないので削除\n",
    "X_train, X_test, y_train, y_test = sklearn.model_selection.train_test_split(X, y)  # データを分割\n",
    "model = DecisionTreeClassifier(random_state=0)  # モデルをインスタンス化\n",
    "model.fit(X_train, y_train) # 学習\n",
    "y_test_pred = model.predict(X_test) # 予測実施\n",
    "print(y_test_pred)"
   ]
  },
  {
   "cell_type": "code",
   "execution_count": 20,
   "metadata": {},
   "outputs": [
    {
     "name": "stdout",
     "output_type": "stream",
     "text": [
      "      y_test  y_pred\n",
      "780      1.0     0.0\n",
      "1808     0.0     1.0\n",
      "460      1.0     1.0\n",
      "264      1.0     1.0\n",
      "161      1.0     1.0\n",
      "...      ...     ...\n",
      "590      1.0     1.0\n",
      "103      1.0     1.0\n",
      "58       1.0     1.0\n",
      "1715     0.0     0.0\n",
      "514      1.0     1.0\n",
      "\n",
      "[526 rows x 2 columns]\n"
     ]
    }
   ],
   "source": [
    "result_test = pd.DataFrame({'y_test':y_test, 'y_pred':y_test_pred})\n",
    "print(result_test)"
   ]
  },
  {
   "cell_type": "markdown",
   "metadata": {},
   "source": [
    "モデルの評価を行う"
   ]
  },
  {
   "cell_type": "code",
   "execution_count": 22,
   "metadata": {},
   "outputs": [
    {
     "name": "stdout",
     "output_type": "stream",
     "text": [
      "精度: 0.8916349809885932\n"
     ]
    }
   ],
   "source": [
    "correct = len(result_test.loc[result_test['y_test'] == result_test['y_pred']])\n",
    "data_count = len(result_test)\n",
    "score_test = correct / data_count\n",
    "print('精度:', score_test)"
   ]
  },
  {
   "cell_type": "code",
   "execution_count": 24,
   "metadata": {},
   "outputs": [
    {
     "name": "stdout",
     "output_type": "stream",
     "text": [
      "テスト精度: 0.8916349809885932\n",
      "学習精度: 0.9797211660329531\n"
     ]
    }
   ],
   "source": [
    "print('テスト精度:', model.score(X_test, y_test))\n",
    "print('学習精度:', model.score(X_train, y_train))"
   ]
  },
  {
   "cell_type": "markdown",
   "metadata": {},
   "source": [
    "決定木の深さを変更してモデルの簡易化を行う"
   ]
  },
  {
   "cell_type": "code",
   "execution_count": 36,
   "metadata": {},
   "outputs": [
    {
     "name": "stdout",
     "output_type": "stream",
     "text": [
      "テスト精度: 0.9068441064638784\n",
      "学習精度: 0.9803548795944234\n"
     ]
    }
   ],
   "source": [
    "X = pd.concat([exit, conti], ignore_index=True) # 学習の説明変数\n",
    "y = X['is_deleted']  # 学習用の目的変数\n",
    "del X['is_deleted']  # 学習データには退会結果はいらないので削除\n",
    "X_train, X_test, y_train, y_test = sklearn.model_selection.train_test_split(X, y)  # データを分割\n",
    "\n",
    "mdoel = DecisionTreeClassifier(random_state=0, max_depth=4)\n",
    "model.fit(X_train, y_train)\n",
    "print('テスト精度:', model.score(X_test, y_test))\n",
    "print('学習精度:', model.score(X_train, y_train))"
   ]
  },
  {
   "cell_type": "markdown",
   "metadata": {},
   "source": [
    "モデルに関与している説明変数を確認"
   ]
  },
  {
   "cell_type": "code",
   "execution_count": 37,
   "metadata": {},
   "outputs": [
    {
     "name": "stdout",
     "output_type": "stream",
     "text": [
      "          feature_name  coefficient\n",
      "0              count_1     0.333898\n",
      "1         routine_flag     0.111744\n",
      "2               period     0.454431\n",
      "3  campaign_name_入会費半額     0.017460\n",
      "4  campaign_name_入会費無料     0.023853\n",
      "5    class_name_オールタイム     0.025853\n",
      "6     class_name_デイタイム     0.011279\n",
      "7             gender_F     0.021483\n"
     ]
    }
   ],
   "source": [
    "importance = pd.DataFrame({'feature_name': X.columns, 'coefficient':model.feature_importances_})\n",
    "print(importance)"
   ]
  },
  {
   "cell_type": "code",
   "execution_count": null,
   "metadata": {},
   "outputs": [],
   "source": []
  }
 ],
 "metadata": {
  "kernelspec": {
   "display_name": "Python 3.8.13 64-bit",
   "language": "python",
   "name": "python3"
  },
  "language_info": {
   "codemirror_mode": {
    "name": "ipython",
    "version": 3
   },
   "file_extension": ".py",
   "mimetype": "text/x-python",
   "name": "python",
   "nbconvert_exporter": "python",
   "pygments_lexer": "ipython3",
   "version": "3.8.13"
  },
  "orig_nbformat": 4,
  "vscode": {
   "interpreter": {
    "hash": "949777d72b0d2535278d3dc13498b2535136f6dfe0678499012e853ee9abcab1"
   }
  }
 },
 "nbformat": 4,
 "nbformat_minor": 2
}
